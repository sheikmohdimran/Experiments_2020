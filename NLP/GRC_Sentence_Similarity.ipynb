{
  "nbformat": 4,
  "nbformat_minor": 0,
  "metadata": {
    "colab": {
      "name": "GRC_Sentence_Similarity.ipynb",
      "provenance": [],
      "include_colab_link": true
    },
    "kernelspec": {
      "name": "python3",
      "display_name": "Python 3"
    }
  },
  "cells": [
    {
      "cell_type": "markdown",
      "metadata": {
        "id": "view-in-github",
        "colab_type": "text"
      },
      "source": [
        "<a href=\"https://colab.research.google.com/github/sheikmohdimran/Experiments_2020/blob/master/NLP/GRC_Sentence_Similarity.ipynb\" target=\"_parent\"><img src=\"https://colab.research.google.com/assets/colab-badge.svg\" alt=\"Open In Colab\"/></a>"
      ]
    },
    {
      "cell_type": "code",
      "metadata": {
        "id": "0QV2DdQctQs2",
        "colab_type": "code",
        "colab": {
          "base_uri": "https://localhost:8080/",
          "height": 272
        },
        "outputId": "066167f0-d14a-4bb3-b8fc-05c4d29d78aa"
      },
      "source": [
        "!pip -q install flair==0.4.3"
      ],
      "execution_count": 1,
      "outputs": [
        {
          "output_type": "stream",
          "text": [
            "\u001b[K     |████████████████████████████████| 184kB 2.7MB/s \n",
            "\u001b[K     |████████████████████████████████| 778kB 4.9MB/s \n",
            "\u001b[K     |████████████████████████████████| 1.0MB 8.1MB/s \n",
            "\u001b[K     |████████████████████████████████| 798kB 15.9MB/s \n",
            "\u001b[K     |████████████████████████████████| 184kB 20.4MB/s \n",
            "\u001b[K     |████████████████████████████████| 1.0MB 20.9MB/s \n",
            "\u001b[K     |████████████████████████████████| 348kB 27.2MB/s \n",
            "\u001b[K     |████████████████████████████████| 870kB 30.1MB/s \n",
            "\u001b[?25h  Building wheel for langdetect (setup.py) ... \u001b[?25l\u001b[?25hdone\n",
            "  Building wheel for sqlitedict (setup.py) ... \u001b[?25l\u001b[?25hdone\n",
            "  Building wheel for mpld3 (setup.py) ... \u001b[?25l\u001b[?25hdone\n",
            "  Building wheel for segtok (setup.py) ... \u001b[?25l\u001b[?25hdone\n",
            "  Building wheel for sacremoses (setup.py) ... \u001b[?25l\u001b[?25hdone\n",
            "\u001b[31mERROR: jupyter-console 5.2.0 has requirement prompt-toolkit<2.0.0,>=1.0.0, but you'll have prompt-toolkit 2.0.10 which is incompatible.\u001b[0m\n",
            "\u001b[31mERROR: google-colab 1.0.0 has requirement ipython~=5.5.0, but you'll have ipython 7.6.1 which is incompatible.\u001b[0m\n"
          ],
          "name": "stdout"
        }
      ]
    },
    {
      "cell_type": "code",
      "metadata": {
        "id": "AP6p-sRitS0d",
        "colab_type": "code",
        "colab": {
          "base_uri": "https://localhost:8080/",
          "height": 343
        },
        "outputId": "9350f3ad-ded7-4be2-f61e-0a93d765ae6a"
      },
      "source": [
        "import torch\n",
        "from flair.data import Sentence\n",
        "from flair.embeddings import FlairEmbeddings, DocumentPoolEmbeddings, WordEmbeddings\n",
        "\n",
        "embeddings = DocumentPoolEmbeddings([WordEmbeddings('glove'), FlairEmbeddings('news-forward'), FlairEmbeddings('news-backward')])\n"
      ],
      "execution_count": 2,
      "outputs": [
        {
          "output_type": "stream",
          "text": [
            "2020-01-07 11:13:39,520 https://s3.eu-central-1.amazonaws.com/alan-nlp/resources/embeddings/glove.gensim.vectors.npy not found in cache, downloading to /tmp/tmp5u2g9n9c\n"
          ],
          "name": "stdout"
        },
        {
          "output_type": "stream",
          "text": [
            "100%|██████████| 160000128/160000128 [00:06<00:00, 24004098.28B/s]"
          ],
          "name": "stderr"
        },
        {
          "output_type": "stream",
          "text": [
            "2020-01-07 11:13:46,690 copying /tmp/tmp5u2g9n9c to cache at /root/.flair/embeddings/glove.gensim.vectors.npy\n"
          ],
          "name": "stdout"
        },
        {
          "output_type": "stream",
          "text": [
            "\n"
          ],
          "name": "stderr"
        },
        {
          "output_type": "stream",
          "text": [
            "2020-01-07 11:13:47,069 removing temp file /tmp/tmp5u2g9n9c\n",
            "2020-01-07 11:13:47,637 https://s3.eu-central-1.amazonaws.com/alan-nlp/resources/embeddings/glove.gensim not found in cache, downloading to /tmp/tmp5tbr851z\n"
          ],
          "name": "stdout"
        },
        {
          "output_type": "stream",
          "text": [
            "100%|██████████| 21494764/21494764 [00:01<00:00, 11859381.38B/s]"
          ],
          "name": "stderr"
        },
        {
          "output_type": "stream",
          "text": [
            "2020-01-07 11:13:49,902 copying /tmp/tmp5tbr851z to cache at /root/.flair/embeddings/glove.gensim\n",
            "2020-01-07 11:13:49,925 removing temp file /tmp/tmp5tbr851z\n"
          ],
          "name": "stdout"
        },
        {
          "output_type": "stream",
          "text": [
            "\n",
            "/usr/local/lib/python3.6/dist-packages/smart_open/smart_open_lib.py:402: UserWarning: This function is deprecated, use smart_open.open instead. See the migration notes for details: https://github.com/RaRe-Technologies/smart_open/blob/master/README.rst#migrating-to-the-new-open-function\n",
            "  'See the migration notes for details: %s' % _MIGRATION_NOTES_URL\n"
          ],
          "name": "stderr"
        },
        {
          "output_type": "stream",
          "text": [
            "2020-01-07 11:13:51,994 https://s3.eu-central-1.amazonaws.com/alan-nlp/resources/embeddings-v0.4.1/big-news-forward--h2048-l1-d0.05-lr30-0.25-20/news-forward-0.4.1.pt not found in cache, downloading to /tmp/tmpnfnik_lx\n"
          ],
          "name": "stdout"
        },
        {
          "output_type": "stream",
          "text": [
            "100%|██████████| 73034624/73034624 [00:03<00:00, 18605269.36B/s]"
          ],
          "name": "stderr"
        },
        {
          "output_type": "stream",
          "text": [
            "2020-01-07 11:13:56,391 copying /tmp/tmpnfnik_lx to cache at /root/.flair/embeddings/news-forward-0.4.1.pt\n"
          ],
          "name": "stdout"
        },
        {
          "output_type": "stream",
          "text": [
            "\n"
          ],
          "name": "stderr"
        },
        {
          "output_type": "stream",
          "text": [
            "2020-01-07 11:13:56,480 removing temp file /tmp/tmpnfnik_lx\n",
            "2020-01-07 11:13:58,946 https://s3.eu-central-1.amazonaws.com/alan-nlp/resources/embeddings-v0.4.1/big-news-backward--h2048-l1-d0.05-lr30-0.25-20/news-backward-0.4.1.pt not found in cache, downloading to /tmp/tmpj4wrjves\n"
          ],
          "name": "stdout"
        },
        {
          "output_type": "stream",
          "text": [
            "100%|██████████| 73034575/73034575 [00:03<00:00, 18703729.25B/s]"
          ],
          "name": "stderr"
        },
        {
          "output_type": "stream",
          "text": [
            "2020-01-07 11:14:03,389 copying /tmp/tmpj4wrjves to cache at /root/.flair/embeddings/news-backward-0.4.1.pt\n"
          ],
          "name": "stdout"
        },
        {
          "output_type": "stream",
          "text": [
            "\n"
          ],
          "name": "stderr"
        },
        {
          "output_type": "stream",
          "text": [
            "2020-01-07 11:14:03,481 removing temp file /tmp/tmpj4wrjves\n"
          ],
          "name": "stdout"
        }
      ]
    },
    {
      "cell_type": "code",
      "metadata": {
        "id": "dUi6-5OOtb75",
        "colab_type": "code",
        "colab": {}
      },
      "source": [
        "query = Sentence('purpose this part prescribes standards under which national banks may purchase, sell, deal in, underwrite, and hold securities, consistent with the authority contained in 12 u.s.c. 24 (seventh) and safe and sound banking practices.')\n",
        "paragraph_1 = Sentence('an obligation supported exclusively by excise taxes or license fees is not a general obligation for the purposes of 12 u.s.c. 24 (seventh). nevertheless, an obligation that is primarily payable from a fund consisting of excise taxes or other pledged revenues qualifies as a â€œgeneral obligation,â€ if, in the event of a deficiency of those revenues, the obligation is also supported by the general revenues of a state or a political subdivision possessing general powers of taxation.')\n",
        "paragraph_2 = Sentence('type iv securities. a national bank may purchase and sell type iv securities for its own account. the amount of the type iv securities that a bank may purchase and sell is not limited to a specified percentage of the banks capital and surplus.')\n"
      ],
      "execution_count": 0,
      "outputs": []
    },
    {
      "cell_type": "code",
      "metadata": {
        "id": "vkLx8Scbtf1D",
        "colab_type": "code",
        "colab": {}
      },
      "source": [
        "embeddings.embed([query, paragraph_1, paragraph_2])\n",
        "cos = torch.nn.CosineSimilarity(dim=0, eps=1e-6)\n"
      ],
      "execution_count": 0,
      "outputs": []
    },
    {
      "cell_type": "code",
      "metadata": {
        "id": "HfDDOWA2thQQ",
        "colab_type": "code",
        "colab": {
          "base_uri": "https://localhost:8080/",
          "height": 34
        },
        "outputId": "3e909322-278a-49e0-d2dd-6494f2c02cb6"
      },
      "source": [
        "similarity_to_paragraph_1 = cos(query.embedding, paragraph_1.embedding)\n",
        "print(similarity_to_paragraph_1)\n"
      ],
      "execution_count": 9,
      "outputs": [
        {
          "output_type": "stream",
          "text": [
            "tensor(0.9069, grad_fn=<DivBackward0>)\n"
          ],
          "name": "stdout"
        }
      ]
    },
    {
      "cell_type": "code",
      "metadata": {
        "id": "6FJPEmu5ti1i",
        "colab_type": "code",
        "colab": {
          "base_uri": "https://localhost:8080/",
          "height": 34
        },
        "outputId": "f13f2a7d-62df-48cf-b9cc-b847d3bec08e"
      },
      "source": [
        "similarity_to_paragraph_2 = cos(query.embedding, paragraph_2.embedding)\n",
        "print(similarity_to_paragraph_2)"
      ],
      "execution_count": 10,
      "outputs": [
        {
          "output_type": "stream",
          "text": [
            "tensor(0.8964, grad_fn=<DivBackward0>)\n"
          ],
          "name": "stdout"
        }
      ]
    },
    {
      "cell_type": "code",
      "metadata": {
        "id": "vyxohfueu26Q",
        "colab_type": "code",
        "colab": {}
      },
      "source": [
        ""
      ],
      "execution_count": 0,
      "outputs": []
    }
  ]
}