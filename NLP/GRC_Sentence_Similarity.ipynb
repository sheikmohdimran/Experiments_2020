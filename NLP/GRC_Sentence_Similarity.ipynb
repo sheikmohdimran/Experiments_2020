{
  "nbformat": 4,
  "nbformat_minor": 0,
  "metadata": {
    "colab": {
      "name": "GRC_Sentence_Similarity.ipynb",
      "provenance": [],
      "include_colab_link": true
    },
    "kernelspec": {
      "name": "python3",
      "display_name": "Python 3"
    }
  },
  "cells": [
    {
      "cell_type": "markdown",
      "metadata": {
        "id": "view-in-github",
        "colab_type": "text"
      },
      "source": [
        "<a href=\"https://colab.research.google.com/github/sheikmohdimran/Experiments_2020/blob/master/NLP/GRC_Sentence_Similarity.ipynb\" target=\"_parent\"><img src=\"https://colab.research.google.com/assets/colab-badge.svg\" alt=\"Open In Colab\"/></a>"
      ]
    },
    {
      "cell_type": "code",
      "metadata": {
        "id": "0QV2DdQctQs2",
        "colab_type": "code",
        "outputId": "3fbaf543-6607-458c-f29f-26e1a552794b",
        "colab": {
          "base_uri": "https://localhost:8080/",
          "height": 272
        }
      },
      "source": [
        "!pip -q install flair==0.4.3"
      ],
      "execution_count": 1,
      "outputs": [
        {
          "output_type": "stream",
          "text": [
            "\u001b[K     |████████████████████████████████| 184kB 4.8MB/s \n",
            "\u001b[K     |████████████████████████████████| 798kB 19.3MB/s \n",
            "\u001b[K     |████████████████████████████████| 184kB 26.7MB/s \n",
            "\u001b[K     |████████████████████████████████| 1.0MB 24.0MB/s \n",
            "\u001b[K     |████████████████████████████████| 778kB 42.9MB/s \n",
            "\u001b[K     |████████████████████████████████| 1.0MB 29.9MB/s \n",
            "\u001b[K     |████████████████████████████████| 870kB 44.4MB/s \n",
            "\u001b[K     |████████████████████████████████| 348kB 48.5MB/s \n",
            "\u001b[?25h  Building wheel for segtok (setup.py) ... \u001b[?25l\u001b[?25hdone\n",
            "  Building wheel for mpld3 (setup.py) ... \u001b[?25l\u001b[?25hdone\n",
            "  Building wheel for sqlitedict (setup.py) ... \u001b[?25l\u001b[?25hdone\n",
            "  Building wheel for langdetect (setup.py) ... \u001b[?25l\u001b[?25hdone\n",
            "  Building wheel for sacremoses (setup.py) ... \u001b[?25l\u001b[?25hdone\n",
            "\u001b[31mERROR: jupyter-console 5.2.0 has requirement prompt-toolkit<2.0.0,>=1.0.0, but you'll have prompt-toolkit 2.0.10 which is incompatible.\u001b[0m\n",
            "\u001b[31mERROR: google-colab 1.0.0 has requirement ipython~=5.5.0, but you'll have ipython 7.6.1 which is incompatible.\u001b[0m\n"
          ],
          "name": "stdout"
        }
      ]
    },
    {
      "cell_type": "code",
      "metadata": {
        "id": "AP6p-sRitS0d",
        "colab_type": "code",
        "outputId": "abe974d2-1191-4d4f-adcd-b3308bcc3027",
        "colab": {
          "base_uri": "https://localhost:8080/",
          "height": 343
        }
      },
      "source": [
        "import torch\n",
        "from flair.data import Sentence\n",
        "from flair.embeddings import FlairEmbeddings, DocumentPoolEmbeddings, WordEmbeddings\n",
        "\n",
        "embeddings = DocumentPoolEmbeddings([WordEmbeddings('glove'), FlairEmbeddings('news-forward'), FlairEmbeddings('news-backward')])\n"
      ],
      "execution_count": 2,
      "outputs": [
        {
          "output_type": "stream",
          "text": [
            "2020-01-07 14:22:29,789 https://s3.eu-central-1.amazonaws.com/alan-nlp/resources/embeddings/glove.gensim.vectors.npy not found in cache, downloading to /tmp/tmpfuzx_8e7\n"
          ],
          "name": "stdout"
        },
        {
          "output_type": "stream",
          "text": [
            "100%|██████████| 160000128/160000128 [00:10<00:00, 15774535.65B/s]"
          ],
          "name": "stderr"
        },
        {
          "output_type": "stream",
          "text": [
            "2020-01-07 14:22:40,601 copying /tmp/tmpfuzx_8e7 to cache at /root/.flair/embeddings/glove.gensim.vectors.npy\n"
          ],
          "name": "stdout"
        },
        {
          "output_type": "stream",
          "text": [
            "\n"
          ],
          "name": "stderr"
        },
        {
          "output_type": "stream",
          "text": [
            "2020-01-07 14:22:41,316 removing temp file /tmp/tmpfuzx_8e7\n",
            "2020-01-07 14:22:41,988 https://s3.eu-central-1.amazonaws.com/alan-nlp/resources/embeddings/glove.gensim not found in cache, downloading to /tmp/tmpokjuv0q7\n"
          ],
          "name": "stdout"
        },
        {
          "output_type": "stream",
          "text": [
            "100%|██████████| 21494764/21494764 [00:02<00:00, 8356603.35B/s]"
          ],
          "name": "stderr"
        },
        {
          "output_type": "stream",
          "text": [
            "2020-01-07 14:22:45,239 copying /tmp/tmpokjuv0q7 to cache at /root/.flair/embeddings/glove.gensim\n",
            "2020-01-07 14:22:45,265 removing temp file /tmp/tmpokjuv0q7\n"
          ],
          "name": "stdout"
        },
        {
          "output_type": "stream",
          "text": [
            "\n",
            "/usr/local/lib/python3.6/dist-packages/smart_open/smart_open_lib.py:402: UserWarning: This function is deprecated, use smart_open.open instead. See the migration notes for details: https://github.com/RaRe-Technologies/smart_open/blob/master/README.rst#migrating-to-the-new-open-function\n",
            "  'See the migration notes for details: %s' % _MIGRATION_NOTES_URL\n"
          ],
          "name": "stderr"
        },
        {
          "output_type": "stream",
          "text": [
            "2020-01-07 14:22:47,706 https://s3.eu-central-1.amazonaws.com/alan-nlp/resources/embeddings-v0.4.1/big-news-forward--h2048-l1-d0.05-lr30-0.25-20/news-forward-0.4.1.pt not found in cache, downloading to /tmp/tmp4972zmou\n"
          ],
          "name": "stdout"
        },
        {
          "output_type": "stream",
          "text": [
            "100%|██████████| 73034624/73034624 [00:05<00:00, 12301931.64B/s]"
          ],
          "name": "stderr"
        },
        {
          "output_type": "stream",
          "text": [
            "2020-01-07 14:22:54,299 copying /tmp/tmp4972zmou to cache at /root/.flair/embeddings/news-forward-0.4.1.pt\n"
          ],
          "name": "stdout"
        },
        {
          "output_type": "stream",
          "text": [
            "\n"
          ],
          "name": "stderr"
        },
        {
          "output_type": "stream",
          "text": [
            "2020-01-07 14:22:54,399 removing temp file /tmp/tmp4972zmou\n",
            "2020-01-07 14:22:56,482 https://s3.eu-central-1.amazonaws.com/alan-nlp/resources/embeddings-v0.4.1/big-news-backward--h2048-l1-d0.05-lr30-0.25-20/news-backward-0.4.1.pt not found in cache, downloading to /tmp/tmpe1ivb4oz\n"
          ],
          "name": "stdout"
        },
        {
          "output_type": "stream",
          "text": [
            "100%|██████████| 73034575/73034575 [00:05<00:00, 13318088.05B/s]"
          ],
          "name": "stderr"
        },
        {
          "output_type": "stream",
          "text": [
            "2020-01-07 14:23:02,653 copying /tmp/tmpe1ivb4oz to cache at /root/.flair/embeddings/news-backward-0.4.1.pt\n",
            "2020-01-07 14:23:02,746 removing temp file /tmp/tmpe1ivb4oz\n"
          ],
          "name": "stdout"
        },
        {
          "output_type": "stream",
          "text": [
            "\n"
          ],
          "name": "stderr"
        }
      ]
    },
    {
      "cell_type": "code",
      "metadata": {
        "id": "dUi6-5OOtb75",
        "colab_type": "code",
        "colab": {}
      },
      "source": [
        "sent_0 = Sentence('contemptuous or contumacious conduct. the person conducting an investigation may report to the occ instances of apparently dilatory, obstructionist, egregious, contemptuous or contumacious conduct on the part of an attorney. after due notice to the attorney, the occ may take such action as the circumstances warrant based upon a written record evidencing the conduct of the attorney in that investigation or such other or additional written or oral presentation as the occ may permit or direct.')\n",
        "sent_1 = Sentence('purpose this part prescribes standards under which national banks may purchase, sell, deal in, underwrite, and hold securities, consistent with the authority contained in 12 u.s.c. 24 (seventh) and safe and sound banking practices.')\n",
        "sent_2 = Sentence('an obligation supported exclusively by excise taxes or license fees is not a general obligation for the purposes of 12 u.s.c. 24 (seventh). nevertheless, an obligation that is primarily payable from a fund consisting of excise taxes or other pledged revenues qualifies as a â€œgeneral obligation,â€ if, in the event of a deficiency of those revenues, the obligation is also supported by the general revenues of a state or a political subdivision possessing general powers of taxation.')\n",
        "sent_3 = Sentence('type iv securities. a national bank may purchase and sell type iv securities for its own account. the amount of the type iv securities that a bank may purchase and sell is not limited to a specified percentage of the banks capital and surplus.')\n",
        "sent_4 = Sentence('all formal examination proceedings shall be private and, unless otherwise ordered by the occ, all investigative proceedings shall also be private. unless otherwise ordered or permitted by the occ, or required by law, and except as provided in Â§Â§ 112.4 and 112.5, the entire record of any investigative proceeding or formal examination proceeding, including the resolution of the occ or its delegate(s) authorizing the proceeding, the transcript of such proceeding, and all documents and information obtained by the designated representative(s) during the course of said proceedings shall be confidential.')"
      ],
      "execution_count": 0,
      "outputs": []
    },
    {
      "cell_type": "code",
      "metadata": {
        "id": "vkLx8Scbtf1D",
        "colab_type": "code",
        "colab": {}
      },
      "source": [
        "embeddings.embed([sent_0, sent_1, sent_2, sent_3, sent_4])\n",
        "cos = torch.nn.CosineSimilarity(dim=0, eps=1e-6)"
      ],
      "execution_count": 0,
      "outputs": []
    },
    {
      "cell_type": "code",
      "metadata": {
        "id": "rYNbDZVOY_zi",
        "colab_type": "code",
        "colab": {}
      },
      "source": [
        "embed_matrix = torch.cat([sent_0.embedding.unsqueeze(0),sent_1.embedding.unsqueeze(0),sent_2.embedding.unsqueeze(0),\n",
        "                          sent_3.embedding.unsqueeze(0),sent_4.embedding.unsqueeze(0)])"
      ],
      "execution_count": 0,
      "outputs": []
    },
    {
      "cell_type": "code",
      "metadata": {
        "id": "iSigXhPJZ_Nd",
        "colab_type": "code",
        "colab": {
          "base_uri": "https://localhost:8080/",
          "height": 119
        },
        "outputId": "6126b48f-74a3-48e1-9ef5-ad96587eeeb3"
      },
      "source": [
        "def sim_matrix(a, b, eps=1e-6):\n",
        "    \"\"\"\n",
        "    added eps for numerical stability\n",
        "    \"\"\"\n",
        "    a_n, b_n = a.norm(dim=1)[:, None], b.norm(dim=1)[:, None]\n",
        "    a_norm = a / torch.max(a_n, eps * torch.ones_like(a_n))\n",
        "    b_norm = b / torch.max(b_n, eps * torch.ones_like(b_n))\n",
        "    sim_mt = torch.mm(a_norm, b_norm.transpose(0, 1))\n",
        "    return sim_mt\n",
        "\n",
        "sim_matrix(embed_matrix,embed_matrix).detach().numpy()\n"
      ],
      "execution_count": 40,
      "outputs": [
        {
          "output_type": "execute_result",
          "data": {
            "text/plain": [
              "array([[1.000005  , 0.88224   , 0.89683425, 0.84686166, 0.9307657 ],\n",
              "       [0.88224   , 1.000003  , 0.9068546 , 0.89638186, 0.90678316],\n",
              "       [0.89683425, 0.9068546 , 1.0000026 , 0.91743577, 0.90952814],\n",
              "       [0.84686166, 0.89638186, 0.91743577, 1.0000043 , 0.8461291 ],\n",
              "       [0.9307657 , 0.90678316, 0.90952814, 0.8461291 , 1.0000033 ]],\n",
              "      dtype=float32)"
            ]
          },
          "metadata": {
            "tags": []
          },
          "execution_count": 40
        }
      ]
    },
    {
      "cell_type": "code",
      "metadata": {
        "id": "HfDDOWA2thQQ",
        "colab_type": "code",
        "outputId": "05eef403-6cd8-4eb1-b845-d52b4d63edae",
        "colab": {
          "base_uri": "https://localhost:8080/",
          "height": 34
        }
      },
      "source": [
        "# Check Similarity\n",
        "sim_1 = cos(sent_1.embedding, sent_2.embedding)\n",
        "print(sim_1)"
      ],
      "execution_count": 32,
      "outputs": [
        {
          "output_type": "stream",
          "text": [
            "tensor(0.9069, grad_fn=<DivBackward0>)\n"
          ],
          "name": "stdout"
        }
      ]
    },
    {
      "cell_type": "code",
      "metadata": {
        "id": "vyxohfueu26Q",
        "colab_type": "code",
        "colab": {}
      },
      "source": [
        "messages = ['sent_0','sent_1','sent_2','sent_3','sent_4']"
      ],
      "execution_count": 0,
      "outputs": []
    },
    {
      "cell_type": "code",
      "metadata": {
        "id": "PnYvKGuycHvA",
        "colab_type": "code",
        "colab": {
          "base_uri": "https://localhost:8080/",
          "height": 288
        },
        "outputId": "e1f55f9c-d405-4453-8a44-dd03c325bfea"
      },
      "source": [
        "import matplotlib.pyplot as plt\n",
        "import seaborn as sns\n",
        "%matplotlib inline\n",
        "def plot_similarity(labels, features, rotation):\n",
        "    corr = sim_matrix(features,features).detach().numpy()\n",
        "    sns.set(font_scale=1.2)\n",
        "    g = sns.heatmap(\n",
        "      corr,\n",
        "      xticklabels=labels,\n",
        "      yticklabels=labels,\n",
        "      vmin=0,\n",
        "      vmax=1,\n",
        "      cmap=\"YlGnBu\")\n",
        "    g.set_xticklabels(labels, rotation=rotation)\n",
        "    g.set_title(\"Semantic Textual Similarity\")\n",
        "\n",
        "plot_similarity(messages, embed_matrix, 0)\n"
      ],
      "execution_count": 45,
      "outputs": [
        {
          "output_type": "display_data",
          "data": {
            "image/png": "[encoded data removed]",
            "text/plain": [
              "<Figure size 432x288 with 2 Axes>"
            ]
          },
          "metadata": {
            "tags": []
          }
        }
      ]
    },
    {
      "cell_type": "code",
      "metadata": {
        "id": "Wa8Rb0wQc2TF",
        "colab_type": "code",
        "colab": {}
      },
      "source": [
        ""
      ],
      "execution_count": 0,
      "outputs": []
    }
  ]
}