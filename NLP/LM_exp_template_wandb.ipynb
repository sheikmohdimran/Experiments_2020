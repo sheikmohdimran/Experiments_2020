{
  "nbformat": 4,
  "nbformat_minor": 0,
  "metadata": {
    "kernelspec": {
      "display_name": "Python 3",
      "language": "python",
      "name": "python3"
    },
    "language_info": {
      "codemirror_mode": {
        "name": "ipython",
        "version": 3
      },
      "file_extension": ".py",
      "mimetype": "text/x-python",
      "name": "python",
      "nbconvert_exporter": "python",
      "pygments_lexer": "ipython3",
      "version": "3.7.8"
    },
    "colab": {
      "name": "Copy of LM_exp_template.ipynb",
      "provenance": [],
      "include_colab_link": true
    },
    "accelerator": "GPU",
    "widgets": {
      "application/vnd.jupyter.widget-state+json": {
        "6fbaeaafa88f41b4b4ccfb309e155050": {
          "model_module": "@jupyter-widgets/controls",
          "model_name": "VBoxModel",
          "state": {
            "_view_name": "VBoxView",
            "_dom_classes": [],
            "_model_name": "VBoxModel",
            "_view_module": "@jupyter-widgets/controls",
            "_model_module_version": "1.5.0",
            "_view_count": null,
            "_view_module_version": "1.5.0",
            "box_style": "",
            "layout": "IPY_MODEL_ff98be4fbc494e789350f50e689851e7",
            "_model_module": "@jupyter-widgets/controls",
            "children": [
              "IPY_MODEL_a1bc576a5e4f4e0a920d6461ca058531",
              "IPY_MODEL_4d0afb0e7ab648b88c3b498665b19dd2"
            ]
          }
        },
        "ff98be4fbc494e789350f50e689851e7": {
          "model_module": "@jupyter-widgets/base",
          "model_name": "LayoutModel",
          "state": {
            "_view_name": "LayoutView",
            "grid_template_rows": null,
            "right": null,
            "justify_content": null,
            "_view_module": "@jupyter-widgets/base",
            "overflow": null,
            "_model_module_version": "1.2.0",
            "_view_count": null,
            "flex_flow": null,
            "width": null,
            "min_width": null,
            "border": null,
            "align_items": null,
            "bottom": null,
            "_model_module": "@jupyter-widgets/base",
            "top": null,
            "grid_column": null,
            "overflow_y": null,
            "overflow_x": null,
            "grid_auto_flow": null,
            "grid_area": null,
            "grid_template_columns": null,
            "flex": null,
            "_model_name": "LayoutModel",
            "justify_items": null,
            "grid_row": null,
            "max_height": null,
            "align_content": null,
            "visibility": null,
            "align_self": null,
            "height": null,
            "min_height": null,
            "padding": null,
            "grid_auto_rows": null,
            "grid_gap": null,
            "max_width": null,
            "order": null,
            "_view_module_version": "1.2.0",
            "grid_template_areas": null,
            "object_position": null,
            "object_fit": null,
            "grid_auto_columns": null,
            "margin": null,
            "display": null,
            "left": null
          }
        },
        "a1bc576a5e4f4e0a920d6461ca058531": {
          "model_module": "@jupyter-widgets/controls",
          "model_name": "LabelModel",
          "state": {
            "_view_name": "LabelView",
            "style": "IPY_MODEL_dd2b5cb0bb9a4676b7673214e01bba77",
            "_dom_classes": [],
            "description": "",
            "_model_name": "LabelModel",
            "placeholder": "​",
            "_view_module": "@jupyter-widgets/controls",
            "_model_module_version": "1.5.0",
            "value": " 0.07MB of 0.07MB uploaded (0.00MB deduped)\r",
            "_view_count": null,
            "_view_module_version": "1.5.0",
            "description_tooltip": null,
            "_model_module": "@jupyter-widgets/controls",
            "layout": "IPY_MODEL_d2ea5477c2b141d1b170a590a7c1defa"
          }
        },
        "4d0afb0e7ab648b88c3b498665b19dd2": {
          "model_module": "@jupyter-widgets/controls",
          "model_name": "FloatProgressModel",
          "state": {
            "_view_name": "ProgressView",
            "style": "IPY_MODEL_c5203ce1a5a24b9bbd744fecc44283ac",
            "_dom_classes": [],
            "description": "",
            "_model_name": "FloatProgressModel",
            "bar_style": "",
            "max": 1,
            "_view_module": "@jupyter-widgets/controls",
            "_model_module_version": "1.5.0",
            "value": 1,
            "_view_count": null,
            "_view_module_version": "1.5.0",
            "orientation": "horizontal",
            "min": 0,
            "description_tooltip": null,
            "_model_module": "@jupyter-widgets/controls",
            "layout": "IPY_MODEL_a5a4dc0b53c646daa935e59ec8b5a790"
          }
        },
        "dd2b5cb0bb9a4676b7673214e01bba77": {
          "model_module": "@jupyter-widgets/controls",
          "model_name": "DescriptionStyleModel",
          "state": {
            "_view_name": "StyleView",
            "_model_name": "DescriptionStyleModel",
            "description_width": "",
            "_view_module": "@jupyter-widgets/base",
            "_model_module_version": "1.5.0",
            "_view_count": null,
            "_view_module_version": "1.2.0",
            "_model_module": "@jupyter-widgets/controls"
          }
        },
        "d2ea5477c2b141d1b170a590a7c1defa": {
          "model_module": "@jupyter-widgets/base",
          "model_name": "LayoutModel",
          "state": {
            "_view_name": "LayoutView",
            "grid_template_rows": null,
            "right": null,
            "justify_content": null,
            "_view_module": "@jupyter-widgets/base",
            "overflow": null,
            "_model_module_version": "1.2.0",
            "_view_count": null,
            "flex_flow": null,
            "width": null,
            "min_width": null,
            "border": null,
            "align_items": null,
            "bottom": null,
            "_model_module": "@jupyter-widgets/base",
            "top": null,
            "grid_column": null,
            "overflow_y": null,
            "overflow_x": null,
            "grid_auto_flow": null,
            "grid_area": null,
            "grid_template_columns": null,
            "flex": null,
            "_model_name": "LayoutModel",
            "justify_items": null,
            "grid_row": null,
            "max_height": null,
            "align_content": null,
            "visibility": null,
            "align_self": null,
            "height": null,
            "min_height": null,
            "padding": null,
            "grid_auto_rows": null,
            "grid_gap": null,
            "max_width": null,
            "order": null,
            "_view_module_version": "1.2.0",
            "grid_template_areas": null,
            "object_position": null,
            "object_fit": null,
            "grid_auto_columns": null,
            "margin": null,
            "display": null,
            "left": null
          }
        },
        "c5203ce1a5a24b9bbd744fecc44283ac": {
          "model_module": "@jupyter-widgets/controls",
          "model_name": "ProgressStyleModel",
          "state": {
            "_view_name": "StyleView",
            "_model_name": "ProgressStyleModel",
            "description_width": "",
            "_view_module": "@jupyter-widgets/base",
            "_model_module_version": "1.5.0",
            "_view_count": null,
            "_view_module_version": "1.2.0",
            "bar_color": null,
            "_model_module": "@jupyter-widgets/controls"
          }
        },
        "a5a4dc0b53c646daa935e59ec8b5a790": {
          "model_module": "@jupyter-widgets/base",
          "model_name": "LayoutModel",
          "state": {
            "_view_name": "LayoutView",
            "grid_template_rows": null,
            "right": null,
            "justify_content": null,
            "_view_module": "@jupyter-widgets/base",
            "overflow": null,
            "_model_module_version": "1.2.0",
            "_view_count": null,
            "flex_flow": null,
            "width": null,
            "min_width": null,
            "border": null,
            "align_items": null,
            "bottom": null,
            "_model_module": "@jupyter-widgets/base",
            "top": null,
            "grid_column": null,
            "overflow_y": null,
            "overflow_x": null,
            "grid_auto_flow": null,
            "grid_area": null,
            "grid_template_columns": null,
            "flex": null,
            "_model_name": "LayoutModel",
            "justify_items": null,
            "grid_row": null,
            "max_height": null,
            "align_content": null,
            "visibility": null,
            "align_self": null,
            "height": null,
            "min_height": null,
            "padding": null,
            "grid_auto_rows": null,
            "grid_gap": null,
            "max_width": null,
            "order": null,
            "_view_module_version": "1.2.0",
            "grid_template_areas": null,
            "object_position": null,
            "object_fit": null,
            "grid_auto_columns": null,
            "margin": null,
            "display": null,
            "left": null
          }
        }
      }
    }
  },
  "cells": [
    {
      "cell_type": "markdown",
      "metadata": {
        "id": "view-in-github",
        "colab_type": "text"
      },
      "source": [
        "<a href=\"https://colab.research.google.com/github/sheikmohdimran/Experiments_2020/blob/master/NLP/LM_exp_template_wandb.ipynb\" target=\"_parent\"><img src=\"https://colab.research.google.com/assets/colab-badge.svg\" alt=\"Open In Colab\"/></a>"
      ]
    },
    {
      "cell_type": "code",
      "metadata": {
        "id": "kCQkEFpsrHkX",
        "colab": {
          "base_uri": "https://localhost:8080/"
        },
        "outputId": "1b08e94f-e6a6-40bc-8b31-a3e3c963f87f"
      },
      "source": [
        "import sys\n",
        "if 'google.colab' in sys.modules:\n",
        "  !pip install -Uqq fastai einops datasets"
      ],
      "execution_count": null,
      "outputs": [
        {
          "output_type": "stream",
          "text": [
            "\u001b[K     |████████████████████████████████| 194kB 14.5MB/s \n",
            "\u001b[K     |████████████████████████████████| 163kB 28.1MB/s \n",
            "\u001b[K     |████████████████████████████████| 51kB 7.6MB/s \n",
            "\u001b[K     |████████████████████████████████| 245kB 25.2MB/s \n",
            "\u001b[K     |████████████████████████████████| 17.7MB 344kB/s \n",
            "\u001b[?25h"
          ],
          "name": "stdout"
        }
      ]
    },
    {
      "cell_type": "markdown",
      "metadata": {
        "id": "-nZDOaDK8_m3"
      },
      "source": [
        "Note: Restart the runtime after installing fastai"
      ]
    },
    {
      "cell_type": "code",
      "metadata": {
        "id": "ZSvxSyKi4l4K",
        "colab": {
          "base_uri": "https://localhost:8080/"
        },
        "outputId": "f860b2c6-48c0-4538-8568-194f9c82ca7f"
      },
      "source": [
        "!pip install -Uqq wandb yappi gprof2dot pyinstrument"
      ],
      "execution_count": null,
      "outputs": [
        {
          "output_type": "stream",
          "text": [
            "\u001b[K     |████████████████████████████████| 1.8MB 14.8MB/s \n",
            "\u001b[K     |████████████████████████████████| 102kB 12.8MB/s \n",
            "\u001b[K     |████████████████████████████████| 102kB 12.0MB/s \n",
            "\u001b[K     |████████████████████████████████| 133kB 44.6MB/s \n",
            "\u001b[K     |████████████████████████████████| 163kB 48.9MB/s \n",
            "\u001b[K     |████████████████████████████████| 71kB 10.7MB/s \n",
            "\u001b[?25h  Building wheel for watchdog (setup.py) ... \u001b[?25l\u001b[?25hdone\n",
            "  Building wheel for subprocess32 (setup.py) ... \u001b[?25l\u001b[?25hdone\n",
            "  Building wheel for pathtools (setup.py) ... \u001b[?25l\u001b[?25hdone\n"
          ],
          "name": "stdout"
        }
      ]
    },
    {
      "cell_type": "markdown",
      "metadata": {
        "id": "09ylWnbN8zlN"
      },
      "source": [
        "## Download the tranformer and tokenizer code"
      ]
    },
    {
      "cell_type": "code",
      "metadata": {
        "id": "9Gy8rSRxvYg4"
      },
      "source": [
        "!wget -q https://raw.githubusercontent.com/morganmcg1/reformer-fastai/main/basic_tokenizers.py\n",
        "!wget -q https://raw.githubusercontent.com/morganmcg1/reformer-fastai/main/basic_transformer.py"
      ],
      "execution_count": null,
      "outputs": []
    },
    {
      "cell_type": "markdown",
      "metadata": {
        "id": "5Wpug9knrHkY"
      },
      "source": [
        "## Download and Unpack enwik8 Data\n",
        "\n",
        "Download and unzip enwik8 data\n"
      ]
    },
    {
      "cell_type": "code",
      "metadata": {
        "id": "JePpPJyMrHkY",
        "colab": {
          "base_uri": "https://localhost:8080/"
        },
        "outputId": "0bbfd6c8-fdc8-4669-ee19-e02eac38b2ec"
      },
      "source": [
        "!wget -P data/ http://mattmahoney.net/dc/enwik8.zip\n",
        "!unzip data/enwik8.zip -d data/\n",
        "!ls data\n",
        "!head -n 132 data/enwik8"
      ],
      "execution_count": null,
      "outputs": [
        {
          "output_type": "stream",
          "text": [
            "--2020-11-22 15:15:19--  http://mattmahoney.net/dc/enwik8.zip\n",
            "Resolving mattmahoney.net (mattmahoney.net)... 67.195.197.24\n",
            "Connecting to mattmahoney.net (mattmahoney.net)|67.195.197.24|:80... connected.\n",
            "HTTP request sent, awaiting response... 200 OK\n",
            "Length: 36445475 (35M) [application/zip]\n",
            "Saving to: ‘data/enwik8.zip’\n",
            "\n",
            "enwik8.zip          100%[===================>]  34.76M   717KB/s    in 50s     \n",
            "\n",
            "2020-11-22 15:16:10 (706 KB/s) - ‘data/enwik8.zip’ saved [36445475/36445475]\n",
            "\n",
            "Archive:  data/enwik8.zip\n",
            "  inflating: data/enwik8             \n",
            "enwik8\tenwik8.zip\n",
            "<mediawiki xmlns=\"http://www.mediawiki.org/xml/export-0.3/\" xmlns:xsi=\"http://www.w3.org/2001/XMLSchema-instance\" xsi:schemaLocation=\"http://www.mediawiki.org/xml/export-0.3/ http://www.mediawiki.org/xml/export-0.3.xsd\" version=\"0.3\" xml:lang=\"en\">\n",
            "  <siteinfo>\n",
            "    <sitename>Wikipedia</sitename>\n",
            "    <base>http://en.wikipedia.org/wiki/Main_Page</base>\n",
            "    <generator>MediaWiki 1.6alpha</generator>\n",
            "    <case>first-letter</case>\n",
            "      <namespaces>\n",
            "      <namespace key=\"-2\">Media</namespace>\n",
            "      <namespace key=\"-1\">Special</namespace>\n",
            "      <namespace key=\"0\" />\n",
            "      <namespace key=\"1\">Talk</namespace>\n",
            "      <namespace key=\"2\">User</namespace>\n",
            "      <namespace key=\"3\">User talk</namespace>\n",
            "      <namespace key=\"4\">Wikipedia</namespace>\n",
            "      <namespace key=\"5\">Wikipedia talk</namespace>\n",
            "      <namespace key=\"6\">Image</namespace>\n",
            "      <namespace key=\"7\">Image talk</namespace>\n",
            "      <namespace key=\"8\">MediaWiki</namespace>\n",
            "      <namespace key=\"9\">MediaWiki talk</namespace>\n",
            "      <namespace key=\"10\">Template</namespace>\n",
            "      <namespace key=\"11\">Template talk</namespace>\n",
            "      <namespace key=\"12\">Help</namespace>\n",
            "      <namespace key=\"13\">Help talk</namespace>\n",
            "      <namespace key=\"14\">Category</namespace>\n",
            "      <namespace key=\"15\">Category talk</namespace>\n",
            "      <namespace key=\"100\">Portal</namespace>\n",
            "      <namespace key=\"101\">Portal talk</namespace>\n",
            "    </namespaces>\n",
            "  </siteinfo>\n",
            "  <page>\n",
            "    <title>AaA</title>\n",
            "    <id>1</id>\n",
            "    <revision>\n",
            "      <id>32899315</id>\n",
            "      <timestamp>2005-12-27T18:46:47Z</timestamp>\n",
            "      <contributor>\n",
            "        <username>Jsmethers</username>\n",
            "        <id>614213</id>\n",
            "      </contributor>\n",
            "      <text xml:space=\"preserve\">#REDIRECT [[AAA]]</text>\n",
            "    </revision>\n",
            "  </page>\n",
            "  <page>\n",
            "    <title>AlgeriA</title>\n",
            "    <id>5</id>\n",
            "    <revision>\n",
            "      <id>18063769</id>\n",
            "      <timestamp>2005-07-03T11:13:13Z</timestamp>\n",
            "      <contributor>\n",
            "        <username>Docu</username>\n",
            "        <id>8029</id>\n",
            "      </contributor>\n",
            "      <minor />\n",
            "      <comment>adding cur_id=5: {{R from CamelCase}}</comment>\n",
            "      <text xml:space=\"preserve\">#REDIRECT [[Algeria]]{{R from CamelCase}}</text>\n",
            "    </revision>\n",
            "  </page>\n",
            "  <page>\n",
            "    <title>AmericanSamoa</title>\n",
            "    <id>6</id>\n",
            "    <revision>\n",
            "      <id>18063795</id>\n",
            "      <timestamp>2005-07-03T11:14:17Z</timestamp>\n",
            "      <contributor>\n",
            "        <username>Docu</username>\n",
            "        <id>8029</id>\n",
            "      </contributor>\n",
            "      <minor />\n",
            "      <comment>adding to cur_id=6  {{R from CamelCase}}</comment>\n",
            "      <text xml:space=\"preserve\">#REDIRECT [[American Samoa]]{{R from CamelCase}}</text>\n",
            "    </revision>\n",
            "  </page>\n",
            "  <page>\n",
            "    <title>AppliedEthics</title>\n",
            "    <id>8</id>\n",
            "    <revision>\n",
            "      <id>15898943</id>\n",
            "      <timestamp>2002-02-25T15:43:11Z</timestamp>\n",
            "      <contributor>\n",
            "        <ip>Conversion script</ip>\n",
            "      </contributor>\n",
            "      <minor />\n",
            "      <comment>Automated conversion</comment>\n",
            "      <text xml:space=\"preserve\">#REDIRECT [[Applied ethics]]\n",
            "</text>\n",
            "    </revision>\n",
            "  </page>\n",
            "  <page>\n",
            "    <title>AccessibleComputing</title>\n",
            "    <id>10</id>\n",
            "    <revision>\n",
            "      <id>15898945</id>\n",
            "      <timestamp>2003-04-25T22:18:38Z</timestamp>\n",
            "      <contributor>\n",
            "        <username>Ams80</username>\n",
            "        <id>7543</id>\n",
            "      </contributor>\n",
            "      <minor />\n",
            "      <comment>Fixing redirect</comment>\n",
            "      <text xml:space=\"preserve\">#REDIRECT [[Accessible_computing]]</text>\n",
            "    </revision>\n",
            "  </page>\n",
            "  <page>\n",
            "    <title>AdA</title>\n",
            "    <id>11</id>\n",
            "    <revision>\n",
            "      <id>15898946</id>\n",
            "      <timestamp>2002-09-22T16:02:58Z</timestamp>\n",
            "      <contributor>\n",
            "        <username>Andre Engels</username>\n",
            "        <id>300</id>\n",
            "      </contributor>\n",
            "      <minor />\n",
            "      <text xml:space=\"preserve\">#REDIRECT [[Ada programming language]]</text>\n",
            "    </revision>\n",
            "  </page>\n",
            "  <page>\n",
            "    <title>Anarchism</title>\n",
            "    <id>12</id>\n",
            "    <revision>\n",
            "      <id>42136831</id>\n",
            "      <timestamp>2006-03-04T01:41:25Z</timestamp>\n",
            "      <contributor>\n",
            "        <username>CJames745</username>\n",
            "        <id>832382</id>\n",
            "      </contributor>\n",
            "      <minor />\n",
            "      <comment>/* Anarchist Communism */  too many brackets</comment>\n",
            "      <text xml:space=\"preserve\">{{Anarchism}}\n",
            "'''Anarchism''' originated as a term of abuse first used against early [[working class]] [[radical]]s including the [[Diggers]] of the [[English Revolution]] and the [[sans-culotte|''sans-culottes'']] of the [[French Revolution]].[http://uk.encarta.msn.com/encyclopedia_761568770/Anarchism.html] Whilst the term is still used in a pejorative way to describe ''&quot;any act that used violent means to destroy the organization of society&quot;''&lt;ref&gt;[http://www.cas.sc.edu/socy/faculty/deflem/zhistorintpolency.html History of International Police Cooperation], from the final protocols of the &quot;International Conference of Rome for the Social Defense Against Anarchists&quot;, 1898&lt;/ref&gt;, it has also been taken up as a positive label by self-defined anarchists.\n",
            "\n",
            "The word '''anarchism''' is [[etymology|derived from]] the [[Greek language|Greek]] ''[[Wiktionary:&amp;#945;&amp;#957;&amp;#945;&amp;#961;&amp;#967;&amp;#943;&amp;#945;|&amp;#945;&amp;#957;&amp;#945;&amp;#961;&amp;#967;&amp;#943;&amp;#945;]]'' (&quot;without [[archon]]s (ruler, chief, king)&quot;). Anarchism as a [[political philosophy]], is the belief that ''rulers'' are unnecessary and should be abolished, although there are differing interpretations of what this means. Anarchism also refers to related [[social movement]]s) that advocate the elimination of authoritarian institutions, particularly the [[state]].&lt;ref&gt;[http://en.wikiquote.org/wiki/Definitions_of_anarchism Definitions of anarchism] on Wikiquote, accessed 2006&lt;/ref&gt; The word &quot;[[anarchy]],&quot; as most anarchists use it, does not imply [[chaos]], [[nihilism]], or [[anomie]], but rather a harmonious [[anti-authoritarian]] society. In place of what are regarded as authoritarian political structures and coercive economic institutions, anarchists advocate social relations based upon [[voluntary association]] of autonomous individuals, [[mutual aid]], and [[self-governance]]. \n"
          ],
          "name": "stdout"
        }
      ]
    },
    {
      "cell_type": "markdown",
      "metadata": {
        "id": "r8sEJ06U85Gv"
      },
      "source": [
        "## Actual start of the experiment"
      ]
    },
    {
      "cell_type": "code",
      "metadata": {
        "id": "wmc4iYY0rHkX"
      },
      "source": [
        "import sys\n",
        "import six\n",
        "from fastai.text.all import *"
      ],
      "execution_count": null,
      "outputs": []
    },
    {
      "cell_type": "code",
      "metadata": {
        "id": "RCTZR7olrHkX"
      },
      "source": [
        "from basic_tokenizers import ByteTextTokenizer\n",
        "from basic_transformer import TransformerLM"
      ],
      "execution_count": null,
      "outputs": []
    },
    {
      "cell_type": "markdown",
      "metadata": {
        "id": "k3mbmHvErHkX"
      },
      "source": [
        "## Experiment Tracking"
      ]
    },
    {
      "cell_type": "markdown",
      "metadata": {
        "id": "dExn4xYHrHkX"
      },
      "source": [
        "Make sure you have wandb and are logged in:"
      ]
    },
    {
      "cell_type": "code",
      "metadata": {
        "id": "o_dhEnW8xE33",
        "colab": {
          "base_uri": "https://localhost:8080/"
        },
        "outputId": "3a2216f0-497c-41f9-fc26-2b4435f73699"
      },
      "source": [
        "!wandb login <your_identifier>"
      ],
      "execution_count": null,
      "outputs": [
        {
          "output_type": "stream",
          "text": [
            "\u001b[34m\u001b[1mwandb\u001b[0m: Appending key for api.wandb.ai to your netrc file: /root/.netrc\n"
          ],
          "name": "stdout"
        }
      ]
    },
    {
      "cell_type": "markdown",
      "metadata": {
        "id": "dsjmw1onrHkY"
      },
      "source": [
        "Load Experiment Tracking with Weights & Biases:"
      ]
    },
    {
      "cell_type": "markdown",
      "metadata": {
        "id": "NQW9rKmwrHkY"
      },
      "source": [
        "## Wandb experiment logging\n",
        "Suggeted [wandb.init logging](https://docs.wandb.com/library/init) to help keep track of experiments:\n",
        "\n",
        "**WANDB_NAME**\n",
        "\n",
        "A specific name for a particular experiment, e.g. \"lsh_2_hash_enwik8\"\n",
        "\n",
        "**GROUP**\n",
        "\n",
        "Group identifiers will help organise and **group experiments together** in the wandb interface. Suggested identifier to use are:\n",
        "\n",
        "- \"TEST\" : for general testing\n",
        "- \"SHARED-QK\" : for Shared Query-Key experiments\n",
        "- \"LSH\" : LSH-related experiemnts\n",
        "- \"REVERSIBLE\" : reversible layers experiments\n",
        "- \"WMT\" : for the WMT task\n",
        "\n",
        "**NOTES**\n",
        "\n",
        "A longer description of the run, like a -m commit message in git. This helps you remember what you were doing when you ran this run.\n",
        "\n",
        "**CONFIG**\n",
        "\n",
        "A dictionary-like object for saving inputs to your job, like hyperparameters for a model or settings for a data preprocessing job. The config will show up in a table in the UI that you can use to group, filter, and sort runs. Keys should not have . in the names, and values should be under 10 MB.\n",
        "\n",
        "**TAGS**\n",
        "\n",
        "A list of strings, which will populate the list of tags on this run in the UI. Tags are useful for organizing runs together, or applying temporary labels like \"baseline\" or \"production\". It's easy to add and remove tags in the UI, or filter down to just runs with a specific tag."
      ]
    },
    {
      "cell_type": "code",
      "metadata": {
        "id": "fAf9o5W9rHkY"
      },
      "source": [
        "import wandb\n",
        "from fastai.callback.wandb import *\n",
        "\n",
        "WANDB_NAME = 'enc_lm_enwik8'\n",
        "GROUP = 'TEST'     # Group to add a run to, e.g. \"LSH\" for LSH experiments, \"REVERSIBLE\" for reversible layers\n",
        "NOTES = 'Testing the encoder LM model works'\n",
        "CONFIG = {}\n",
        "TAGS =['enc_lm','test']"
      ],
      "execution_count": null,
      "outputs": []
    },
    {
      "cell_type": "markdown",
      "metadata": {
        "id": "5BSh2BpKrHkY"
      },
      "source": [
        "Initialise wandb logging, pleaes **do not change** `project` or `entity` (that that everything gets logged to the same place)"
      ]
    },
    {
      "cell_type": "code",
      "metadata": {
        "id": "Y22nU3TorHkZ"
      },
      "source": [
        "def read_lines(path):\n",
        "    \"\"\"Tokenizes a text file.\"\"\"\n",
        "    assert os.path.exists(path)\n",
        "    lines=[]\n",
        "    with open(path, 'r') as f:\n",
        "        tokens = 0\n",
        "        for line in f:\n",
        "            lines.append(line)  # + ['<eos>'])            \n",
        "    return lines"
      ],
      "execution_count": null,
      "outputs": []
    },
    {
      "cell_type": "markdown",
      "metadata": {
        "id": "nSzL8fXo9Ol6"
      },
      "source": [
        "## Load the file into the dataframe"
      ]
    },
    {
      "cell_type": "code",
      "metadata": {
        "id": "v5JGuwLSrHkZ",
        "colab": {
          "base_uri": "https://localhost:8080/",
          "height": 242
        },
        "outputId": "557662b9-43f2-4aa7-fbce-a4d322101816"
      },
      "source": [
        "enwik8 = read_lines('data/enwik8')\n",
        "df = pd.DataFrame({'text':enwik8})\n",
        "print(len(df))\n",
        "df.head()"
      ],
      "execution_count": null,
      "outputs": [
        {
          "output_type": "stream",
          "text": [
            "1128024\n"
          ],
          "name": "stdout"
        },
        {
          "output_type": "execute_result",
          "data": {
            "text/html": [
              "<div>\n",
              "<style scoped>\n",
              "    .dataframe tbody tr th:only-of-type {\n",
              "        vertical-align: middle;\n",
              "    }\n",
              "\n",
              "    .dataframe tbody tr th {\n",
              "        vertical-align: top;\n",
              "    }\n",
              "\n",
              "    .dataframe thead th {\n",
              "        text-align: right;\n",
              "    }\n",
              "</style>\n",
              "<table border=\"1\" class=\"dataframe\">\n",
              "  <thead>\n",
              "    <tr style=\"text-align: right;\">\n",
              "      <th></th>\n",
              "      <th>text</th>\n",
              "    </tr>\n",
              "  </thead>\n",
              "  <tbody>\n",
              "    <tr>\n",
              "      <th>0</th>\n",
              "      <td>&lt;mediawiki xmlns=\"http://www.mediawiki.org/xml/export-0.3/\" xmlns:xsi=\"http://www.w3.org/2001/XMLSchema-instance\" xsi:schemaLocation=\"http://www.mediawiki.org/xml/export-0.3/ http://www.mediawiki.org/xml/export-0.3.xsd\" version=\"0.3\" xml:lang=\"en\"&gt;\\n</td>\n",
              "    </tr>\n",
              "    <tr>\n",
              "      <th>1</th>\n",
              "      <td>&lt;siteinfo&gt;\\n</td>\n",
              "    </tr>\n",
              "    <tr>\n",
              "      <th>2</th>\n",
              "      <td>&lt;sitename&gt;Wikipedia&lt;/sitename&gt;\\n</td>\n",
              "    </tr>\n",
              "    <tr>\n",
              "      <th>3</th>\n",
              "      <td>&lt;base&gt;http://en.wikipedia.org/wiki/Main_Page&lt;/base&gt;\\n</td>\n",
              "    </tr>\n",
              "    <tr>\n",
              "      <th>4</th>\n",
              "      <td>&lt;generator&gt;MediaWiki 1.6alpha&lt;/generator&gt;\\n</td>\n",
              "    </tr>\n",
              "  </tbody>\n",
              "</table>\n",
              "</div>"
            ],
            "text/plain": [
              "                                                                                                                                                                                                                                                         text\n",
              "0  <mediawiki xmlns=\"http://www.mediawiki.org/xml/export-0.3/\" xmlns:xsi=\"http://www.w3.org/2001/XMLSchema-instance\" xsi:schemaLocation=\"http://www.mediawiki.org/xml/export-0.3/ http://www.mediawiki.org/xml/export-0.3.xsd\" version=\"0.3\" xml:lang=\"en\">\\n\n",
              "1                                                                                                                                                                                                                                                <siteinfo>\\n\n",
              "2                                                                                                                                                                                                                            <sitename>Wikipedia</sitename>\\n\n",
              "3                                                                                                                                                                                                       <base>http://en.wikipedia.org/wiki/Main_Page</base>\\n\n",
              "4                                                                                                                                                                                                                 <generator>MediaWiki 1.6alpha</generator>\\n"
            ]
          },
          "metadata": {
            "tags": []
          },
          "execution_count": 35
        }
      ]
    },
    {
      "cell_type": "markdown",
      "metadata": {
        "id": "6lIWg-9LrHkb"
      },
      "source": [
        "# Prepare Data"
      ]
    },
    {
      "cell_type": "markdown",
      "metadata": {
        "id": "JSHZhouKrHkb"
      },
      "source": [
        "Load tokenizer"
      ]
    },
    {
      "cell_type": "code",
      "metadata": {
        "id": "dgNCOyHdrHkb"
      },
      "source": [
        "bte = ByteTextTokenizer(is_lm=True, add_bos=True, add_eos=True)"
      ],
      "execution_count": null,
      "outputs": []
    },
    {
      "cell_type": "code",
      "metadata": {
        "id": "fgAo72a-rHkb"
      },
      "source": [
        "# # Patch the LMDataloader\n",
        "# @patch\n",
        "# def create_item(self:LMDataLoader, seq):\n",
        "#     if seq>=self.n: raise IndexError\n",
        "#     sl = self.last_len if seq//self.bs==self.n_batches-1 else self.seq_len\n",
        "#     st = (seq%self.bs)*self.bl + (seq//self.bs)*self.seq_len\n",
        "#     txt = self.chunks[st : st+sl+1]    \n",
        "#     return LMTensorText(txt[:-1]),txt[1:]\n",
        "#     # return LMTensorText(txt[:-1].tolist()+[1]), LMTensorText(txt[1:].tolist()+[1])   ## ADD EOS TOKEN"
      ],
      "execution_count": null,
      "outputs": []
    },
    {
      "cell_type": "markdown",
      "metadata": {
        "id": "dgWyWSwsrHkb"
      },
      "source": [
        "Calc splits"
      ]
    },
    {
      "cell_type": "code",
      "metadata": {
        "id": "pf8B9dre4Jop"
      },
      "source": [
        "# Back up the original dataframe\n",
        "df_bckp=df"
      ],
      "execution_count": null,
      "outputs": []
    },
    {
      "cell_type": "code",
      "metadata": {
        "id": "tlURQqzk4Lvb",
        "colab": {
          "base_uri": "https://localhost:8080/"
        },
        "outputId": "09163b7f-67a8-44e7-fa86-825ffcb43687"
      },
      "source": [
        "# Take 4000 records for sake of performance\n",
        "df=df_bckp[:4000]\n",
        "df.info()"
      ],
      "execution_count": null,
      "outputs": [
        {
          "output_type": "stream",
          "text": [
            "<class 'pandas.core.frame.DataFrame'>\n",
            "RangeIndex: 4000 entries, 0 to 3999\n",
            "Data columns (total 1 columns):\n",
            " #   Column  Non-Null Count  Dtype \n",
            "---  ------  --------------  ----- \n",
            " 0   text    4000 non-null   object\n",
            "dtypes: object(1)\n",
            "memory usage: 31.4+ KB\n"
          ],
          "name": "stdout"
        }
      ]
    },
    {
      "cell_type": "code",
      "metadata": {
        "id": "aO6t0o7d4bSI"
      },
      "source": [
        "# Split enwik8 by character count\n",
        "a=df.apply(lambda x: x.str.len())\n",
        "a.columns=['lens']\n",
        "df=pd.concat([df,a], axis=1)\n",
        "df['lens_cum_sum'] = df.lens.cumsum()"
      ],
      "execution_count": null,
      "outputs": []
    },
    {
      "cell_type": "code",
      "metadata": {
        "id": "XyPjLi846DfW",
        "colab": {
          "base_uri": "https://localhost:8080/"
        },
        "outputId": "5bf5bf4c-4ff6-4601-e4c0-a969d190ce68"
      },
      "source": [
        "df.lens.sum()"
      ],
      "execution_count": null,
      "outputs": [
        {
          "output_type": "execute_result",
          "data": {
            "text/plain": [
              "347377"
            ]
          },
          "metadata": {
            "tags": []
          },
          "execution_count": 93
        }
      ]
    },
    {
      "cell_type": "code",
      "metadata": {
        "id": "rpqfuPk4rHkb"
      },
      "source": [
        "train_cutoff = int(df.lens.sum()*0.5) #- 10000000  # keep all but 10M characters for val and test\n",
        "    \n",
        "train_idxs = df.loc[df['lens_cum_sum'] < train_cutoff].index.values\n",
        "train_idxs = list(range(0, max(train_idxs)))\n",
        "\n",
        "remaining_idxs = len(df) - max(train_idxs)\n",
        "validation_idxs = list(range(max(train_idxs), max(train_idxs) + int(remaining_idxs/2)))\n",
        "test_idxs = list(range(max(validation_idxs), len(df)))\n",
        "\n",
        "splits = [train_idxs, validation_idxs]"
      ],
      "execution_count": null,
      "outputs": []
    },
    {
      "cell_type": "code",
      "metadata": {
        "id": "0skA7C-v8Z0g",
        "colab": {
          "base_uri": "https://localhost:8080/"
        },
        "outputId": "9f8731a2-fda5-4a4b-b0ee-ef3ce4a287cf"
      },
      "source": [
        "len(train_idxs),len(validation_idxs)"
      ],
      "execution_count": null,
      "outputs": [
        {
          "output_type": "execute_result",
          "data": {
            "text/plain": [
              "(2253, 874)"
            ]
          },
          "metadata": {
            "tags": []
          },
          "execution_count": 95
        }
      ]
    },
    {
      "cell_type": "markdown",
      "metadata": {
        "id": "OzsM7S4hrHkb"
      },
      "source": [
        "Get dls"
      ]
    },
    {
      "cell_type": "code",
      "metadata": {
        "id": "dN9CBITSrHkb"
      },
      "source": [
        "# Quick naive split alternative\n",
        "# cut = int(len(df)*0.8)\n",
        "# splits = range_of(df)[:cut], range_of(df[cut:])\n",
        "\n",
        "tfms = [attrgetter(\"text\"), bte]\n",
        "dsets = Datasets(df, [tfms, tfms], splits=splits, dl_type=LMDataLoader)\n",
        "\n",
        "vocab_sz = bte.vocab_size\n",
        "bs,sl = 32,128\n",
        "pad_seq2seq = partial(pad_input, pad_idx=bte.pad_token_id, pad_fields=[0,1])"
      ],
      "execution_count": null,
      "outputs": []
    },
    {
      "cell_type": "code",
      "metadata": {
        "id": "AjnVuZWQjzpR"
      },
      "source": [
        "## Yappi - Profiler 1\n",
        "#import yappi\n",
        "#yappi.start()"
      ],
      "execution_count": null,
      "outputs": []
    },
    {
      "cell_type": "code",
      "metadata": {
        "id": "AtcpiwrUsbW2"
      },
      "source": [
        "# Profiler 2\n",
        "#from pyinstrument import Profiler\n",
        "\n",
        "#profiler = Profiler()\n",
        "#profiler.start()"
      ],
      "execution_count": null,
      "outputs": []
    },
    {
      "cell_type": "code",
      "metadata": {
        "id": "_bIn3NLq2XMU"
      },
      "source": [
        "dls = dsets.dataloaders(bs=bs, seq_len=sl, before_batch=pad_seq2seq)"
      ],
      "execution_count": null,
      "outputs": []
    },
    {
      "cell_type": "code",
      "metadata": {
        "id": "CYGCDf3Usegt"
      },
      "source": [
        "# Profiler 2\n",
        "#profiler.stop()"
      ],
      "execution_count": null,
      "outputs": []
    },
    {
      "cell_type": "code",
      "metadata": {
        "id": "3TpGDtHUvCnQ"
      },
      "source": [
        "# Profiler 2\n",
        "#print(profiler.output_text(unicode=True, color=True))"
      ],
      "execution_count": null,
      "outputs": []
    },
    {
      "cell_type": "code",
      "metadata": {
        "id": "UpPsjVm3j2Qb"
      },
      "source": [
        "## Yappi - Profiler 1\n",
        "#func_stats = yappi.get_func_stats()\n",
        "#func_stats.save('callgrind.out', 'CALLGRIND')\n",
        "#yappi.stop()\n",
        "#yappi.clear_stats()"
      ],
      "execution_count": null,
      "outputs": []
    },
    {
      "cell_type": "code",
      "metadata": {
        "id": "4s1VRcNLlwc_"
      },
      "source": [
        "## Yappi - Profiler 1\n",
        "#!gprof2dot -f callgrind -n10 -s callgrind.out > valgrind.dot\n",
        "#!dot -Tpng valgrind.dot -o valgrind.png"
      ],
      "execution_count": null,
      "outputs": []
    },
    {
      "cell_type": "code",
      "metadata": {
        "id": "DQnHRk4cDjw9",
        "colab": {
          "base_uri": "https://localhost:8080/",
          "height": 164
        },
        "outputId": "b618cb14-4e5f-474a-e50e-2b904e1d3b6c"
      },
      "source": [
        "dls.show_batch(max_n=2)"
      ],
      "execution_count": null,
      "outputs": [
        {
          "output_type": "display_data",
          "data": {
            "text/html": [
              "<table border=\"1\" class=\"dataframe\">\n",
              "  <thead>\n",
              "    <tr style=\"text-align: right;\">\n",
              "      <th></th>\n",
              "      <th>text</th>\n",
              "      <th>text_</th>\n",
              "    </tr>\n",
              "  </thead>\n",
              "  <tbody>\n",
              "    <tr>\n",
              "      <th>0</th>\n",
              "      <td>&lt;bos&gt;===Historical events===\\n&lt;eos&gt;&lt;bos&gt;:* [[Causes of autism]]\\n&lt;eos&gt;&lt;bos&gt;  &lt;/page&gt;\\n&lt;eos&gt;&lt;bos&gt;    &lt;revision&gt;\\n&lt;eos&gt;&lt;bos&gt;In all, Abu Dhabi issued 95 stamps from 1964 t</td>\n",
              "      <td>===Historical events===\\n&lt;eos&gt;&lt;bos&gt;:* [[Causes of autism]]\\n&lt;eos&gt;&lt;bos&gt;  &lt;/page&gt;\\n&lt;eos&gt;&lt;bos&gt;    &lt;revision&gt;\\n&lt;eos&gt;&lt;bos&gt;In all, Abu Dhabi issued 95 stamps from 1964 to</td>\n",
              "    </tr>\n",
              "    <tr>\n",
              "      <th>1</th>\n",
              "      <td>rred method of terrorism, dynamite, earned him the moniker &amp;quot;Dynamost.&amp;quot;  \\n&lt;eos&gt;&lt;bos&gt;The ''Platform'' continues to inspire some</td>\n",
              "      <td>red method of terrorism, dynamite, earned him the moniker &amp;quot;Dynamost.&amp;quot;  \\n&lt;eos&gt;&lt;bos&gt;The ''Platform'' continues to inspire some c</td>\n",
              "    </tr>\n",
              "  </tbody>\n",
              "</table>"
            ],
            "text/plain": [
              "<IPython.core.display.HTML object>"
            ]
          },
          "metadata": {
            "tags": []
          }
        }
      ]
    },
    {
      "cell_type": "code",
      "metadata": {
        "id": "0yfhrOFtrHkc",
        "colab": {
          "base_uri": "https://localhost:8080/"
        },
        "outputId": "a87e269b-0236-4514-b0b6-cca0ddd19458"
      },
      "source": [
        "xb, yb = dls.one_batch()\n",
        "xb.shape, yb.shape"
      ],
      "execution_count": null,
      "outputs": [
        {
          "output_type": "execute_result",
          "data": {
            "text/plain": [
              "((32, 128), (32, 128))"
            ]
          },
          "metadata": {
            "tags": []
          },
          "execution_count": 105
        }
      ]
    },
    {
      "cell_type": "code",
      "metadata": {
        "id": "mmiyNrZCrHkd"
      },
      "source": [
        "vocab_sz = bte.vocab_size"
      ],
      "execution_count": null,
      "outputs": []
    },
    {
      "cell_type": "markdown",
      "metadata": {
        "id": "iAHrj8xsrHkd"
      },
      "source": [
        "# Begin Experiment Training"
      ]
    },
    {
      "cell_type": "code",
      "metadata": {
        "id": "UCfc4LIbycYK"
      },
      "source": [
        "from fastai.callback.wandb import *"
      ],
      "execution_count": null,
      "outputs": []
    },
    {
      "cell_type": "code",
      "metadata": {
        "id": "ZRGplPrYzJob",
        "colab": {
          "base_uri": "https://localhost:8080/"
        },
        "outputId": "bf6f30f4-499d-4ec7-9fb1-6e3477a97f5c"
      },
      "source": [
        "wandb.login()"
      ],
      "execution_count": null,
      "outputs": [
        {
          "output_type": "stream",
          "text": [
            "\u001b[34m\u001b[1mwandb\u001b[0m: Currently logged in as: \u001b[33msheikmohdimran\u001b[0m (use `wandb login --relogin` to force relogin)\n"
          ],
          "name": "stderr"
        },
        {
          "output_type": "execute_result",
          "data": {
            "text/plain": [
              "True"
            ]
          },
          "metadata": {
            "tags": []
          },
          "execution_count": 81
        }
      ]
    },
    {
      "cell_type": "code",
      "metadata": {
        "id": "tigjgHsVzJmT",
        "colab": {
          "base_uri": "https://localhost:8080/",
          "height": 1000,
          "referenced_widgets": [
            "6fbaeaafa88f41b4b4ccfb309e155050",
            "ff98be4fbc494e789350f50e689851e7",
            "a1bc576a5e4f4e0a920d6461ca058531",
            "4d0afb0e7ab648b88c3b498665b19dd2",
            "dd2b5cb0bb9a4676b7673214e01bba77",
            "d2ea5477c2b141d1b170a590a7c1defa",
            "c5203ce1a5a24b9bbd744fecc44283ac",
            "a5a4dc0b53c646daa935e59ec8b5a790"
          ]
        },
        "outputId": "27dc414d-94ca-4b58-8bda-eaf23f753feb"
      },
      "source": [
        "wandb.init(reinit=True, project=\"reformer-fastai\", name=WANDB_NAME, group=GROUP, notes=NOTES,  tags=TAGS)"
      ],
      "execution_count": null,
      "outputs": [
        {
          "output_type": "display_data",
          "data": {
            "text/html": [
              "Finishing last run (ID:1przh2r9) before initializing another..."
            ],
            "text/plain": [
              "<IPython.core.display.HTML object>"
            ]
          },
          "metadata": {
            "tags": []
          }
        },
        {
          "output_type": "display_data",
          "data": {
            "text/html": [
              "<br/>Waiting for W&B process to finish, PID 1085<br/>Program ended successfully."
            ],
            "text/plain": [
              "<IPython.core.display.HTML object>"
            ]
          },
          "metadata": {
            "tags": []
          }
        },
        {
          "output_type": "display_data",
          "data": {
            "application/vnd.jupyter.widget-view+json": {
              "model_id": "6fbaeaafa88f41b4b4ccfb309e155050",
              "version_minor": 0,
              "version_major": 2
            },
            "text/plain": [
              "VBox(children=(Label(value=' 0.01MB of 0.01MB uploaded (0.00MB deduped)\\r'), FloatProgress(value=1.0, max=1.0)…"
            ]
          },
          "metadata": {
            "tags": []
          }
        },
        {
          "output_type": "display_data",
          "data": {
            "text/html": [
              "Find user logs for this run at: <code>/content/wandb/run-20201122_170349-1przh2r9/logs/debug.log</code>"
            ],
            "text/plain": [
              "<IPython.core.display.HTML object>"
            ]
          },
          "metadata": {
            "tags": []
          }
        },
        {
          "output_type": "display_data",
          "data": {
            "text/html": [
              "Find internal logs for this run at: <code>/content/wandb/run-20201122_170349-1przh2r9/logs/debug-internal.log</code>"
            ],
            "text/plain": [
              "<IPython.core.display.HTML object>"
            ]
          },
          "metadata": {
            "tags": []
          }
        },
        {
          "output_type": "display_data",
          "data": {
            "text/html": [
              "<h3>Run summary:</h3><br/><style>\n",
              "    table.wandb td:nth-child(1) { padding: 0 10px; text-align: right }\n",
              "    </style><table class=\"wandb\">\n",
              "<tr><td>epoch</td><td>4</td></tr><tr><td>train_loss</td><td>5.21875</td></tr><tr><td>raw_loss</td><td>5.17499</td></tr><tr><td>wd_0</td><td>0.05</td></tr><tr><td>sqr_mom_0</td><td>0.99</td></tr><tr><td>lr_0</td><td>0.00085</td></tr><tr><td>mom_0</td><td>0.86464</td></tr><tr><td>eps_0</td><td>1e-05</td></tr><tr><td>_step</td><td>31</td></tr><tr><td>_runtime</td><td>118</td></tr><tr><td>_timestamp</td><td>1606064747</td></tr><tr><td>valid_loss</td><td>4.90819</td></tr><tr><td>accuracy</td><td>0.08004</td></tr><tr><td>perplexity</td><td>135.39384</td></tr></table>"
            ],
            "text/plain": [
              "<IPython.core.display.HTML object>"
            ]
          },
          "metadata": {
            "tags": []
          }
        },
        {
          "output_type": "display_data",
          "data": {
            "text/html": [
              "<h3>Run history:</h3><br/><style>\n",
              "    table.wandb td:nth-child(1) { padding: 0 10px; text-align: right }\n",
              "    </style><table class=\"wandb\">\n",
              "<tr><td>epoch</td><td>▁▁▁▂▂▂▂▃▃▃▃▄▄▄▄▅▅▅▅▆▆▆▆▆▇▇▇▇███</td></tr><tr><td>train_loss</td><td>▅▅▄▄▅▆▇▇██████▇▆▆▆▆▆▅▅▅▁▁▁▁▁▂▂▂</td></tr><tr><td>raw_loss</td><td>▄▃▃▃████▆▆▆▅▇▆▅▅▅▅▅▄▃▃▂▁▁▁▁▃▃▃▂</td></tr><tr><td>wd_0</td><td>▁▁▁▁▁▁▁▁▁▁▁▁▁▁▁▁▁▁▁▁▁▁▁▁▁▁▁▁▁▁▁</td></tr><tr><td>sqr_mom_0</td><td>▁▁▁▁▁▁▁▁▁▁▁▁▁▁▁▁▁▁▁▁▁▁▁▁▁▁▁▁▁▁▁</td></tr><tr><td>lr_0</td><td>▁▂▃▄▄▄▄▄▂▃▄▄▄▄▄▁▂▃▄▄▄▄▄▁▂▅▇███▇</td></tr><tr><td>mom_0</td><td>█▇▄▂▁▁▁▂▇▄▂▁▁▁▂█▇▄▂▁▁▁▂█▇▄▂▁▁▁▂</td></tr><tr><td>eps_0</td><td>▁▁▁▁▁▁▁▁▁▁▁▁▁▁▁▁▁▁▁▁▁▁▁▁▁▁▁▁▁▁▁</td></tr><tr><td>_step</td><td>▁▁▁▂▂▂▂▃▃▃▃▄▄▄▄▅▅▅▅▆▆▆▆▆▇▇▇▇███</td></tr><tr><td>_runtime</td><td>▁▁▁▁▁▁▁▁▃▃▃▃▃▃▃▇▇▇▇▇▇▇▇████████</td></tr><tr><td>_timestamp</td><td>▁▁▁▁▁▁▁▁▃▃▃▃▃▃▃▇▇▇▇▇▇▇▇████████</td></tr><tr><td>valid_loss</td><td>█▆▁▂</td></tr><tr><td>accuracy</td><td>▁█▅▅</td></tr><tr><td>perplexity</td><td>█▃▁▁</td></tr></table><br/>"
            ],
            "text/plain": [
              "<IPython.core.display.HTML object>"
            ]
          },
          "metadata": {
            "tags": []
          }
        },
        {
          "output_type": "display_data",
          "data": {
            "text/html": [
              "Synced 5 W&B file(s), 1 media file(s), 0 artifact file(s) and 0 other file(s)"
            ],
            "text/plain": [
              "<IPython.core.display.HTML object>"
            ]
          },
          "metadata": {
            "tags": []
          }
        },
        {
          "output_type": "display_data",
          "data": {
            "text/html": [
              "\n",
              "                    <br/>Synced <strong style=\"color:#cdcd00\">enc_lm_enwik8</strong>: <a href=\"https://wandb.ai/sheikmohdimran/reformer-fastai/runs/1przh2r9\" target=\"_blank\">https://wandb.ai/sheikmohdimran/reformer-fastai/runs/1przh2r9</a><br/>\n",
              "                "
            ],
            "text/plain": [
              "<IPython.core.display.HTML object>"
            ]
          },
          "metadata": {
            "tags": []
          }
        },
        {
          "output_type": "display_data",
          "data": {
            "text/html": [
              "...Successfully finished last run (ID:1przh2r9). Initializing new run:<br/><br/>"
            ],
            "text/plain": [
              "<IPython.core.display.HTML object>"
            ]
          },
          "metadata": {
            "tags": []
          }
        },
        {
          "output_type": "display_data",
          "data": {
            "text/html": [
              "\n",
              "                Tracking run with wandb version 0.10.11<br/>\n",
              "                Syncing run <strong style=\"color:#cdcd00\">enc_lm_enwik8</strong> to <a href=\"https://wandb.ai\" target=\"_blank\">Weights & Biases</a> <a href=\"https://docs.wandb.com/integrations/jupyter.html\" target=\"_blank\">(Documentation)</a>.<br/>\n",
              "                Project page: <a href=\"https://wandb.ai/sheikmohdimran/reformer-fastai\" target=\"_blank\">https://wandb.ai/sheikmohdimran/reformer-fastai</a><br/>\n",
              "                Run page: <a href=\"https://wandb.ai/sheikmohdimran/reformer-fastai/runs/19oy04x3\" target=\"_blank\">https://wandb.ai/sheikmohdimran/reformer-fastai/runs/19oy04x3</a><br/>\n",
              "                Run data is saved locally in <code>/content/wandb/run-20201122_170744-19oy04x3</code><br/><br/>\n",
              "            "
            ],
            "text/plain": [
              "<IPython.core.display.HTML object>"
            ]
          },
          "metadata": {
            "tags": []
          }
        },
        {
          "output_type": "execute_result",
          "data": {
            "text/plain": [
              "<wandb.sdk.wandb_run.Run at 0x7f1efac636a0>"
            ],
            "text/html": [
              "<h1>Run(19oy04x3)</h1><p></p><iframe src=\"https://wandb.ai/sheikmohdimran/reformer-fastai/runs/19oy04x3\" style=\"border:none;width:100%;height:400px\"></iframe>"
            ]
          },
          "metadata": {
            "tags": []
          },
          "execution_count": 108
        }
      ]
    },
    {
      "cell_type": "code",
      "metadata": {
        "id": "HzaKSXYXrHkd"
      },
      "source": [
        "learn = Learner(dls, TransformerLM(vocab_sz, 512),\n",
        "                loss_func=CrossEntropyLossFlat(),# cbs=[WandbCallback(log_model=False)],\n",
        "                metrics=[accuracy, Perplexity()])#.to_native_fp16()"
      ],
      "execution_count": null,
      "outputs": []
    },
    {
      "cell_type": "code",
      "metadata": {
        "id": "rg8IMkTVrHkd",
        "colab": {
          "base_uri": "https://localhost:8080/",
          "height": 301
        },
        "outputId": "9b4faa75-fb85-430b-bf29-e7fd7b45eab9"
      },
      "source": [
        "learn.lr_find()"
      ],
      "execution_count": null,
      "outputs": [
        {
          "output_type": "display_data",
          "data": {
            "text/html": [
              ""
            ],
            "text/plain": [
              "<IPython.core.display.HTML object>"
            ]
          },
          "metadata": {
            "tags": []
          }
        },
        {
          "output_type": "execute_result",
          "data": {
            "text/plain": [
              "SuggestedLRs(lr_min=0.005754399299621582, lr_steep=0.04786301031708717)"
            ]
          },
          "metadata": {
            "tags": []
          },
          "execution_count": 110
        },
        {
          "output_type": "display_data",
          "data": {
            "image/png": "[encoded data removed]",
            "text/plain": [
              "<Figure size 432x288 with 1 Axes>"
            ]
          },
          "metadata": {
            "tags": [],
            "needs_background": "light"
          }
        }
      ]
    },
    {
      "cell_type": "code",
      "metadata": {
        "id": "MLVZVGflrHkd",
        "colab": {
          "base_uri": "https://localhost:8080/",
          "height": 130
        },
        "outputId": "d5152b8b-922b-4f66-a27f-6d4492901698"
      },
      "source": [
        "learn.fit_one_cycle(2, 5e-4, wd=0.05,cbs=WandbCallback(log_model=False))"
      ],
      "execution_count": null,
      "outputs": [
        {
          "output_type": "display_data",
          "data": {
            "text/html": [
              "<table border=\"1\" class=\"dataframe\">\n",
              "  <thead>\n",
              "    <tr style=\"text-align: left;\">\n",
              "      <th>epoch</th>\n",
              "      <th>train_loss</th>\n",
              "      <th>valid_loss</th>\n",
              "      <th>accuracy</th>\n",
              "      <th>perplexity</th>\n",
              "      <th>time</th>\n",
              "    </tr>\n",
              "  </thead>\n",
              "  <tbody>\n",
              "    <tr>\n",
              "      <td>0</td>\n",
              "      <td>4.358492</td>\n",
              "      <td>3.331251</td>\n",
              "      <td>0.198089</td>\n",
              "      <td>27.973318</td>\n",
              "      <td>00:10</td>\n",
              "    </tr>\n",
              "    <tr>\n",
              "      <td>1</td>\n",
              "      <td>3.409476</td>\n",
              "      <td>3.066231</td>\n",
              "      <td>0.223202</td>\n",
              "      <td>21.460865</td>\n",
              "      <td>00:09</td>\n",
              "    </tr>\n",
              "  </tbody>\n",
              "</table>"
            ],
            "text/plain": [
              "<IPython.core.display.HTML object>"
            ]
          },
          "metadata": {
            "tags": []
          }
        },
        {
          "output_type": "stream",
          "text": [
            "WandbCallback was not able to get prediction samples -> wandb.log must be passed a dictionary\n"
          ],
          "name": "stdout"
        }
      ]
    }
  ]
}