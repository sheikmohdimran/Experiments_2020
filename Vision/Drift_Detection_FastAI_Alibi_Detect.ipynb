{
  "nbformat": 4,
  "nbformat_minor": 0,
  "metadata": {
    "colab": {
      "name": "Drift_Detection_FastAI_Alibi-Detect.ipynb",
      "provenance": [],
      "collapsed_sections": [],
      "authorship_tag": "ABX9TyM2qX271QCPyO858bHlgydW",
      "include_colab_link": true
    },
    "kernelspec": {
      "name": "python3",
      "display_name": "Python 3"
    },
    "accelerator": "GPU"
  },
  "cells": [
    {
      "cell_type": "markdown",
      "metadata": {
        "id": "view-in-github",
        "colab_type": "text"
      },
      "source": [
        "<a href=\"https://colab.research.google.com/github/sheikmohdimran/Experiments_2020/blob/master/Vision/Drift_Detection_FastAI_Alibi_Detect.ipynb\" target=\"_parent\"><img src=\"https://colab.research.google.com/assets/colab-badge.svg\" alt=\"Open In Colab\"/></a>"
      ]
    },
    {
      "cell_type": "code",
      "metadata": {
        "id": "q5f4ctoxNWTk",
        "colab_type": "code",
        "colab": {
          "base_uri": "https://localhost:8080/",
          "height": 119
        },
        "outputId": "f3fb346e-ea49-4fe7-8221-1ae9417f15be"
      },
      "source": [
        "!pip install alibi_detect -q\n",
        "!pip install fastai2 -q "
      ],
      "execution_count": 1,
      "outputs": [
        {
          "output_type": "stream",
          "text": [
            "\u001b[K     |████████████████████████████████| 112kB 2.8MB/s \n",
            "\u001b[K     |████████████████████████████████| 1.1MB 11.0MB/s \n",
            "\u001b[K     |████████████████████████████████| 81kB 8.3MB/s \n",
            "\u001b[?25h  Building wheel for holidays (setup.py) ... \u001b[?25l\u001b[?25hdone\n",
            "  Building wheel for mmh3 (setup.py) ... \u001b[?25l\u001b[?25hdone\n",
            "\u001b[K     |████████████████████████████████| 184kB 2.8MB/s \n",
            "\u001b[?25h"
          ],
          "name": "stdout"
        }
      ]
    },
    {
      "cell_type": "markdown",
      "metadata": {
        "id": "4KkAGeZI2PLh",
        "colab_type": "text"
      },
      "source": [
        "##Train MNIST"
      ]
    },
    {
      "cell_type": "code",
      "metadata": {
        "id": "CSxP5tDXhJmC",
        "colab_type": "code",
        "colab": {}
      },
      "source": [
        "from fastai2.vision.all import *\n",
        "import pandas as pd\n",
        "from sklearn.model_selection import train_test_split\n",
        "from sklearn.metrics import accuracy_score"
      ],
      "execution_count": 2,
      "outputs": []
    },
    {
      "cell_type": "code",
      "metadata": {
        "id": "uOYdL5FxhJ7w",
        "colab_type": "code",
        "colab": {}
      },
      "source": [
        "%reload_ext autoreload\n",
        "%autoreload 2\n",
        "%matplotlib inline"
      ],
      "execution_count": 3,
      "outputs": []
    },
    {
      "cell_type": "code",
      "metadata": {
        "id": "rzexFhgBkQZL",
        "colab_type": "code",
        "colab": {
          "base_uri": "https://localhost:8080/",
          "height": 35
        },
        "outputId": "f80b532e-6ed9-4bf7-8029-46cb967f465c"
      },
      "source": [
        "path = untar_data(URLs.MNIST)"
      ],
      "execution_count": 73,
      "outputs": [
        {
          "output_type": "execute_result",
          "data": {
            "application/vnd.google.colaboratory.intrinsic+json": {
              "type": "string"
            },
            "text/plain": [
              "'path = untar_data(URLs.PETS)\\nfiles = get_image_files(path/\"images\")\\ndef label_func(f): return f[0].isupper()'"
            ]
          },
          "metadata": {
            "tags": []
          },
          "execution_count": 73
        }
      ]
    },
    {
      "cell_type": "code",
      "metadata": {
        "id": "2XDGjokzhJo9",
        "colab_type": "code",
        "colab": {
          "base_uri": "https://localhost:8080/",
          "height": 142
        },
        "outputId": "e29d2115-2f67-4a67-cfb5-4128e58e9236"
      },
      "source": [
        "dls = ImageDataLoaders.from_folder(path, train='training',valid_pct=0.2)\n",
        "learn = cnn_learner(dls, resnet18, bs=64, metrics=accuracy)\n",
        "learn.fit_one_cycle(3)"
      ],
      "execution_count": 75,
      "outputs": [
        {
          "output_type": "display_data",
          "data": {
            "text/html": [
              "<table border=\"1\" class=\"dataframe\">\n",
              "  <thead>\n",
              "    <tr style=\"text-align: left;\">\n",
              "      <th>epoch</th>\n",
              "      <th>train_loss</th>\n",
              "      <th>valid_loss</th>\n",
              "      <th>accuracy</th>\n",
              "      <th>time</th>\n",
              "    </tr>\n",
              "  </thead>\n",
              "  <tbody>\n",
              "    <tr>\n",
              "      <td>0</td>\n",
              "      <td>0.326660</td>\n",
              "      <td>0.169032</td>\n",
              "      <td>0.947643</td>\n",
              "      <td>01:04</td>\n",
              "    </tr>\n",
              "    <tr>\n",
              "      <td>1</td>\n",
              "      <td>0.128025</td>\n",
              "      <td>0.078880</td>\n",
              "      <td>0.976929</td>\n",
              "      <td>01:03</td>\n",
              "    </tr>\n",
              "    <tr>\n",
              "      <td>2</td>\n",
              "      <td>0.100732</td>\n",
              "      <td>0.072237</td>\n",
              "      <td>0.978214</td>\n",
              "      <td>01:03</td>\n",
              "    </tr>\n",
              "  </tbody>\n",
              "</table>"
            ],
            "text/plain": [
              "<IPython.core.display.HTML object>"
            ]
          },
          "metadata": {
            "tags": []
          }
        }
      ]
    },
    {
      "cell_type": "code",
      "metadata": {
        "id": "7NwYy7WQoX_a",
        "colab_type": "code",
        "colab": {
          "base_uri": "https://localhost:8080/",
          "height": 35
        },
        "outputId": "aed6033e-0cf0-4a72-f424-b0d63fd2a9dc"
      },
      "source": [
        "learn.save('resnet-18-mnist')\n",
        "learn.load('resnet-18-mnist');"
      ],
      "execution_count": 76,
      "outputs": [
        {
          "output_type": "execute_result",
          "data": {
            "application/vnd.google.colaboratory.intrinsic+json": {
              "type": "string"
            },
            "text/plain": [
              "\"learn.save('resnet-34-pets')\\nlearn.load('resnet-34-pets');\""
            ]
          },
          "metadata": {
            "tags": []
          },
          "execution_count": 76
        }
      ]
    },
    {
      "cell_type": "code",
      "metadata": {
        "id": "8w2ODUBunY8Q",
        "colab_type": "code",
        "colab": {}
      },
      "source": [
        "def print_accuracy(learner,folder,dls):\n",
        "  test_files=L([f for f in Path(folder).glob('**/*.png')])\n",
        "  test_dl = learner.dls.test_dl(test_files, with_label=False)\n",
        "  preds,_ = learner.get_preds(dl=test_dl)  \n",
        "  pred_vals=[]\n",
        "  for index, item in enumerate(preds): \n",
        "    prediction = dls.categorize.decode(np.argmax(item)).upper() \n",
        "    pred_vals.append([test_dl.items[index].name,prediction])\n",
        "\n",
        "  df_pred = pd.DataFrame(pred_vals)\n",
        "  df_pred.columns = ['file', 'pred']\n",
        "  test_org=[[f.name, str(f.parents[0]).split('/')[-1]] for f in Path(path/'testing').glob('**/*.png')]\n",
        "  df_test = pd.DataFrame(test_org)\n",
        "  df_test.columns = ['file', 'label']\n",
        "  df_final=pd.merge(df_pred[['file','pred']],df_test, on='file')\n",
        "  return accuracy_score(df_final['label'], df_final['pred'])"
      ],
      "execution_count": 134,
      "outputs": []
    },
    {
      "cell_type": "markdown",
      "metadata": {
        "id": "0zHk1nlxxHr6",
        "colab_type": "text"
      },
      "source": [
        "##Generate noisy dataset"
      ]
    },
    {
      "cell_type": "code",
      "metadata": {
        "id": "hs2RsiG_27Dg",
        "colab_type": "code",
        "colab": {}
      },
      "source": [
        "! rm -rf GaussNoise MotionBlur my_path"
      ],
      "execution_count": 135,
      "outputs": []
    },
    {
      "cell_type": "code",
      "metadata": {
        "id": "AUC9U-a4wih3",
        "colab_type": "code",
        "colab": {}
      },
      "source": [
        "import os\n",
        "import numpy as np\n",
        "import cv2\n",
        "from matplotlib import pyplot as plt\n",
        "from tqdm import tqdm\n",
        "import albumentations as A\n",
        "import random"
      ],
      "execution_count": 136,
      "outputs": []
    },
    {
      "cell_type": "markdown",
      "metadata": {
        "id": "jLScEUKBKpo9",
        "colab_type": "text"
      },
      "source": [
        "###Gauss Noise"
      ]
    },
    {
      "cell_type": "code",
      "metadata": {
        "id": "mwMNwcaaFVvb",
        "colab_type": "code",
        "colab": {}
      },
      "source": [
        "!cp -R /root/.fastai/data/mnist_png/testing .\n",
        "!mv testing GaussNoise"
      ],
      "execution_count": 80,
      "outputs": []
    },
    {
      "cell_type": "code",
      "metadata": {
        "id": "1ltirXU7CtGw",
        "colab_type": "code",
        "colab": {
          "base_uri": "https://localhost:8080/",
          "height": 282
        },
        "outputId": "5f25deb3-73ba-4ba1-c980-5d2996ddba38"
      },
      "source": [
        "GaussNoise_files=[f for f in Path('./GaussNoise').glob('**/*.png')]\n",
        "\n",
        "img = cv2.imread(str(GaussNoise_files[0]))\n",
        "light = A.Compose([A.GaussNoise(var_limit=(100.0, 500.0))], p=1)\n",
        "plt.imshow(cv2.cvtColor(light(image=img)['image'], cv2.COLOR_BGR2RGB))"
      ],
      "execution_count": 81,
      "outputs": [
        {
          "output_type": "execute_result",
          "data": {
            "text/plain": [
              "<matplotlib.image.AxesImage at 0x7ff06b986828>"
            ]
          },
          "metadata": {
            "tags": []
          },
          "execution_count": 81
        },
        {
          "output_type": "display_data",
          "data": {
            "image/png": "[encoded data removed]",
            "text/plain": [
              "<Figure size 432x288 with 1 Axes>"
            ]
          },
          "metadata": {
            "tags": [],
            "needs_background": "light"
          }
        }
      ]
    },
    {
      "cell_type": "code",
      "metadata": {
        "id": "5-qmPAc1FoC0",
        "colab_type": "code",
        "colab": {
          "base_uri": "https://localhost:8080/",
          "height": 34
        },
        "outputId": "83d89c5f-3e3f-41db-9aa5-2bcf165cee30"
      },
      "source": [
        "for index, item in enumerate(tqdm(GaussNoise_files)): \n",
        "  light = A.Compose([A.GaussNoise(var_limit=(100.0, 500.0))], p=1)\n",
        "  img = cv2.imread(str(item))\n",
        "  img1 = cv2.cvtColor(light(image=img)['image'], cv2.COLOR_BGR2RGB)\n",
        "  cv2.imwrite(str(item), img1) "
      ],
      "execution_count": 82,
      "outputs": [
        {
          "output_type": "stream",
          "text": [
            "100%|██████████| 10000/10000 [00:04<00:00, 2179.80it/s]\n"
          ],
          "name": "stderr"
        }
      ]
    },
    {
      "cell_type": "markdown",
      "metadata": {
        "id": "fNVhlmUiK83W",
        "colab_type": "text"
      },
      "source": [
        "###Motion Blur"
      ]
    },
    {
      "cell_type": "code",
      "metadata": {
        "id": "lXJNb4NEE8CR",
        "colab_type": "code",
        "colab": {}
      },
      "source": [
        "!cp -R /root/.fastai/data/mnist_png/testing .\n",
        "!mv testing MotionBlur"
      ],
      "execution_count": 83,
      "outputs": []
    },
    {
      "cell_type": "code",
      "metadata": {
        "id": "8onrum5mLAzJ",
        "colab_type": "code",
        "colab": {
          "base_uri": "https://localhost:8080/",
          "height": 282
        },
        "outputId": "6184f783-f04e-4304-ecb3-441ce29f2ff0"
      },
      "source": [
        "MotionBlur_files=[f for f in Path('./MotionBlur').glob('**/*.png')]\n",
        "\n",
        "img = cv2.imread(str(MotionBlur_files[0]))\n",
        "light = A.Compose([A.MotionBlur(blur_limit=15, p=1)])\n",
        "plt.imshow(cv2.cvtColor(light(image=img)['image'], cv2.COLOR_BGR2RGB))"
      ],
      "execution_count": 84,
      "outputs": [
        {
          "output_type": "execute_result",
          "data": {
            "text/plain": [
              "<matplotlib.image.AxesImage at 0x7ff06a6b3978>"
            ]
          },
          "metadata": {
            "tags": []
          },
          "execution_count": 84
        },
        {
          "output_type": "display_data",
          "data": {
            "image/png": "[encoded data removed]",
            "text/plain": [
              "<Figure size 432x288 with 1 Axes>"
            ]
          },
          "metadata": {
            "tags": [],
            "needs_background": "light"
          }
        }
      ]
    },
    {
      "cell_type": "code",
      "metadata": {
        "id": "A97zpWaFLAwO",
        "colab_type": "code",
        "colab": {
          "base_uri": "https://localhost:8080/",
          "height": 34
        },
        "outputId": "aa05f05a-1d4a-468e-a2c0-f8341308c5ad"
      },
      "source": [
        "for index, item in enumerate(tqdm(MotionBlur_files)): \n",
        "  light = A.Compose([A.MotionBlur(blur_limit=15, p=1)])\n",
        "  img = cv2.imread(str(item))\n",
        "  img1 = cv2.cvtColor(light(image=img)['image'], cv2.COLOR_BGR2RGB)\n",
        "  cv2.imwrite(str(item), img1) "
      ],
      "execution_count": 85,
      "outputs": [
        {
          "output_type": "stream",
          "text": [
            "100%|██████████| 10000/10000 [00:03<00:00, 2854.91it/s]\n"
          ],
          "name": "stderr"
        }
      ]
    },
    {
      "cell_type": "markdown",
      "metadata": {
        "id": "2sACmpVDKuWv",
        "colab_type": "text"
      },
      "source": [
        "Inference Accuracy"
      ]
    },
    {
      "cell_type": "code",
      "metadata": {
        "id": "NIw557PItgVN",
        "colab_type": "code",
        "colab": {
          "base_uri": "https://localhost:8080/",
          "height": 34
        },
        "outputId": "7b1386d0-fe62-4956-8b16-9a34ef49c227"
      },
      "source": [
        "print_accuracy(learn,path/'testing',dls)"
      ],
      "execution_count": 137,
      "outputs": [
        {
          "output_type": "display_data",
          "data": {
            "text/html": [
              ""
            ],
            "text/plain": [
              "<IPython.core.display.HTML object>"
            ]
          },
          "metadata": {
            "tags": []
          }
        },
        {
          "output_type": "execute_result",
          "data": {
            "text/plain": [
              "0.9841"
            ]
          },
          "metadata": {
            "tags": []
          },
          "execution_count": 137
        }
      ]
    },
    {
      "cell_type": "code",
      "metadata": {
        "id": "Atksh5bWFnnv",
        "colab_type": "code",
        "colab": {
          "base_uri": "https://localhost:8080/",
          "height": 34
        },
        "outputId": "4de7a6ad-a3da-4cc4-fcb3-a45b7815b939"
      },
      "source": [
        "print_accuracy(learn,'./GaussNoise',dls)"
      ],
      "execution_count": 87,
      "outputs": [
        {
          "output_type": "display_data",
          "data": {
            "text/html": [
              ""
            ],
            "text/plain": [
              "<IPython.core.display.HTML object>"
            ]
          },
          "metadata": {
            "tags": []
          }
        },
        {
          "output_type": "execute_result",
          "data": {
            "text/plain": [
              "0.7127"
            ]
          },
          "metadata": {
            "tags": []
          },
          "execution_count": 87
        }
      ]
    },
    {
      "cell_type": "code",
      "metadata": {
        "id": "RsNUDOROwX--",
        "colab_type": "code",
        "colab": {
          "base_uri": "https://localhost:8080/",
          "height": 34
        },
        "outputId": "1fd4844c-3a2e-4d56-c093-5e973558a8e5"
      },
      "source": [
        "print_accuracy(learn,'./MotionBlur',dls)"
      ],
      "execution_count": 88,
      "outputs": [
        {
          "output_type": "display_data",
          "data": {
            "text/html": [
              ""
            ],
            "text/plain": [
              "<IPython.core.display.HTML object>"
            ]
          },
          "metadata": {
            "tags": []
          }
        },
        {
          "output_type": "execute_result",
          "data": {
            "text/plain": [
              "0.6079"
            ]
          },
          "metadata": {
            "tags": []
          },
          "execution_count": 88
        }
      ]
    },
    {
      "cell_type": "markdown",
      "metadata": {
        "id": "Z2zH4s0cMBNq",
        "colab_type": "text"
      },
      "source": [
        "## Alibi Detect"
      ]
    },
    {
      "cell_type": "code",
      "metadata": {
        "id": "Agm6FHhVLdfV",
        "colab_type": "code",
        "colab": {}
      },
      "source": [
        "import numpy as np\n",
        "import tensorflow as tf\n",
        "from tensorflow.keras.layers import Conv2D, Dense, Flatten, InputLayer, Reshape\n",
        "\n",
        "from alibi_detect.cd import KSDrift\n",
        "from alibi_detect.cd.preprocess import uae, hidden_output\n",
        "from alibi_detect.utils.saving import save_detector, load_detector"
      ],
      "execution_count": 89,
      "outputs": []
    },
    {
      "cell_type": "code",
      "metadata": {
        "id": "zH1x0q9jvbM4",
        "colab_type": "code",
        "colab": {
          "base_uri": "https://localhost:8080/",
          "height": 34
        },
        "outputId": "6518c563-4f3a-4b60-f827-5fa8b70a0707"
      },
      "source": [
        "train_list=[f for f in Path(path/'training').glob('**/*.png')]\n",
        "train_1 = np.array([np.array(cv2.imread(str(fname))) for fname in train_list])\n",
        "train_1.shape"
      ],
      "execution_count": 102,
      "outputs": [
        {
          "output_type": "execute_result",
          "data": {
            "text/plain": [
              "(60000, 28, 28, 3)"
            ]
          },
          "metadata": {
            "tags": []
          },
          "execution_count": 102
        }
      ]
    },
    {
      "cell_type": "code",
      "metadata": {
        "id": "3o5h6-1gwnXT",
        "colab_type": "code",
        "colab": {
          "base_uri": "https://localhost:8080/",
          "height": 34
        },
        "outputId": "0095a8c1-e783-4830-b0c5-9415bb9580e6"
      },
      "source": [
        "tf.random.set_seed(0)\n",
        "\n",
        "# define encoder\n",
        "encoding_dim = 32\n",
        "encoder_net = tf.keras.Sequential(\n",
        "  [\n",
        "      InputLayer(input_shape=(28, 28, 3)),\n",
        "      Conv2D(14, 4, strides=2, padding='same', activation=tf.nn.relu),\n",
        "      Conv2D(7, 4, strides=2, padding='same', activation=tf.nn.relu),\n",
        "      Flatten(),\n",
        "      Dense(encoding_dim,)\n",
        "  ]\n",
        ")\n",
        "\n",
        "# initialise drift detector\n",
        "p_val = .05\n",
        "cd = KSDrift(\n",
        "    p_val=p_val,        # p-value for K-S test\n",
        "    X_ref=train_1,       # execute against original training set\n",
        "    preprocess_fn=uae,  # UAE for dimensionality reduction\n",
        "    preprocess_kwargs={'encoder_net': encoder_net, 'batch_size': 128},\n",
        "    alternative='two-sided'  # other options: 'less', 'greater'\n",
        ")\n",
        "\n",
        "# we can also save/load an initialised detector\n",
        "filepath = 'uae_dest'  # change to directory where detector is saved\n",
        "save_detector(cd, filepath)\n",
        "cd = load_detector(filepath)"
      ],
      "execution_count": 117,
      "outputs": [
        {
          "output_type": "stream",
          "text": [
            "WARNING:tensorflow:No training configuration found in the save file, so the model was *not* compiled. Compile it manually.\n"
          ],
          "name": "stdout"
        }
      ]
    },
    {
      "cell_type": "code",
      "metadata": {
        "id": "BuaZEIKh42Ty",
        "colab_type": "code",
        "colab": {}
      },
      "source": [
        "valid_list=list(learn.dls.valid.items)\n",
        "valid_1 = np.array([np.array(cv2.imread(str(fname))) for fname in valid_list])"
      ],
      "execution_count": 123,
      "outputs": []
    },
    {
      "cell_type": "code",
      "metadata": {
        "id": "Ly0armxvyp7P",
        "colab_type": "code",
        "colab": {
          "base_uri": "https://localhost:8080/",
          "height": 34
        },
        "outputId": "8dc29458-6ff1-4a1d-c338-9d476c226924"
      },
      "source": [
        "# Check for Drift in Validation data, compared to Training data\n",
        "preds_h0 = cd.predict(valid_1, return_p_val=True)\n",
        "labels = ['No!', 'Yes!']\n",
        "print('Drift? {}'.format(labels[preds_h0['data']['is_drift']]))"
      ],
      "execution_count": 124,
      "outputs": [
        {
          "output_type": "stream",
          "text": [
            "Drift? No!\n"
          ],
          "name": "stdout"
        }
      ]
    },
    {
      "cell_type": "code",
      "metadata": {
        "id": "KhU9kjbK0eTg",
        "colab_type": "code",
        "colab": {
          "base_uri": "https://localhost:8080/",
          "height": 119
        },
        "outputId": "40a081ff-9af2-4bc3-a700-d2b9c76ce3f4"
      },
      "source": [
        "print(preds_h0['data']['p_val'])"
      ],
      "execution_count": 125,
      "outputs": [
        {
          "output_type": "stream",
          "text": [
            "[0.27910402 0.03258128 0.6825555  0.01903064 0.98591757 0.7929366\n",
            " 0.9084443  0.74983996 0.9535649  0.26195264 0.30855486 0.99967873\n",
            " 0.7202761  0.9988217  0.67743534 0.8349646  0.89276665 0.9692008\n",
            " 0.14980586 0.13842063 0.5921058  0.9013396  0.07528443 0.58703446\n",
            " 0.3867598  0.4579381  0.69065005 0.5853463  0.8446657  0.98870426\n",
            " 0.17976397 0.18830748]\n"
          ],
          "name": "stdout"
        }
      ]
    },
    {
      "cell_type": "code",
      "metadata": {
        "id": "tj1GRCl0yrk_",
        "colab_type": "code",
        "colab": {}
      },
      "source": [
        "gauss_list=[f for f in Path('./GaussNoise').glob('**/*.png')]\n",
        "gauss_1 = np.array([np.array(cv2.imread(str(fname))) for fname in gauss_list])"
      ],
      "execution_count": 126,
      "outputs": []
    },
    {
      "cell_type": "code",
      "metadata": {
        "id": "_5gJnyyjyxp3",
        "colab_type": "code",
        "colab": {
          "base_uri": "https://localhost:8080/",
          "height": 34
        },
        "outputId": "c54bac59-ae7d-426e-c6cd-d10e44723b2c"
      },
      "source": [
        "# Check for Drift in GaussNoise data, compared to Training data\n",
        "preds_h0 = cd.predict(gauss_1, return_p_val=True)\n",
        "labels = ['No!', 'Yes!']\n",
        "print('Drift? {}'.format(labels[preds_h0['data']['is_drift']]))"
      ],
      "execution_count": 128,
      "outputs": [
        {
          "output_type": "stream",
          "text": [
            "Drift? Yes!\n"
          ],
          "name": "stdout"
        }
      ]
    },
    {
      "cell_type": "code",
      "metadata": {
        "id": "K6mpwr5ey0a7",
        "colab_type": "code",
        "colab": {
          "base_uri": "https://localhost:8080/",
          "height": 136
        },
        "outputId": "be71b2f0-de06-4ca3-9d23-4a0e13aa03bc"
      },
      "source": [
        "print(preds_h0['data']['p_val'])"
      ],
      "execution_count": 129,
      "outputs": [
        {
          "output_type": "stream",
          "text": [
            "[1.2141666e-21 0.0000000e+00 0.0000000e+00 0.0000000e+00 1.8513903e-09\n",
            " 8.4001528e-11 0.0000000e+00 0.0000000e+00 3.1019714e-15 0.0000000e+00\n",
            " 2.1176522e-17 1.3978313e-10 2.3357163e-23 0.0000000e+00 0.0000000e+00\n",
            " 4.9525810e-31 1.5375574e-38 0.0000000e+00 0.0000000e+00 0.0000000e+00\n",
            " 2.4932867e-04 0.0000000e+00 0.0000000e+00 0.0000000e+00 2.6904931e-43\n",
            " 1.0600891e-06 0.0000000e+00 0.0000000e+00 0.0000000e+00 4.3936231e-04\n",
            " 3.6796086e-02 1.2282579e-12]\n"
          ],
          "name": "stdout"
        }
      ]
    },
    {
      "cell_type": "code",
      "metadata": {
        "id": "xHUoGnR-4kXM",
        "colab_type": "code",
        "colab": {}
      },
      "source": [
        "motionblur_list=[f for f in Path('./GaussNoise').glob('**/*.png')]\n",
        "motionblur_1 = np.array([np.array(cv2.imread(str(fname))) for fname in motionblur_list])"
      ],
      "execution_count": 130,
      "outputs": []
    },
    {
      "cell_type": "code",
      "metadata": {
        "id": "luSrfkw75bNu",
        "colab_type": "code",
        "colab": {
          "base_uri": "https://localhost:8080/",
          "height": 34
        },
        "outputId": "73afce31-02eb-4668-844b-d463a698097a"
      },
      "source": [
        "# Check for Drift in MotionBlur data, compared to Training data\n",
        "preds_h0 = cd.predict(motionblur_1, return_p_val=True)\n",
        "labels = ['No!', 'Yes!']\n",
        "print('Drift? {}'.format(labels[preds_h0['data']['is_drift']]))"
      ],
      "execution_count": 131,
      "outputs": [
        {
          "output_type": "stream",
          "text": [
            "Drift? Yes!\n"
          ],
          "name": "stdout"
        }
      ]
    },
    {
      "cell_type": "code",
      "metadata": {
        "id": "NU8QdN2D5e9Y",
        "colab_type": "code",
        "colab": {}
      },
      "source": [
        ""
      ],
      "execution_count": null,
      "outputs": []
    }
  ]
}