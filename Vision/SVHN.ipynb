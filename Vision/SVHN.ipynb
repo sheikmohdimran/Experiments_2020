{
  "nbformat": 4,
  "nbformat_minor": 0,
  "metadata": {
    "colab": {
      "name": "SVHN.ipynb",
      "provenance": [],
      "authorship_tag": "ABX9TyPf/K651AvjBMVtOn6RzGAh",
      "include_colab_link": true
    },
    "kernelspec": {
      "name": "python3",
      "display_name": "Python 3"
    },
    "accelerator": "GPU"
  },
  "cells": [
    {
      "cell_type": "markdown",
      "metadata": {
        "id": "view-in-github",
        "colab_type": "text"
      },
      "source": [
        "<a href=\"https://colab.research.google.com/github/sheikmohdimran/Experiments_2020/blob/master/Vision/SVHN.ipynb\" target=\"_parent\"><img src=\"https://colab.research.google.com/assets/colab-badge.svg\" alt=\"Open In Colab\"/></a>"
      ]
    },
    {
      "cell_type": "markdown",
      "metadata": {
        "id": "m0A7_BhW9S6K",
        "colab_type": "text"
      },
      "source": [
        "## Download SVHN Train and Extra Datasets"
      ]
    },
    {
      "cell_type": "code",
      "metadata": {
        "id": "-tA58VlQSbT7",
        "colab_type": "code",
        "colab": {
          "base_uri": "https://localhost:8080/",
          "height": 204
        },
        "outputId": "53af31fd-f663-4759-b727-204fe38a8733"
      },
      "source": [
        "!wget http://ufldl.stanford.edu/housenumbers/extra.tar.gz\n",
        "!tar -xzf extra.tar.gz"
      ],
      "execution_count": null,
      "outputs": [
        {
          "output_type": "stream",
          "text": [
            "--2020-09-24 13:25:52--  http://ufldl.stanford.edu/housenumbers/extra.tar.gz\n",
            "Resolving ufldl.stanford.edu (ufldl.stanford.edu)... 171.64.68.10\n",
            "Connecting to ufldl.stanford.edu (ufldl.stanford.edu)|171.64.68.10|:80... connected.\n",
            "HTTP request sent, awaiting response... 200 OK\n",
            "Length: 1955489752 (1.8G) [application/x-gzip]\n",
            "Saving to: ‘extra.tar.gz’\n",
            "\n",
            "extra.tar.gz        100%[===================>]   1.82G  13.3MB/s    in 2m 17s  \n",
            "\n",
            "2020-09-24 13:28:09 (13.6 MB/s) - ‘extra.tar.gz’ saved [1955489752/1955489752]\n",
            "\n"
          ],
          "name": "stdout"
        }
      ]
    },
    {
      "cell_type": "code",
      "metadata": {
        "id": "-2oUMQaPcFwW",
        "colab_type": "code",
        "colab": {
          "base_uri": "https://localhost:8080/",
          "height": 204
        },
        "outputId": "5d2cfc58-04ca-472a-d07e-14971b093678"
      },
      "source": [
        "!wget http://ufldl.stanford.edu/housenumbers/train.tar.gz\n",
        "!tar -xzf train.tar.gz"
      ],
      "execution_count": null,
      "outputs": [
        {
          "output_type": "stream",
          "text": [
            "--2020-09-24 12:12:30--  http://ufldl.stanford.edu/housenumbers/train.tar.gz\n",
            "Resolving ufldl.stanford.edu (ufldl.stanford.edu)... 171.64.68.10\n",
            "Connecting to ufldl.stanford.edu (ufldl.stanford.edu)|171.64.68.10|:80... connected.\n",
            "HTTP request sent, awaiting response... 200 OK\n",
            "Length: 404141560 (385M) [application/x-gzip]\n",
            "Saving to: ‘train.tar.gz’\n",
            "\n",
            "train.tar.gz        100%[===================>] 385.42M  20.1MB/s    in 22s     \n",
            "\n",
            "2020-09-24 12:12:53 (17.4 MB/s) - ‘train.tar.gz’ saved [404141560/404141560]\n",
            "\n"
          ],
          "name": "stdout"
        }
      ]
    },
    {
      "cell_type": "markdown",
      "metadata": {
        "id": "8Tbj60xb9im8",
        "colab_type": "text"
      },
      "source": [
        "## Install Required packages"
      ]
    },
    {
      "cell_type": "code",
      "metadata": {
        "id": "89vqB7LSSlQg",
        "colab_type": "code",
        "colab": {}
      },
      "source": [
        "!pip install fastai --upgrade -q"
      ],
      "execution_count": null,
      "outputs": []
    },
    {
      "cell_type": "markdown",
      "metadata": {
        "id": "JZAj6tvg9m2Q",
        "colab_type": "text"
      },
      "source": [
        "## Imports"
      ]
    },
    {
      "cell_type": "code",
      "metadata": {
        "id": "PXxcCj4L41yU",
        "colab_type": "code",
        "colab": {}
      },
      "source": [
        "import h5py\n",
        "import os\n",
        "import tqdm\n",
        "import pandas as pd\n",
        "\n",
        "\n",
        "from fastai.data.all import *\n",
        "from fastai.vision.all import *"
      ],
      "execution_count": null,
      "outputs": []
    },
    {
      "cell_type": "markdown",
      "metadata": {
        "id": "trVDsqED9tMq",
        "colab_type": "text"
      },
      "source": [
        "## Functions to extract label data from file stored in  matlab format."
      ]
    },
    {
      "cell_type": "code",
      "metadata": {
        "id": "ITNBbgfPmTFw",
        "colab_type": "code",
        "colab": {}
      },
      "source": [
        "def get_box_data(index, hdf5_data):\n",
        "    \"\"\"\n",
        "    get `left, top, width, height` of each picture\n",
        "    :param index:\n",
        "    :param hdf5_data:\n",
        "    :return:\n",
        "    \"\"\"\n",
        "    meta_data = dict()\n",
        "    meta_data['height'] = []\n",
        "    meta_data['label'] = []\n",
        "    meta_data['left'] = []\n",
        "    meta_data['top'] = []\n",
        "    meta_data['width'] = []\n",
        "\n",
        "    def print_attrs(name, obj):\n",
        "        vals = []\n",
        "        if obj.shape[0] == 1:\n",
        "            vals.append(obj[0][0])\n",
        "        else:\n",
        "            for k in range(obj.shape[0]):\n",
        "                vals.append(int(hdf5_data[obj[k][0]][0][0]))\n",
        "        meta_data[name] = vals\n",
        "\n",
        "    box = hdf5_data['/digitStruct/bbox'][index]\n",
        "    hdf5_data[box[0]].visititems(print_attrs)\n",
        "    return meta_data\n",
        "\n",
        "def get_name(index, hdf5_data):\n",
        "    name = hdf5_data['/digitStruct/name']\n",
        "    return ''.join([chr(v[0]) for v in hdf5_data[name[index][0]]])\n"
      ],
      "execution_count": null,
      "outputs": []
    },
    {
      "cell_type": "markdown",
      "metadata": {
        "id": "ivg87HfT917A",
        "colab_type": "text"
      },
      "source": [
        "## Extract training labels"
      ]
    },
    {
      "cell_type": "code",
      "metadata": {
        "id": "ABKzOjHDmWFi",
        "colab_type": "code",
        "colab": {}
      },
      "source": [
        "mat_data = h5py.File(os.path.join('train/', 'digitStruct.mat'))\n",
        "size = mat_data['/digitStruct/name'].size\n",
        "\n",
        "train=[]\n",
        "for _i in tqdm.tqdm(range(size)):\n",
        " train.append([get_name(_i, mat_data), get_box_data(_i, mat_data)['label']])"
      ],
      "execution_count": null,
      "outputs": []
    },
    {
      "cell_type": "markdown",
      "metadata": {
        "id": "ZtMryhn098Lm",
        "colab_type": "text"
      },
      "source": [
        "## Extract extra labels"
      ]
    },
    {
      "cell_type": "code",
      "metadata": {
        "id": "XQ7KOlPtUIWQ",
        "colab_type": "code",
        "colab": {}
      },
      "source": [
        "mat_data = h5py.File(os.path.join('extra/', 'digitStruct.mat'))\n",
        "size = mat_data['/digitStruct/name'].size\n",
        "\n",
        "extra=[]\n",
        "for _i in tqdm.tqdm(range(size)):\n",
        " extra.append([get_name(_i, mat_data), get_box_data(_i, mat_data)['label']])"
      ],
      "execution_count": null,
      "outputs": []
    },
    {
      "cell_type": "markdown",
      "metadata": {
        "id": "dSFJ34E99_Na",
        "colab_type": "text"
      },
      "source": [
        "## Append folder names to respective files"
      ]
    },
    {
      "cell_type": "code",
      "metadata": {
        "id": "Xi-tnSYAhkUp",
        "colab_type": "code",
        "colab": {}
      },
      "source": [
        "for index,_ in enumerate(train):\n",
        "  train[index][0]='train/'+train[index][0]"
      ],
      "execution_count": 67,
      "outputs": []
    },
    {
      "cell_type": "code",
      "metadata": {
        "id": "NRDCjxXviOrB",
        "colab_type": "code",
        "colab": {}
      },
      "source": [
        "for index,_ in enumerate(extra):\n",
        "  extra[index][0]='extra/'+extra[index][0]"
      ],
      "execution_count": 69,
      "outputs": []
    },
    {
      "cell_type": "code",
      "metadata": {
        "id": "T0pJYvJhmpzu",
        "colab_type": "code",
        "colab": {
          "base_uri": "https://localhost:8080/",
          "height": 204
        },
        "outputId": "83361174-4446-47ee-c9cb-bf14cd1b0404"
      },
      "source": [
        "train_df=pd.DataFrame(L(train)+L(extra))\n",
        "train_df.columns=['filename','labels']\n",
        "train_df.head()"
      ],
      "execution_count": 106,
      "outputs": [
        {
          "output_type": "execute_result",
          "data": {
            "text/html": [
              "<div>\n",
              "<style scoped>\n",
              "    .dataframe tbody tr th:only-of-type {\n",
              "        vertical-align: middle;\n",
              "    }\n",
              "\n",
              "    .dataframe tbody tr th {\n",
              "        vertical-align: top;\n",
              "    }\n",
              "\n",
              "    .dataframe thead th {\n",
              "        text-align: right;\n",
              "    }\n",
              "</style>\n",
              "<table border=\"1\" class=\"dataframe\">\n",
              "  <thead>\n",
              "    <tr style=\"text-align: right;\">\n",
              "      <th></th>\n",
              "      <th>filename</th>\n",
              "      <th>labels</th>\n",
              "    </tr>\n",
              "  </thead>\n",
              "  <tbody>\n",
              "    <tr>\n",
              "      <th>0</th>\n",
              "      <td>train/1.png</td>\n",
              "      <td>[1, 9]</td>\n",
              "    </tr>\n",
              "    <tr>\n",
              "      <th>1</th>\n",
              "      <td>train/2.png</td>\n",
              "      <td>[2, 3]</td>\n",
              "    </tr>\n",
              "    <tr>\n",
              "      <th>2</th>\n",
              "      <td>train/3.png</td>\n",
              "      <td>[2, 5]</td>\n",
              "    </tr>\n",
              "    <tr>\n",
              "      <th>3</th>\n",
              "      <td>train/4.png</td>\n",
              "      <td>[9, 3]</td>\n",
              "    </tr>\n",
              "    <tr>\n",
              "      <th>4</th>\n",
              "      <td>train/5.png</td>\n",
              "      <td>[3, 1]</td>\n",
              "    </tr>\n",
              "  </tbody>\n",
              "</table>\n",
              "</div>"
            ],
            "text/plain": [
              "      filename  labels\n",
              "0  train/1.png  [1, 9]\n",
              "1  train/2.png  [2, 3]\n",
              "2  train/3.png  [2, 5]\n",
              "3  train/4.png  [9, 3]\n",
              "4  train/5.png  [3, 1]"
            ]
          },
          "metadata": {
            "tags": []
          },
          "execution_count": 106
        }
      ]
    },
    {
      "cell_type": "code",
      "metadata": {
        "id": "psTWT1mZcCYD",
        "colab_type": "code",
        "colab": {}
      },
      "source": [
        "#train_df.to_csv('train.csv')"
      ],
      "execution_count": 107,
      "outputs": []
    },
    {
      "cell_type": "code",
      "metadata": {
        "id": "yKYPLu9vcJ0R",
        "colab_type": "code",
        "colab": {
          "base_uri": "https://localhost:8080/",
          "height": 204
        },
        "outputId": "66cfe1a5-09b7-403c-c79a-eb7f00445199"
      },
      "source": [
        "train_df['labels']=pd.DataFrame([str(line).strip('[').strip(']').replace(\"'\",\"\").replace(\",\",\"\") for line in train_df['labels']])\n",
        "train_df.head()"
      ],
      "execution_count": 108,
      "outputs": [
        {
          "output_type": "execute_result",
          "data": {
            "text/html": [
              "<div>\n",
              "<style scoped>\n",
              "    .dataframe tbody tr th:only-of-type {\n",
              "        vertical-align: middle;\n",
              "    }\n",
              "\n",
              "    .dataframe tbody tr th {\n",
              "        vertical-align: top;\n",
              "    }\n",
              "\n",
              "    .dataframe thead th {\n",
              "        text-align: right;\n",
              "    }\n",
              "</style>\n",
              "<table border=\"1\" class=\"dataframe\">\n",
              "  <thead>\n",
              "    <tr style=\"text-align: right;\">\n",
              "      <th></th>\n",
              "      <th>filename</th>\n",
              "      <th>labels</th>\n",
              "    </tr>\n",
              "  </thead>\n",
              "  <tbody>\n",
              "    <tr>\n",
              "      <th>0</th>\n",
              "      <td>train/1.png</td>\n",
              "      <td>1 9</td>\n",
              "    </tr>\n",
              "    <tr>\n",
              "      <th>1</th>\n",
              "      <td>train/2.png</td>\n",
              "      <td>2 3</td>\n",
              "    </tr>\n",
              "    <tr>\n",
              "      <th>2</th>\n",
              "      <td>train/3.png</td>\n",
              "      <td>2 5</td>\n",
              "    </tr>\n",
              "    <tr>\n",
              "      <th>3</th>\n",
              "      <td>train/4.png</td>\n",
              "      <td>9 3</td>\n",
              "    </tr>\n",
              "    <tr>\n",
              "      <th>4</th>\n",
              "      <td>train/5.png</td>\n",
              "      <td>3 1</td>\n",
              "    </tr>\n",
              "  </tbody>\n",
              "</table>\n",
              "</div>"
            ],
            "text/plain": [
              "      filename labels\n",
              "0  train/1.png    1 9\n",
              "1  train/2.png    2 3\n",
              "2  train/3.png    2 5\n",
              "3  train/4.png    9 3\n",
              "4  train/5.png    3 1"
            ]
          },
          "metadata": {
            "tags": []
          },
          "execution_count": 108
        }
      ]
    },
    {
      "cell_type": "markdown",
      "metadata": {
        "id": "RfxATm-Q-QbJ",
        "colab_type": "text"
      },
      "source": [
        "## Identify entries with decimal values."
      ]
    },
    {
      "cell_type": "code",
      "metadata": {
        "id": "bGIfL6H_eBCB",
        "colab_type": "code",
        "colab": {}
      },
      "source": [
        "for i in train_df.values:\n",
        "  if re.match(r\"^[1-9].0\", i[1]): print(i)"
      ],
      "execution_count": null,
      "outputs": []
    },
    {
      "cell_type": "code",
      "metadata": {
        "id": "MhIhjSw5cJ8J",
        "colab_type": "code",
        "colab": {
          "base_uri": "https://localhost:8080/",
          "height": 45
        },
        "outputId": "e935d0dc-88c7-4467-8eb1-1711a774c983"
      },
      "source": [
        "im = Image.open('extra/165154.png')\n",
        "im.to_thumb(128,128)"
      ],
      "execution_count": 110,
      "outputs": [
        {
          "output_type": "execute_result",
          "data": {
            "image/png": "[encoded data removed]",
            "text/plain": [
              "<PIL.Image.Image image mode=RGB size=76x28 at 0x7FAD71E7FC50>"
            ]
          },
          "metadata": {
            "tags": []
          },
          "execution_count": 110
        }
      ]
    },
    {
      "cell_type": "markdown",
      "metadata": {
        "id": "aATZ5_tS-aoz",
        "colab_type": "text"
      },
      "source": [
        "## Remove decimal point and proceeding zero from the entries"
      ]
    },
    {
      "cell_type": "code",
      "metadata": {
        "id": "m0tqo3LocKNR",
        "colab_type": "code",
        "colab": {}
      },
      "source": [
        "train_df['labels']=pd.DataFrame([str(line).strip('.0') for line in train_df['labels']])"
      ],
      "execution_count": 111,
      "outputs": []
    },
    {
      "cell_type": "markdown",
      "metadata": {
        "id": "eQLV_nag-iRJ",
        "colab_type": "text"
      },
      "source": [
        "## Create functions, batch tranformations, DataBlock and Learner - FastAI"
      ]
    },
    {
      "cell_type": "markdown",
      "metadata": {
        "id": "vN8C_55d_A8F",
        "colab_type": "text"
      },
      "source": [
        "Every image is assigned with multiple labels, which translates this into a multi class classification problem.\n",
        "\n",
        "Every Image is resized to 224 (item transformation) and bunch of transformation is applied to the every batch of the image.\n",
        "\n",
        "The default values updated for aug_transforms looking at the problem at hand. Since the images are from door/gates, we have turned of the horzonta and vertical flip. \n",
        "\n",
        "There is high chance the inference/production images could be rotated, hence the max rotate is set at 180 so that enough augmentaed data is generated for such scenario.\n",
        "\n",
        "The batch is normalized to ImageNet statistics, since the model I have used is ResNet50 pretrained on ImageNet Dataset.\n",
        "\n",
        "The train, validation split is handled internally by the library at the ration of 80:20"
      ]
    },
    {
      "cell_type": "code",
      "metadata": {
        "id": "0eSt5GCR8Kxz",
        "colab_type": "code",
        "colab": {}
      },
      "source": [
        "def _svhm_items(x): return (x.filename, x.labels)\n",
        "\n",
        "batch_tfms = [*aug_transforms(size=128,pad_mode='zeros', mult=2,flip_vert=False,do_flip=False,max_rotate=180,max_zoom=1.4),\n",
        "              Normalize.from_stats(*imagenet_stats)]\n",
        "\n",
        "svhn = DataBlock.from_columns(blocks=(ImageBlock, MultiCategoryBlock),\n",
        "                   get_items=_svhm_items,\n",
        "                   splitter=RandomSplitter(),\n",
        "                   item_tfms=Resize(224),\n",
        "                   batch_tfms=batch_tfms)"
      ],
      "execution_count": 123,
      "outputs": []
    },
    {
      "cell_type": "code",
      "metadata": {
        "id": "fKXJEKUc-9tj",
        "colab_type": "code",
        "colab": {}
      },
      "source": [
        "#wafer.summary(train_df)"
      ],
      "execution_count": 124,
      "outputs": []
    },
    {
      "cell_type": "code",
      "metadata": {
        "id": "Vad-e74z-lit",
        "colab_type": "code",
        "colab": {}
      },
      "source": [
        "dls = svhn.dataloaders(train_df, bs=64)"
      ],
      "execution_count": 125,
      "outputs": []
    },
    {
      "cell_type": "code",
      "metadata": {
        "id": "1XswZmDb-pet",
        "colab_type": "code",
        "colab": {
          "base_uri": "https://localhost:8080/",
          "height": 192
        },
        "outputId": "5aa6f948-9ba6-486f-ca23-6aabc14e7cea"
      },
      "source": [
        "dls.train.show_batch(max_n=4, nrows=1)"
      ],
      "execution_count": 126,
      "outputs": [
        {
          "output_type": "display_data",
          "data": {
            "image/png": "[encoded data removed]",
            "text/plain": [
              "<Figure size 864x216 with 4 Axes>"
            ]
          },
          "metadata": {
            "tags": [],
            "needs_background": "light"
          }
        }
      ]
    },
    {
      "cell_type": "code",
      "metadata": {
        "id": "8WCqFxc_BdLB",
        "colab_type": "code",
        "colab": {}
      },
      "source": [
        "learn = cnn_learner(dls, resnet50, metrics=[partial(accuracy_multi, thresh=0.95)], \n",
        "                    pretrained=true,loss_func=BCEWithLogitsLossFlat(thresh=0.5))"
      ],
      "execution_count": 127,
      "outputs": []
    },
    {
      "cell_type": "markdown",
      "metadata": {
        "id": "ZxnvbTs9--ph",
        "colab_type": "text"
      },
      "source": [
        "> accuracy_multi is used to reflect the problem type at hand, ie., Multi Class Classification. \n",
        "Loss \n",
        "\n",
        "> Flattened BCEWithLogitsLoss is used a loss function to support Multiple Classes\n",
        "\n"
      ]
    },
    {
      "cell_type": "code",
      "metadata": {
        "id": "dG4qu01_BgDZ",
        "colab_type": "code",
        "colab": {
          "base_uri": "https://localhost:8080/",
          "height": 236
        },
        "outputId": "0335cbf9-cc44-4864-a6cc-f9be3fe097f4"
      },
      "source": [
        "learn.fine_tune(4)"
      ],
      "execution_count": 128,
      "outputs": [
        {
          "output_type": "display_data",
          "data": {
            "text/html": [
              "<table border=\"1\" class=\"dataframe\">\n",
              "  <thead>\n",
              "    <tr style=\"text-align: left;\">\n",
              "      <th>epoch</th>\n",
              "      <th>train_loss</th>\n",
              "      <th>valid_loss</th>\n",
              "      <th>accuracy_multi</th>\n",
              "      <th>time</th>\n",
              "    </tr>\n",
              "  </thead>\n",
              "  <tbody>\n",
              "    <tr>\n",
              "      <td>0</td>\n",
              "      <td>0.402342</td>\n",
              "      <td>0.305362</td>\n",
              "      <td>0.793744</td>\n",
              "      <td>09:25</td>\n",
              "    </tr>\n",
              "  </tbody>\n",
              "</table>"
            ],
            "text/plain": [
              "<IPython.core.display.HTML object>"
            ]
          },
          "metadata": {
            "tags": []
          }
        },
        {
          "output_type": "display_data",
          "data": {
            "text/html": [
              "<table border=\"1\" class=\"dataframe\">\n",
              "  <thead>\n",
              "    <tr style=\"text-align: left;\">\n",
              "      <th>epoch</th>\n",
              "      <th>train_loss</th>\n",
              "      <th>valid_loss</th>\n",
              "      <th>accuracy_multi</th>\n",
              "      <th>time</th>\n",
              "    </tr>\n",
              "  </thead>\n",
              "  <tbody>\n",
              "    <tr>\n",
              "      <td>0</td>\n",
              "      <td>0.269051</td>\n",
              "      <td>0.122008</td>\n",
              "      <td>0.909610</td>\n",
              "      <td>10:12</td>\n",
              "    </tr>\n",
              "    <tr>\n",
              "      <td>1</td>\n",
              "      <td>0.224833</td>\n",
              "      <td>0.088760</td>\n",
              "      <td>0.939899</td>\n",
              "      <td>10:12</td>\n",
              "    </tr>\n",
              "    <tr>\n",
              "      <td>2</td>\n",
              "      <td>0.200937</td>\n",
              "      <td>0.073029</td>\n",
              "      <td>0.950837</td>\n",
              "      <td>10:11</td>\n",
              "    </tr>\n",
              "    <tr>\n",
              "      <td>3</td>\n",
              "      <td>0.192546</td>\n",
              "      <td>0.068777</td>\n",
              "      <td>0.957431</td>\n",
              "      <td>10:13</td>\n",
              "    </tr>\n",
              "  </tbody>\n",
              "</table>"
            ],
            "text/plain": [
              "<IPython.core.display.HTML object>"
            ]
          },
          "metadata": {
            "tags": []
          }
        }
      ]
    },
    {
      "cell_type": "code",
      "metadata": {
        "id": "jY7_VLW8Biuf",
        "colab_type": "code",
        "colab": {
          "base_uri": "https://localhost:8080/",
          "height": 34
        },
        "outputId": "a726ab25-5bfc-44ff-b8cb-a70d597d6c97"
      },
      "source": [
        "learn.save('svhn-9574')"
      ],
      "execution_count": 129,
      "outputs": [
        {
          "output_type": "execute_result",
          "data": {
            "text/plain": [
              "Path('models/svhn-9574.pth')"
            ]
          },
          "metadata": {
            "tags": []
          },
          "execution_count": 129
        }
      ]
    },
    {
      "cell_type": "markdown",
      "metadata": {
        "id": "cHzOZljQ9fAM",
        "colab_type": "text"
      },
      "source": [
        "## Inference"
      ]
    },
    {
      "cell_type": "code",
      "metadata": {
        "id": "pvE-1UbxTS0E",
        "colab_type": "code",
        "colab": {
          "base_uri": "https://localhost:8080/",
          "height": 85
        },
        "outputId": "d4e2734e-4db7-4fc7-c37c-f7ff7d8c5c57"
      },
      "source": [
        "!pip install -q gdown\n",
        "!gdown --id 1l451BvbyBjWsUXEfzIEFyZ8DWTwZ8vTP"
      ],
      "execution_count": null,
      "outputs": [
        {
          "output_type": "stream",
          "text": [
            "Downloading...\n",
            "From: https://drive.google.com/uc?id=1l451BvbyBjWsUXEfzIEFyZ8DWTwZ8vTP\n",
            "To: /content/testsvhn.zip\n",
            "\r  0% 0.00/852k [00:00<?, ?B/s]\r100% 852k/852k [00:00<00:00, 113MB/s]\n"
          ],
          "name": "stdout"
        }
      ]
    },
    {
      "cell_type": "code",
      "metadata": {
        "id": "O-0YhuIdQAvs",
        "colab_type": "code",
        "colab": {
          "base_uri": "https://localhost:8080/",
          "height": 1000
        },
        "outputId": "25912f1f-14eb-414a-97e6-727c4e2eb52c"
      },
      "source": [
        "!unzip testsvhn.zip"
      ],
      "execution_count": 130,
      "outputs": [
        {
          "output_type": "stream",
          "text": [
            "Archive:  testsvhn.zip\n",
            "   creating: testsvhn/\n",
            "  inflating: testsvhn/test1.png      \n",
            "  inflating: testsvhn/test0.png      \n",
            "  inflating: testsvhn/test2.png      \n",
            "  inflating: testsvhn/test3.png      \n",
            "  inflating: testsvhn/test4.png      \n",
            "  inflating: testsvhn/test5.png      \n",
            "  inflating: testsvhn/test6.png      \n",
            "  inflating: testsvhn/test7.png      \n",
            "  inflating: testsvhn/test8.png      \n",
            "  inflating: testsvhn/test9.png      \n",
            "  inflating: testsvhn/test10.png     \n",
            "  inflating: testsvhn/test11.png     \n",
            "  inflating: testsvhn/test12.png     \n",
            "  inflating: testsvhn/test13.png     \n",
            "  inflating: testsvhn/test14.png     \n",
            "  inflating: testsvhn/test15.png     \n",
            "  inflating: testsvhn/test16.png     \n",
            "  inflating: testsvhn/test17.png     \n",
            "  inflating: testsvhn/test18.png     \n",
            "  inflating: testsvhn/test19.png     \n",
            "  inflating: testsvhn/test20.png     \n",
            "  inflating: testsvhn/test21.png     \n",
            "  inflating: testsvhn/test22.png     \n",
            "  inflating: testsvhn/test23.png     \n",
            "  inflating: testsvhn/test24.png     \n",
            "  inflating: testsvhn/test25.png     \n",
            "  inflating: testsvhn/test26.png     \n",
            "  inflating: testsvhn/test27.png     \n",
            "  inflating: testsvhn/test28.png     \n",
            "  inflating: testsvhn/test29.png     \n",
            "  inflating: testsvhn/test30.png     \n",
            "  inflating: testsvhn/test31.png     \n",
            "  inflating: testsvhn/test32.png     \n",
            "  inflating: testsvhn/test33.png     \n",
            "  inflating: testsvhn/test34.png     \n",
            "  inflating: testsvhn/test35.png     \n",
            "  inflating: testsvhn/test36.png     \n",
            "  inflating: testsvhn/test37.png     \n",
            "  inflating: testsvhn/test38.png     \n",
            "  inflating: testsvhn/test39.png     \n",
            "  inflating: testsvhn/test40.png     \n",
            "  inflating: testsvhn/test41.png     \n",
            "  inflating: testsvhn/test42.png     \n",
            "  inflating: testsvhn/test43.png     \n",
            "  inflating: testsvhn/test44.png     \n",
            "  inflating: testsvhn/test45.png     \n",
            "  inflating: testsvhn/test46.png     \n",
            "  inflating: testsvhn/test47.png     \n",
            "  inflating: testsvhn/test48.png     \n",
            "  inflating: testsvhn/test49.png     \n",
            "  inflating: testsvhn/test50.png     \n",
            "  inflating: testsvhn/test51.png     \n",
            "  inflating: testsvhn/test52.png     \n",
            "  inflating: testsvhn/test53.png     \n",
            "  inflating: testsvhn/test54.png     \n",
            "  inflating: testsvhn/test55.png     \n",
            "  inflating: testsvhn/test56.png     \n",
            "  inflating: testsvhn/test57.png     \n",
            "  inflating: testsvhn/test58.png     \n",
            "  inflating: testsvhn/test59.png     \n",
            "  inflating: testsvhn/test60.png     \n",
            "  inflating: testsvhn/test61.png     \n",
            "  inflating: testsvhn/test62.png     \n",
            "  inflating: testsvhn/test63.png     \n",
            "  inflating: testsvhn/test64.png     \n",
            "  inflating: testsvhn/test65.png     \n",
            "  inflating: testsvhn/test66.png     \n",
            "  inflating: testsvhn/test67.png     \n",
            "  inflating: testsvhn/test68.png     \n",
            "  inflating: testsvhn/test69.png     \n",
            "  inflating: testsvhn/test70.png     \n",
            "  inflating: testsvhn/test71.png     \n",
            "  inflating: testsvhn/test72.png     \n",
            "  inflating: testsvhn/test73.png     \n",
            "  inflating: testsvhn/test74.png     \n",
            "  inflating: testsvhn/test75.png     \n",
            "  inflating: testsvhn/test76.png     \n",
            "  inflating: testsvhn/test77.png     \n",
            "  inflating: testsvhn/test78.png     \n",
            "  inflating: testsvhn/test79.png     \n",
            "  inflating: testsvhn/test80.png     \n",
            "  inflating: testsvhn/test81.png     \n",
            "  inflating: testsvhn/test82.png     \n",
            "  inflating: testsvhn/test83.png     \n",
            "  inflating: testsvhn/test84.png     \n",
            "  inflating: testsvhn/test85.png     \n",
            "  inflating: testsvhn/test86.png     \n",
            "  inflating: testsvhn/test87.png     \n",
            "  inflating: testsvhn/test88.png     \n",
            "  inflating: testsvhn/test89.png     \n",
            "  inflating: testsvhn/test90.png     \n",
            "  inflating: testsvhn/test91.png     \n",
            "  inflating: testsvhn/test92.png     \n",
            "  inflating: testsvhn/test93.png     \n",
            "  inflating: testsvhn/test94.png     \n",
            "  inflating: testsvhn/test95.png     \n",
            "  inflating: testsvhn/test96.png     \n",
            "  inflating: testsvhn/test97.png     \n",
            "  inflating: testsvhn/test98.png     \n",
            "  inflating: testsvhn/test99.png     \n"
          ],
          "name": "stdout"
        }
      ]
    },
    {
      "cell_type": "code",
      "metadata": {
        "id": "6sv8mSrWCOAp",
        "colab_type": "code",
        "colab": {
          "base_uri": "https://localhost:8080/",
          "height": 54
        },
        "outputId": "e1460ac7-1f45-4624-c305-7cbb1cc3a598"
      },
      "source": [
        ""
      ],
      "execution_count": 131,
      "outputs": [
        {
          "output_type": "execute_result",
          "data": {
            "text/plain": [
              "(#100) [Path('testsvhn/test71.png'),Path('testsvhn/test62.png'),Path('testsvhn/test22.png'),Path('testsvhn/test3.png'),Path('testsvhn/test73.png'),Path('testsvhn/test44.png'),Path('testsvhn/test97.png'),Path('testsvhn/test23.png'),Path('testsvhn/test20.png'),Path('testsvhn/test74.png')...]"
            ]
          },
          "metadata": {
            "tags": []
          },
          "execution_count": 131
        }
      ]
    },
    {
      "cell_type": "code",
      "metadata": {
        "id": "htZUqauSB26z",
        "colab_type": "code",
        "colab": {}
      },
      "source": [
        "test_files = Path('./testsvhn').ls()\n",
        "test_dl = learn.dls.test_dl(test_files, with_label=True)"
      ],
      "execution_count": 132,
      "outputs": []
    },
    {
      "cell_type": "code",
      "metadata": {
        "id": "_4pwXkZdCbMp",
        "colab_type": "code",
        "colab": {
          "base_uri": "https://localhost:8080/",
          "height": 17
        },
        "outputId": "d9c84aaa-e3fb-4f26-f771-2518eadc2d31"
      },
      "source": [
        "prob,unk,preds = learn.get_preds(dl=test_dl, with_decoded=True)  "
      ],
      "execution_count": 133,
      "outputs": [
        {
          "output_type": "display_data",
          "data": {
            "text/html": [
              ""
            ],
            "text/plain": [
              "<IPython.core.display.HTML object>"
            ]
          },
          "metadata": {
            "tags": []
          }
        }
      ]
    },
    {
      "cell_type": "code",
      "metadata": {
        "id": "eRMex6wJCdqS",
        "colab_type": "code",
        "colab": {
          "base_uri": "https://localhost:8080/",
          "height": 187
        },
        "outputId": "9be520ec-12ee-4374-971a-f0d4aa330cfb"
      },
      "source": [
        "for index, item in enumerate(preds[:10]):\n",
        "    print(list(dls.vocab[item]))"
      ],
      "execution_count": 134,
      "outputs": [
        {
          "output_type": "stream",
          "text": [
            "[' ', '2', '9']\n",
            "[' ', '3']\n",
            "[' ', '1', '2']\n",
            "[' ', '1', '7']\n",
            "['2']\n",
            "[' ', '2', '4']\n",
            "[' ', '2', '3']\n",
            "[' ', '5', '6']\n",
            "[' ', '2', '7']\n",
            "[' ', '1', '3']\n"
          ],
          "name": "stdout"
        }
      ]
    },
    {
      "cell_type": "code",
      "metadata": {
        "id": "r28TEQYQCgGh",
        "colab_type": "code",
        "colab": {}
      },
      "source": [
        "pred_vals=[]\n",
        "for index, item in enumerate(preds): \n",
        "    prediction = list(dls.vocab[item])\n",
        "    pred_vals.append(str(test_dl.items[index].name+'|'+str(prediction)))"
      ],
      "execution_count": 150,
      "outputs": []
    },
    {
      "cell_type": "code",
      "metadata": {
        "id": "OWap_0kRCjlc",
        "colab_type": "code",
        "colab": {
          "base_uri": "https://localhost:8080/",
          "height": 419
        },
        "outputId": "3d4986fd-49be-41b2-81cc-6462ba62fc37"
      },
      "source": [
        "final_df=pd.DataFrame(pred_vals,columns=['filename'])\n",
        "final_df=final_df['filename'].str.split(\"|\", n = 1, expand = True) #,columns=['filename','labels'])\n",
        "final_df.columns=['filename','labels']\n",
        "final_df"
      ],
      "execution_count": 159,
      "outputs": [
        {
          "output_type": "execute_result",
          "data": {
            "text/html": [
              "<div>\n",
              "<style scoped>\n",
              "    .dataframe tbody tr th:only-of-type {\n",
              "        vertical-align: middle;\n",
              "    }\n",
              "\n",
              "    .dataframe tbody tr th {\n",
              "        vertical-align: top;\n",
              "    }\n",
              "\n",
              "    .dataframe thead th {\n",
              "        text-align: right;\n",
              "    }\n",
              "</style>\n",
              "<table border=\"1\" class=\"dataframe\">\n",
              "  <thead>\n",
              "    <tr style=\"text-align: right;\">\n",
              "      <th></th>\n",
              "      <th>filename</th>\n",
              "      <th>labels</th>\n",
              "    </tr>\n",
              "  </thead>\n",
              "  <tbody>\n",
              "    <tr>\n",
              "      <th>0</th>\n",
              "      <td>test71.png</td>\n",
              "      <td>[' ', '2', '9']</td>\n",
              "    </tr>\n",
              "    <tr>\n",
              "      <th>1</th>\n",
              "      <td>test62.png</td>\n",
              "      <td>[' ', '3']</td>\n",
              "    </tr>\n",
              "    <tr>\n",
              "      <th>2</th>\n",
              "      <td>test22.png</td>\n",
              "      <td>[' ', '1', '2']</td>\n",
              "    </tr>\n",
              "    <tr>\n",
              "      <th>3</th>\n",
              "      <td>test3.png</td>\n",
              "      <td>[' ', '1', '7']</td>\n",
              "    </tr>\n",
              "    <tr>\n",
              "      <th>4</th>\n",
              "      <td>test73.png</td>\n",
              "      <td>['2']</td>\n",
              "    </tr>\n",
              "    <tr>\n",
              "      <th>...</th>\n",
              "      <td>...</td>\n",
              "      <td>...</td>\n",
              "    </tr>\n",
              "    <tr>\n",
              "      <th>95</th>\n",
              "      <td>test75.png</td>\n",
              "      <td>[' ', '3', '6']</td>\n",
              "    </tr>\n",
              "    <tr>\n",
              "      <th>96</th>\n",
              "      <td>test7.png</td>\n",
              "      <td>[' ', '1', '7']</td>\n",
              "    </tr>\n",
              "    <tr>\n",
              "      <th>97</th>\n",
              "      <td>test16.png</td>\n",
              "      <td>[' ', '3', '7']</td>\n",
              "    </tr>\n",
              "    <tr>\n",
              "      <th>98</th>\n",
              "      <td>test10.png</td>\n",
              "      <td>[' ', '5', '8']</td>\n",
              "    </tr>\n",
              "    <tr>\n",
              "      <th>99</th>\n",
              "      <td>test87.png</td>\n",
              "      <td>[' ']</td>\n",
              "    </tr>\n",
              "  </tbody>\n",
              "</table>\n",
              "<p>100 rows × 2 columns</p>\n",
              "</div>"
            ],
            "text/plain": [
              "      filename           labels\n",
              "0   test71.png  [' ', '2', '9']\n",
              "1   test62.png       [' ', '3']\n",
              "2   test22.png  [' ', '1', '2']\n",
              "3    test3.png  [' ', '1', '7']\n",
              "4   test73.png            ['2']\n",
              "..         ...              ...\n",
              "95  test75.png  [' ', '3', '6']\n",
              "96   test7.png  [' ', '1', '7']\n",
              "97  test16.png  [' ', '3', '7']\n",
              "98  test10.png  [' ', '5', '8']\n",
              "99  test87.png            [' ']\n",
              "\n",
              "[100 rows x 2 columns]"
            ]
          },
          "metadata": {
            "tags": []
          },
          "execution_count": 159
        }
      ]
    },
    {
      "cell_type": "code",
      "metadata": {
        "id": "dxkE1qBICqKz",
        "colab_type": "code",
        "colab": {}
      },
      "source": [
        "final_df.to_csv('submission.csv')"
      ],
      "execution_count": 160,
      "outputs": []
    },
    {
      "cell_type": "code",
      "metadata": {
        "id": "CyXry-XhGRl7",
        "colab_type": "code",
        "colab": {}
      },
      "source": [
        ""
      ],
      "execution_count": null,
      "outputs": []
    }
  ]
}