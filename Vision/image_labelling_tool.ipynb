{
  "nbformat": 4,
  "nbformat_minor": 0,
  "metadata": {
    "colab": {
      "name": "image-labelling-tool.ipynb",
      "provenance": [],
      "authorship_tag": "ABX9TyNogWMNs9vgzGgkM+RxBmMe",
      "include_colab_link": true
    },
    "kernelspec": {
      "name": "python3",
      "display_name": "Python 3"
    }
  },
  "cells": [
    {
      "cell_type": "markdown",
      "metadata": {
        "id": "view-in-github",
        "colab_type": "text"
      },
      "source": [
        "<a href=\"https://colab.research.google.com/github/sheikmohdimran/Experiments_2020/blob/master/Vision/image_labelling_tool.ipynb\" target=\"_parent\"><img src=\"https://colab.research.google.com/assets/colab-badge.svg\" alt=\"Open In Colab\"/></a>"
      ]
    },
    {
      "cell_type": "code",
      "metadata": {
        "id": "PfyaYtI7PABH",
        "colab_type": "code",
        "colab": {
          "base_uri": "https://localhost:8080/",
          "height": 380
        },
        "outputId": "db4ec690-d3e5-4c96-a428-2654576e6b87"
      },
      "source": [
        "!git clone https://github.com/yuyu2172/image-labelling-tool.git \n",
        "!wget https://bin.equinox.io/c/4VmDzA7iaHb/ngrok-stable-linux-amd64.zip\n",
        "!unzip ngrok-stable-linux-amd64.zip\n",
        "print(\"Get your authtoken from https://dashboard.ngrok.com/auth\")\n",
        "import getpass\n",
        "authtoken = getpass.getpass()"
      ],
      "execution_count": 2,
      "outputs": [
        {
          "output_type": "stream",
          "text": [
            "Cloning into 'image-labelling-tool'...\n",
            "remote: Enumerating objects: 822, done.\u001b[K\n",
            "Receiving objects:   0% (1/822)   \rReceiving objects:   1% (9/822)   \rReceiving objects:   2% (17/822)   \rReceiving objects:   3% (25/822)   \rReceiving objects:   4% (33/822)   \rReceiving objects:   5% (42/822)   \rReceiving objects:   6% (50/822)   \rReceiving objects:   7% (58/822)   \rReceiving objects:   8% (66/822)   \rReceiving objects:   9% (74/822)   \rReceiving objects:  10% (83/822)   \rReceiving objects:  11% (91/822)   \rReceiving objects:  12% (99/822)   \rReceiving objects:  13% (107/822)   \rReceiving objects:  14% (116/822)   \rReceiving objects:  15% (124/822)   \rReceiving objects:  16% (132/822)   \rReceiving objects:  17% (140/822)   \rReceiving objects:  18% (148/822)   \rReceiving objects:  19% (157/822)   \rReceiving objects:  20% (165/822)   \rReceiving objects:  21% (173/822)   \rReceiving objects:  22% (181/822)   \rReceiving objects:  23% (190/822)   \rReceiving objects:  24% (198/822)   \rReceiving objects:  25% (206/822)   \rReceiving objects:  26% (214/822)   \rReceiving objects:  27% (222/822)   \rReceiving objects:  28% (231/822)   \rReceiving objects:  29% (239/822)   \rReceiving objects:  30% (247/822)   \rReceiving objects:  31% (255/822)   \rReceiving objects:  32% (264/822)   \rReceiving objects:  33% (272/822)   \rReceiving objects:  34% (280/822)   \rReceiving objects:  35% (288/822)   \rReceiving objects:  36% (296/822)   \rReceiving objects:  37% (305/822)   \rReceiving objects:  38% (313/822)   \rReceiving objects:  39% (321/822)   \rReceiving objects:  40% (329/822)   \rReceiving objects:  41% (338/822)   \rReceiving objects:  42% (346/822)   \rReceiving objects:  43% (354/822)   \rReceiving objects:  44% (362/822)   \rReceiving objects:  45% (370/822)   \rReceiving objects:  46% (379/822)   \rReceiving objects:  47% (387/822)   \rReceiving objects:  48% (395/822)   \rReceiving objects:  49% (403/822)   \rReceiving objects:  50% (411/822)   \rReceiving objects:  51% (420/822)   \rReceiving objects:  52% (428/822)   \rReceiving objects:  53% (436/822)   \rReceiving objects:  54% (444/822)   \rReceiving objects:  55% (453/822)   \rReceiving objects:  56% (461/822)   \rReceiving objects:  57% (469/822)   \rReceiving objects:  58% (477/822)   \rReceiving objects:  59% (485/822)   \rReceiving objects:  60% (494/822)   \rReceiving objects:  61% (502/822)   \rReceiving objects:  62% (510/822)   \rReceiving objects:  63% (518/822)   \rReceiving objects:  64% (527/822)   \rReceiving objects:  65% (535/822)   \rReceiving objects:  66% (543/822)   \rReceiving objects:  67% (551/822)   \rReceiving objects:  68% (559/822)   \rReceiving objects:  69% (568/822)   \rReceiving objects:  70% (576/822)   \rremote: Total 822 (delta 0), reused 0 (delta 0), pack-reused 822\u001b[K\n",
            "Receiving objects:  71% (584/822)   \rReceiving objects:  72% (592/822)   \rReceiving objects:  73% (601/822)   \rReceiving objects:  74% (609/822)   \rReceiving objects:  75% (617/822)   \rReceiving objects:  76% (625/822)   \rReceiving objects:  77% (633/822)   \rReceiving objects:  78% (642/822)   \rReceiving objects:  79% (650/822)   \rReceiving objects:  80% (658/822)   \rReceiving objects:  81% (666/822)   \rReceiving objects:  82% (675/822)   \rReceiving objects:  83% (683/822)   \rReceiving objects:  84% (691/822)   \rReceiving objects:  85% (699/822)   \rReceiving objects:  86% (707/822)   \rReceiving objects:  87% (716/822)   \rReceiving objects:  88% (724/822)   \rReceiving objects:  89% (732/822)   \rReceiving objects:  90% (740/822)   \rReceiving objects:  91% (749/822)   \rReceiving objects:  92% (757/822)   \rReceiving objects:  93% (765/822)   \rReceiving objects:  94% (773/822)   \rReceiving objects:  95% (781/822)   \rReceiving objects:  96% (790/822)   \rReceiving objects:  97% (798/822)   \rReceiving objects:  98% (806/822)   \rReceiving objects:  99% (814/822)   \rReceiving objects: 100% (822/822)   \rReceiving objects: 100% (822/822), 4.69 MiB | 20.16 MiB/s, done.\n",
            "Resolving deltas: 100% (484/484), done.\n",
            "--2020-04-02 09:40:26--  https://bin.equinox.io/c/4VmDzA7iaHb/ngrok-stable-linux-amd64.zip\n",
            "Resolving bin.equinox.io (bin.equinox.io)... 34.232.135.84, 3.228.157.109, 52.207.7.190, ...\n",
            "Connecting to bin.equinox.io (bin.equinox.io)|34.232.135.84|:443... connected.\n",
            "HTTP request sent, awaiting response... 200 OK\n",
            "Length: 13773305 (13M) [application/octet-stream]\n",
            "Saving to: ‘ngrok-stable-linux-amd64.zip’\n",
            "\n",
            "ngrok-stable-linux- 100%[===================>]  13.13M  40.0MB/s    in 0.3s    \n",
            "\n",
            "2020-04-02 09:40:27 (40.0 MB/s) - ‘ngrok-stable-linux-amd64.zip’ saved [13773305/13773305]\n",
            "\n",
            "Archive:  ngrok-stable-linux-amd64.zip\n",
            "  inflating: ngrok                   \n",
            "Get your authtoken from https://dashboard.ngrok.com/auth\n",
            "··········\n"
          ],
          "name": "stdout"
        }
      ]
    },
    {
      "cell_type": "code",
      "metadata": {
        "id": "n44-04jtPdxk",
        "colab_type": "code",
        "colab": {
          "base_uri": "https://localhost:8080/",
          "height": 427
        },
        "outputId": "c49498ce-8f76-4013-bb36-7c0667de0c0e"
      },
      "source": [
        "!./ngrok authtoken $authtoken & ./ngrok http 5000 --log=stdout & python image-labelling-tool/flask_app.py --image_dir image-labelling-tool/examples/simple/images --label_names image-labelling-tool/examples/simple/label_names_example.yml --file_ext jpg --slic"
      ],
      "execution_count": 0,
      "outputs": [
        {
          "output_type": "stream",
          "text": [
            "\u001b[32mINFO\u001b[0m[04-02|09:40:52] no configuration paths supplied \n",
            "\u001b[32mINFO\u001b[0m[04-02|09:40:52] using configuration at default config path \u001b[32mpath\u001b[0m=/root/.ngrok2/ngrok.yml\n",
            "\u001b[32mINFO\u001b[0m[04-02|09:40:52] open config file                         \u001b[32mpath\u001b[0m=/root/.ngrok2/ngrok.yml \u001b[32merr\u001b[0m=nil\n",
            "Authtoken saved to configuration file: /root/.ngrok2/ngrok.yml\n",
            "t=2020-04-02T09:40:52+0000 lvl=info msg=\"starting web service\" obj=web addr=127.0.0.1:4040\n",
            "t=2020-04-02T09:40:52+0000 lvl=info msg=\"tunnel session started\" obj=tunnels.session\n",
            "t=2020-04-02T09:40:52+0000 lvl=info msg=\"client session established\" obj=csess id=fe962bccf6af\n",
            "t=2020-04-02T09:40:52+0000 lvl=info msg=\"started tunnel\" obj=tunnels name=\"command_line (http)\" addr=http://localhost:5000 url=http://cdab067d.ngrok.io\n",
            "t=2020-04-02T09:40:52+0000 lvl=info msg=\"started tunnel\" obj=tunnels name=command_line addr=http://localhost:5000 url=https://cdab067d.ngrok.io\n",
            "Segmenting image-labelling-tool/examples/simple/images/uea_grounds_1.jpg\n",
            "Converting SLIC labels to vector labels...\n",
            "t=2020-04-02T09:40:56+0000 lvl=warn msg=\"failed to open private leg\" id=8e022215eb19 privaddr=localhost:5000 err=\"dial tcp 127.0.0.1:5000: connect: connection refused\"\n",
            "t=2020-04-02T09:40:57+0000 lvl=warn msg=\"failed to open private leg\" id=d2ecfe06e23c privaddr=localhost:5000 err=\"dial tcp 127.0.0.1:5000: connect: connection refused\"\n",
            "Label already exits at image-labelling-tool/examples/simple/images/uea_grounds_2__labels.json\n",
            "Loaded 2 images\n",
            " * Serving Flask app \"flask_app\" (lazy loading)\n",
            " * Environment: production\n",
            "\u001b[31m   WARNING: This is a development server. Do not use it in a production deployment.\u001b[0m\n",
            "\u001b[2m   Use a production WSGI server instead.\u001b[0m\n",
            " * Debug mode: off\n",
            " * Running on http://127.0.0.1:5000/ (Press CTRL+C to quit)\n"
          ],
          "name": "stdout"
        }
      ]
    },
    {
      "cell_type": "code",
      "metadata": {
        "id": "PMecpPfCP5-T",
        "colab_type": "code",
        "colab": {}
      },
      "source": [
        ""
      ],
      "execution_count": 0,
      "outputs": []
    }
  ]
}