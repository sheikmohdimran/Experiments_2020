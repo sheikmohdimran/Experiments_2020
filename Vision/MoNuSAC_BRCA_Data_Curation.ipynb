{
  "nbformat": 4,
  "nbformat_minor": 0,
  "metadata": {
    "colab": {
      "name": "MoNuSAC_BRCA_Data_Curation.ipynb",
      "provenance": [],
      "mount_file_id": "1-1Y9eLNO94XwcC1VgJA-ovWU09i9mOPz",
      "authorship_tag": "ABX9TyNkf5Rm+Tu0v8g3oK5vDj32",
      "include_colab_link": true
    },
    "kernelspec": {
      "name": "python3",
      "display_name": "Python 3"
    }
  },
  "cells": [
    {
      "cell_type": "markdown",
      "metadata": {
        "id": "view-in-github",
        "colab_type": "text"
      },
      "source": [
        "<a href=\"https://colab.research.google.com/github/sheikmohdimran/Experiments_2020/blob/master/Vision/MoNuSAC_BRCA_Data_Curation.ipynb\" target=\"_parent\"><img src=\"https://colab.research.google.com/assets/colab-badge.svg\" alt=\"Open In Colab\"/></a>"
      ]
    },
    {
      "cell_type": "code",
      "metadata": {
        "id": "8rxPqH5vclL2",
        "colab_type": "code",
        "colab": {}
      },
      "source": [
        "!pip install -q gdown\n",
        "!pip install -q libtiff\n",
        "!apt-get install openslide-tools \n",
        "!apt-get install python3-openslide"
      ],
      "execution_count": 0,
      "outputs": []
    },
    {
      "cell_type": "code",
      "metadata": {
        "id": "ZYkzAjxYdCxc",
        "colab_type": "code",
        "colab": {}
      },
      "source": [
        "import gdown\n",
        "\n",
        "id = '<enter_id_here>'\n",
        "url = 'https://drive.google.com/uc?id='+id\n",
        "output = 'MoNuSAC_images_and_annotations.zip'\n",
        "gdown.download(url, output, quiet=False)\n",
        "\n",
        "!unzip -q MoNuSAC_images_and_annotations.zip"
      ],
      "execution_count": 0,
      "outputs": []
    },
    {
      "cell_type": "code",
      "metadata": {
        "id": "msuQbrW_eRQt",
        "colab_type": "code",
        "colab": {}
      },
      "source": [
        "# Based on - https://github.com/ruchikaverma-iitg/MoNuSAC/blob/master/Binary_mask_generation.ipynb\n",
        "import os\n",
        "import openslide\n",
        "from xml.dom import minidom\n",
        "import numpy as np\n",
        "import openslide\n",
        "from openslide import open_slide  \n",
        "from glob import glob\n",
        "import cv2\n",
        "import matplotlib.pyplot as plt\n",
        "import scipy.io as sio\n",
        "from PIL import Image\n",
        "import scipy\n",
        "import scipy.ndimage\n",
        "from shapely.geometry import Polygon\n",
        "from skimage import draw\n",
        "import xml.etree.ElementTree as ET"
      ],
      "execution_count": 0,
      "outputs": []
    },
    {
      "cell_type": "code",
      "metadata": {
        "id": "RgoZgI9HgRe1",
        "colab_type": "code",
        "outputId": "6b292a77-7b7c-4971-a96b-de459d69e1b7",
        "colab": {
          "base_uri": "https://localhost:8080/",
          "height": 35
        }
      },
      "source": [
        "# Read svs files from the desired path\n",
        "!rm -rf /content/MoNuSAC_masks/\n",
        "\n",
        "count = 0\n",
        "data_path = '/content/MoNuSAC_images_and_annotations/' #Path to read data from\n",
        "destination_path = '/content' # Path to save binary masks corresponding to xml files\n",
        "os.chdir(destination_path)\n",
        "\n",
        "try:\n",
        "    os.mkdir(destination_path+'/MoNuSAC_masks')\n",
        "except OSError:\n",
        "    print (\"Creation of the mask directory %s failed\" % destination_path)\n",
        "    \n",
        "os.chdir(destination_path+'/MoNuSAC_masks')#Create folder named as MoNuSAC_masks\n",
        "patients = [x[0] for x in os.walk(data_path)]#Total patients in the data_path\n",
        "len(patients)"
      ],
      "execution_count": 83,
      "outputs": [
        {
          "output_type": "execute_result",
          "data": {
            "text/plain": [
              "47"
            ]
          },
          "metadata": {
            "tags": []
          },
          "execution_count": 83
        }
      ]
    },
    {
      "cell_type": "code",
      "metadata": {
        "id": "FOacCxfBXgh-",
        "colab_type": "code",
        "colab": {}
      },
      "source": [
        "brca = ['TCGA-A2-A0CV-01Z-00-DX1','TCGA-A2-A0ES-01Z-00-DX1','TCGA-B6-A0WZ-01Z-00-DX1',\n",
        "        'TCGA-BH-A18T-01Z-00-DX1','TCGA-D8-A1X5-01Z-00-DX2','TCGA-E2-A154-01Z-00-DX1',\n",
        "        'TCGA-E9-A22B-01Z-00-DX1','TCGA-E9-A22G-01Z-00-DX1','TCGA-EW-A6SD-01Z-00-DX1',\n",
        "        'TCGA-S3-AA11-01Z-00-DX1']"
      ],
      "execution_count": 0,
      "outputs": []
    },
    {
      "cell_type": "code",
      "metadata": {
        "id": "tBINq3pQz1Be",
        "colab_type": "code",
        "colab": {}
      },
      "source": [
        "from pathlib import Path\n",
        "wrkdir = Path('/content/MoNuSAC_masks/')\n",
        "datadir = Path('/content/MoNuSAC_images_and_annotations/')"
      ],
      "execution_count": 0,
      "outputs": []
    },
    {
      "cell_type": "code",
      "metadata": {
        "id": "LCxm5nK2hFxV",
        "colab_type": "code",
        "colab": {}
      },
      "source": [
        "sub_images = list(datadir.glob('**/*.svs'))\n",
        "for sub_image_loc in sub_images:\n",
        "  # Filter only BRCA\n",
        "  if sub_image_loc.stem.split(\"_\")[0] in brca:\n",
        "    sub_image_name = sub_image_loc.stem  \n",
        "    sub_image = './'+sub_image_loc.stem+'/'+sub_image_name #Destination path\n",
        "        \n",
        "    image_name = str(sub_image_loc.with_suffix('.svs'))\n",
        "    img = openslide.OpenSlide(image_name)\n",
        "                              \n",
        "    # If svs image needs to save in png\n",
        "    plt.imsave(wrkdir/Path(sub_image_name).with_suffix('.png'), np.array(img.read_region((0,0),0,img.level_dimensions[0])))\n",
        "    \n",
        "    # Read xml file\n",
        "    xml_file_name  = image_name[:-4]\n",
        "    xml_file_name = xml_file_name+'.xml'\n",
        "    tree = ET.parse(xml_file_name)\n",
        "    root = tree.getroot()\n",
        "    \n",
        "    #Generate binary mask for each cell-type                         \n",
        "    for k in range(len(root)):\n",
        "        label = [x.attrib['Name'] for x in root[k][0]]\n",
        "        label = label[0]\n",
        "        \n",
        "        for child in root[k]:\n",
        "            for x in child:\n",
        "                r = x.tag\n",
        "                if r == 'Attribute':\n",
        "                    count = count+1\n",
        "                    #print(count)\n",
        "                    label = x.attrib['Name']\n",
        "                    binary_mask = np.transpose(np.zeros((img.read_region((0,0),0,img.level_dimensions[0]).size))) \n",
        "                                                          \n",
        "                if (r == 'Region' and label == 'Lymphocyte'): #Only extract lymphocyte masks\n",
        "                    regions = []\n",
        "                    vertices = x[1]\n",
        "                    coords = np.zeros((len(vertices), 2))\n",
        "                    for i, vertex in enumerate(vertices):\n",
        "                        coords[i][0] = vertex.attrib['X']\n",
        "                        coords[i][1] = vertex.attrib['Y']        \n",
        "                    regions.append(coords)\n",
        "                    poly = Polygon(regions[0])  \n",
        "                    \n",
        "                    vertex_row_coords = regions[0][:,0]\n",
        "                    vertex_col_coords = regions[0][:,1]\n",
        "                    fill_row_coords, fill_col_coords = draw.polygon(vertex_col_coords, vertex_row_coords, binary_mask.shape)\n",
        "                    binary_mask[fill_row_coords, fill_col_coords] = 1\n",
        "                    mask_path = sub_image_name+'_'+label+'_mask.png'\n",
        "                    plt.imsave(mask_path, binary_mask)\n"
      ],
      "execution_count": 0,
      "outputs": []
    },
    {
      "cell_type": "code",
      "metadata": {
        "id": "pKiMEYOHm3xp",
        "colab_type": "code",
        "colab": {}
      },
      "source": [
        "#from libtiff import TIFF\n",
        "#import matplotlib.image as plt\n",
        "\n",
        "#tif = TIFF.open('/content/MoNuSAC_masks/CGA-55-1594-01Z-00-DX1_003/Lymphocyte/2_mask.tif') \n",
        "#image = tif.read_image()\n",
        "#plt.imsave('name.png', image)"
      ],
      "execution_count": 0,
      "outputs": []
    },
    {
      "cell_type": "code",
      "metadata": {
        "id": "NDOMsNr3oecq",
        "colab_type": "code",
        "outputId": "da1d9dc5-cb6b-4421-a103-d27b96b47c02",
        "colab": {
          "base_uri": "https://localhost:8080/",
          "height": 35
        }
      },
      "source": [
        "#np.unique(image)"
      ],
      "execution_count": 0,
      "outputs": [
        {
          "output_type": "execute_result",
          "data": {
            "text/plain": [
              "array([  0., 255.])"
            ]
          },
          "metadata": {
            "tags": []
          },
          "execution_count": 48
        }
      ]
    },
    {
      "cell_type": "code",
      "metadata": {
        "id": "RH2sNDFbLYty",
        "colab_type": "code",
        "colab": {}
      },
      "source": [
        "#!wget https://raw.githubusercontent.com/SBU-BMI/quip_classification/master/training_patch_extraction/list_wsi_on_gcloud.txt"
      ],
      "execution_count": 0,
      "outputs": []
    },
    {
      "cell_type": "code",
      "metadata": {
        "id": "BuqbGcXHLpaA",
        "colab_type": "code",
        "colab": {}
      },
      "source": [
        "#!cat list_wsi_on_gcloud.txt |grep brca > brca.txt"
      ],
      "execution_count": 0,
      "outputs": []
    },
    {
      "cell_type": "code",
      "metadata": {
        "id": "EmmEktn_Owt1",
        "colab_type": "code",
        "colab": {}
      },
      "source": [
        "!rm -rf /content/BRCA\n",
        "!mkdir -p /content/BRCA/masks\n",
        "!mkdir -p /content/BRCA/images\n",
        "\n",
        "!mv /content/MoNuSAC_masks/*mask*png /content/BRCA/masks/\n",
        "!ls -1 /content/BRCA/masks/|awk -F \"_\" '{print \"mv /content/MoNuSAC_masks/\"$1\"_\"$2\".png /content/BRCA/images/\"}' > temp.sh\n",
        "!sh temp.sh\n",
        "!ls -1 /content/BRCA/masks/|wc -l"
      ],
      "execution_count": 0,
      "outputs": []
    },
    {
      "cell_type": "code",
      "metadata": {
        "id": "GRSUcJ0NTnaS",
        "colab_type": "code",
        "colab": {
          "base_uri": "https://localhost:8080/",
          "height": 1000
        },
        "outputId": "8d46c37a-a5d7-41bf-e76b-59b5c9c66204"
      },
      "source": [
        "!tar -cvzf BRCA.tgz /content/BRCA/\n",
        "!mv BRCA.tgz /content"
      ],
      "execution_count": 99,
      "outputs": [
        {
          "output_type": "stream",
          "text": [
            "tar: Removing leading `/' from member names\n",
            "/content/BRCA/\n",
            "/content/BRCA/masks/\n",
            "/content/BRCA/masks/TCGA-E9-A22B-01Z-00-DX1_4_Lymphocyte_mask.png\n",
            "/content/BRCA/masks/TCGA-D8-A1X5-01Z-00-DX2_1_Lymphocyte_mask.png\n",
            "/content/BRCA/masks/TCGA-B6-A0WZ-01Z-00-DX1_3_Lymphocyte_mask.png\n",
            "/content/BRCA/masks/TCGA-D8-A1X5-01Z-00-DX2_2_Lymphocyte_mask.png\n",
            "/content/BRCA/masks/TCGA-BH-A18T-01Z-00-DX1_4_Lymphocyte_mask.png\n",
            "/content/BRCA/masks/TCGA-E9-A22B-01Z-00-DX1_8_Lymphocyte_mask.png\n",
            "/content/BRCA/masks/TCGA-EW-A6SD-01Z-00-DX1_3_Lymphocyte_mask.png\n",
            "/content/BRCA/masks/TCGA-E9-A22G-01Z-00-DX1_3_Lymphocyte_mask.png\n",
            "/content/BRCA/masks/TCGA-BH-A18T-01Z-00-DX1_3_Lymphocyte_mask.png\n",
            "/content/BRCA/masks/TCGA-S3-AA11-01Z-00-DX1_6_Lymphocyte_mask.png\n",
            "/content/BRCA/masks/TCGA-BH-A18T-01Z-00-DX1_6_Lymphocyte_mask.png\n",
            "/content/BRCA/masks/TCGA-E9-A22B-01Z-00-DX1_1_Lymphocyte_mask.png\n",
            "/content/BRCA/masks/TCGA-S3-AA11-01Z-00-DX1_2_Lymphocyte_mask.png\n",
            "/content/BRCA/masks/TCGA-A2-A0ES-01Z-00-DX1_5_Lymphocyte_mask.png\n",
            "/content/BRCA/masks/TCGA-EW-A6SD-01Z-00-DX1_2_Lymphocyte_mask.png\n",
            "/content/BRCA/masks/TCGA-S3-AA11-01Z-00-DX1_1_Lymphocyte_mask.png\n",
            "/content/BRCA/masks/TCGA-A2-A0CV-01Z-00-DX1_3_Lymphocyte_mask.png\n",
            "/content/BRCA/masks/TCGA-A2-A0CV-01Z-00-DX1_1_Lymphocyte_mask.png\n",
            "/content/BRCA/masks/TCGA-A2-A0ES-01Z-00-DX1_4_Lymphocyte_mask.png\n",
            "/content/BRCA/masks/TCGA-A2-A0ES-01Z-00-DX1_2_Lymphocyte_mask.png\n",
            "/content/BRCA/masks/TCGA-EW-A6SD-01Z-00-DX1_5_Lymphocyte_mask.png\n",
            "/content/BRCA/masks/TCGA-S3-AA11-01Z-00-DX1_4_Lymphocyte_mask.png\n",
            "/content/BRCA/masks/TCGA-D8-A1X5-01Z-00-DX2_3_Lymphocyte_mask.png\n",
            "/content/BRCA/masks/TCGA-EW-A6SD-01Z-00-DX1_1_Lymphocyte_mask.png\n",
            "/content/BRCA/masks/TCGA-A2-A0ES-01Z-00-DX1_1_Lymphocyte_mask.png\n",
            "/content/BRCA/masks/TCGA-B6-A0WZ-01Z-00-DX1_4_Lymphocyte_mask.png\n",
            "/content/BRCA/masks/TCGA-B6-A0WZ-01Z-00-DX1_5_Lymphocyte_mask.png\n",
            "/content/BRCA/masks/TCGA-E2-A154-01Z-00-DX1_8_Lymphocyte_mask.png\n",
            "/content/BRCA/masks/TCGA-A2-A0CV-01Z-00-DX1_4_Lymphocyte_mask.png\n",
            "/content/BRCA/masks/TCGA-E2-A154-01Z-00-DX1_3_Lymphocyte_mask.png\n",
            "/content/BRCA/masks/TCGA-D8-A1X5-01Z-00-DX2_4_Lymphocyte_mask.png\n",
            "/content/BRCA/masks/TCGA-B6-A0WZ-01Z-00-DX1_6_Lymphocyte_mask.png\n",
            "/content/BRCA/masks/TCGA-E9-A22B-01Z-00-DX1_2_Lymphocyte_mask.png\n",
            "/content/BRCA/masks/TCGA-E9-A22B-01Z-00-DX1_6_Lymphocyte_mask.png\n",
            "/content/BRCA/masks/TCGA-S3-AA11-01Z-00-DX1_3_Lymphocyte_mask.png\n",
            "/content/BRCA/masks/TCGA-BH-A18T-01Z-00-DX1_5_Lymphocyte_mask.png\n",
            "/content/BRCA/masks/TCGA-E9-A22G-01Z-00-DX1_5_Lymphocyte_mask.png\n",
            "/content/BRCA/masks/TCGA-BH-A18T-01Z-00-DX1_1_Lymphocyte_mask.png\n",
            "/content/BRCA/masks/TCGA-E2-A154-01Z-00-DX1_1_Lymphocyte_mask.png\n",
            "/content/BRCA/masks/TCGA-A2-A0CV-01Z-00-DX1_5_Lymphocyte_mask.png\n",
            "/content/BRCA/masks/TCGA-E2-A154-01Z-00-DX1_5_Lymphocyte_mask.png\n",
            "/content/BRCA/masks/TCGA-EW-A6SD-01Z-00-DX1_4_Lymphocyte_mask.png\n",
            "/content/BRCA/masks/TCGA-E9-A22G-01Z-00-DX1_1_Lymphocyte_mask.png\n",
            "/content/BRCA/images/\n",
            "/content/BRCA/images/TCGA-BH-A18T-01Z-00-DX1_5.png\n",
            "/content/BRCA/images/TCGA-A2-A0CV-01Z-00-DX1_5.png\n",
            "/content/BRCA/images/TCGA-EW-A6SD-01Z-00-DX1_1.png\n",
            "/content/BRCA/images/TCGA-A2-A0ES-01Z-00-DX1_5.png\n",
            "/content/BRCA/images/TCGA-D8-A1X5-01Z-00-DX2_2.png\n",
            "/content/BRCA/images/TCGA-E9-A22G-01Z-00-DX1_1.png\n",
            "/content/BRCA/images/TCGA-E9-A22B-01Z-00-DX1_6.png\n",
            "/content/BRCA/images/TCGA-B6-A0WZ-01Z-00-DX1_3.png\n",
            "/content/BRCA/images/TCGA-B6-A0WZ-01Z-00-DX1_5.png\n",
            "/content/BRCA/images/TCGA-S3-AA11-01Z-00-DX1_2.png\n",
            "/content/BRCA/images/TCGA-E9-A22B-01Z-00-DX1_8.png\n",
            "/content/BRCA/images/TCGA-E9-A22B-01Z-00-DX1_4.png\n",
            "/content/BRCA/images/TCGA-A2-A0CV-01Z-00-DX1_4.png\n",
            "/content/BRCA/images/TCGA-A2-A0ES-01Z-00-DX1_2.png\n",
            "/content/BRCA/images/TCGA-BH-A18T-01Z-00-DX1_6.png\n",
            "/content/BRCA/images/TCGA-D8-A1X5-01Z-00-DX2_4.png\n",
            "/content/BRCA/images/TCGA-E2-A154-01Z-00-DX1_5.png\n",
            "/content/BRCA/images/TCGA-A2-A0ES-01Z-00-DX1_4.png\n",
            "/content/BRCA/images/TCGA-A2-A0CV-01Z-00-DX1_1.png\n",
            "/content/BRCA/images/TCGA-EW-A6SD-01Z-00-DX1_5.png\n",
            "/content/BRCA/images/TCGA-BH-A18T-01Z-00-DX1_4.png\n",
            "/content/BRCA/images/TCGA-E9-A22B-01Z-00-DX1_2.png\n",
            "/content/BRCA/images/TCGA-D8-A1X5-01Z-00-DX2_1.png\n",
            "/content/BRCA/images/TCGA-BH-A18T-01Z-00-DX1_1.png\n",
            "/content/BRCA/images/TCGA-E2-A154-01Z-00-DX1_8.png\n",
            "/content/BRCA/images/TCGA-S3-AA11-01Z-00-DX1_3.png\n",
            "/content/BRCA/images/TCGA-BH-A18T-01Z-00-DX1_3.png\n",
            "/content/BRCA/images/TCGA-E9-A22G-01Z-00-DX1_3.png\n",
            "/content/BRCA/images/TCGA-S3-AA11-01Z-00-DX1_6.png\n",
            "/content/BRCA/images/TCGA-S3-AA11-01Z-00-DX1_1.png\n",
            "/content/BRCA/images/TCGA-E2-A154-01Z-00-DX1_3.png\n",
            "/content/BRCA/images/TCGA-B6-A0WZ-01Z-00-DX1_6.png\n",
            "/content/BRCA/images/TCGA-E2-A154-01Z-00-DX1_1.png\n",
            "/content/BRCA/images/TCGA-E9-A22B-01Z-00-DX1_1.png\n",
            "/content/BRCA/images/TCGA-D8-A1X5-01Z-00-DX2_3.png\n",
            "/content/BRCA/images/TCGA-EW-A6SD-01Z-00-DX1_4.png\n",
            "/content/BRCA/images/TCGA-E9-A22G-01Z-00-DX1_5.png\n",
            "/content/BRCA/images/TCGA-EW-A6SD-01Z-00-DX1_2.png\n",
            "/content/BRCA/images/TCGA-S3-AA11-01Z-00-DX1_4.png\n",
            "/content/BRCA/images/TCGA-EW-A6SD-01Z-00-DX1_3.png\n",
            "/content/BRCA/images/TCGA-B6-A0WZ-01Z-00-DX1_4.png\n",
            "/content/BRCA/images/TCGA-A2-A0ES-01Z-00-DX1_1.png\n",
            "/content/BRCA/images/TCGA-A2-A0CV-01Z-00-DX1_3.png\n"
          ],
          "name": "stdout"
        }
      ]
    },
    {
      "cell_type": "code",
      "metadata": {
        "id": "ne2c4T5E4r20",
        "colab_type": "code",
        "colab": {
          "base_uri": "https://localhost:8080/",
          "height": 35
        },
        "outputId": "ef9627d0-8d79-4dcb-9eb0-b8b87365f074"
      },
      "source": [
        "!pwd"
      ],
      "execution_count": 98,
      "outputs": [
        {
          "output_type": "stream",
          "text": [
            "/content/MoNuSAC_masks\n"
          ],
          "name": "stdout"
        }
      ]
    },
    {
      "cell_type": "code",
      "metadata": {
        "id": "E85EA1_p47yz",
        "colab_type": "code",
        "colab": {}
      },
      "source": [
        ""
      ],
      "execution_count": 0,
      "outputs": []
    }
  ]
}