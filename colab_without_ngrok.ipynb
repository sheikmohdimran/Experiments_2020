{
  "nbformat": 4,
  "nbformat_minor": 0,
  "metadata": {
    "colab": {
      "name": "colab_without_ngrok.ipynb",
      "provenance": [],
      "collapsed_sections": [],
      "machine_shape": "hm",
      "authorship_tag": "ABX9TyNB9WviOdVPekFKeOwXPjwe",
      "include_colab_link": true
    },
    "kernelspec": {
      "name": "python3",
      "display_name": "Python 3"
    },
    "accelerator": "GPU"
  },
  "cells": [
    {
      "cell_type": "markdown",
      "metadata": {
        "id": "view-in-github",
        "colab_type": "text"
      },
      "source": [
        "<a href=\"https://colab.research.google.com/github/sheikmohdimran/Experiments_2020/blob/master/colab_without_ngrok.ipynb\" target=\"_parent\"><img src=\"https://colab.research.google.com/assets/colab-badge.svg\" alt=\"Open In Colab\"/></a>"
      ]
    },
    {
      "cell_type": "code",
      "metadata": {
        "id": "lQtoToHR5KNv"
      },
      "source": [
        "!pip install -q CherryPy #webserver package"
      ],
      "execution_count": 10,
      "outputs": []
    },
    {
      "cell_type": "code",
      "metadata": {
        "colab": {
          "base_uri": "https://localhost:8080/"
        },
        "id": "3GXpRGzT5N_l",
        "outputId": "eb0fcf92-ed1e-4966-a9ea-90af6a18e8a7"
      },
      "source": [
        "%%writefile test.py \r\n",
        "\r\n",
        "import cherrypy\r\n",
        "import sys\r\n",
        "\r\n",
        "class HelloWorld:\r\n",
        "    def index(self):\r\n",
        "        return \"Hello World!\"\r\n",
        "    index.exposed = True\r\n",
        "if __name__ == '__main__':\r\n",
        "   config = {'server.socket_host': '0.0.0.0','server.socket_port' : int(sys.argv[1])}\r\n",
        "   cherrypy.config.update(config)\r\n",
        "   cherrypy.quickstart(HelloWorld())"
      ],
      "execution_count": 11,
      "outputs": [
        {
          "output_type": "stream",
          "text": [
            "Overwriting test.py\n"
          ],
          "name": "stdout"
        }
      ]
    },
    {
      "cell_type": "code",
      "metadata": {
        "colab": {
          "base_uri": "https://localhost:8080/",
          "height": 50
        },
        "id": "IyCHcZk65fgE",
        "outputId": "68aa407e-00c7-492d-cf94-60c4b99c4322"
      },
      "source": [
        "#bind the port 8888 and get a weblink to access\r\n",
        "from google.colab.output import eval_js\r\n",
        "print(eval_js(\"google.colab.kernel.proxyPort(8888)\"))\r\n",
        "\r\n",
        "#run the script/API in the background\r\n",
        "import subprocess\r\n",
        "subprocess.Popen([\"python\", \"/content/test.py\", \"8888\"]) "
      ],
      "execution_count": 12,
      "outputs": [
        {
          "output_type": "stream",
          "text": [
            "https://qzuoqelvqan-496ff2e9c6d22116-8888-colab.googleusercontent.com/\n"
          ],
          "name": "stdout"
        },
        {
          "output_type": "execute_result",
          "data": {
            "text/plain": [
              "<subprocess.Popen at 0x7f8f0aaa3668>"
            ]
          },
          "metadata": {
            "tags": []
          },
          "execution_count": 12
        }
      ]
    },
    {
      "cell_type": "code",
      "metadata": {
        "id": "nPcVbi4KN4Eb"
      },
      "source": [
        "#from google.colab.output import eval_js\r\n",
        "#print(eval_js(\"google.colab.kernel.proxyPort(8000)\"))"
      ],
      "execution_count": 13,
      "outputs": []
    },
    {
      "cell_type": "code",
      "metadata": {
        "id": "CTKhOsMlORqQ"
      },
      "source": [
        "#!python -m http.server 8000"
      ],
      "execution_count": 14,
      "outputs": []
    },
    {
      "cell_type": "code",
      "metadata": {
        "id": "NVkdL5Nq4j3k"
      },
      "source": [
        ""
      ],
      "execution_count": null,
      "outputs": []
    },
    {
      "cell_type": "code",
      "metadata": {
        "colab": {
          "base_uri": "https://localhost:8080/",
          "height": 421
        },
        "id": "qVVVRPuW4nIk",
        "outputId": "4c92e2bf-f1d9-480d-8784-6ca15462588d"
      },
      "source": [
        ""
      ],
      "execution_count": null,
      "outputs": [
        {
          "output_type": "display_data",
          "data": {
            "application/javascript": [
              "\n",
              "  (async ()=>{\n",
              "    fm = document.createElement('iframe')\n",
              "    fm.src = await google.colab.kernel.proxyPort(8888)\n",
              "    fm.width = '95%'\n",
              "    fm.height = '400'\n",
              "    fm.frameBorder = 0\n",
              "    document.body.append(fm)\n",
              "  })();\n",
              "  "
            ],
            "text/plain": [
              "<IPython.core.display.Javascript object>"
            ]
          },
          "metadata": {
            "tags": []
          }
        }
      ]
    },
    {
      "cell_type": "code",
      "metadata": {
        "id": "GBHqOOzX4z-9"
      },
      "source": [
        ""
      ],
      "execution_count": null,
      "outputs": []
    }
  ]
}