{
  "nbformat": 4,
  "nbformat_minor": 0,
  "metadata": {
    "colab": {
      "name": "Collaborative_Inversion.ipynb",
      "provenance": [],
      "authorship_tag": "ABX9TyMmXpqiir/16z7EFyM9T4Ni",
      "include_colab_link": true
    },
    "kernelspec": {
      "name": "python3",
      "display_name": "Python 3"
    }
  },
  "cells": [
    {
      "cell_type": "markdown",
      "metadata": {
        "id": "view-in-github",
        "colab_type": "text"
      },
      "source": [
        "<a href=\"https://colab.research.google.com/github/sheikmohdimran/Experiments_2020/blob/master/Collaborative_Inversion.ipynb\" target=\"_parent\"><img src=\"https://colab.research.google.com/assets/colab-badge.svg\" alt=\"Open In Colab\"/></a>"
      ]
    },
    {
      "cell_type": "code",
      "metadata": {
        "id": "thA1fR6NEn2O",
        "colab_type": "code",
        "outputId": "9a761237-1c67-47c2-9096-a86a9790e6ca",
        "colab": {
          "base_uri": "https://localhost:8080/",
          "height": 72
        }
      },
      "source": [
        "## The python interface does not have pandas installed, however the code below works in a Google Colab.\n",
        "## No modification done to the objective, except that the inputs are hardcoded, instead of getting in rutime.\n",
        "## Steps:\n",
        "## The input data is converted to a pandas dataframe\n",
        "## A seperate function \"getInvCount\" is used to calculate the inversions of a given array\n",
        "## The function \"inversion\", coverts the first column to dict. Then inverts the dict to map variables to sequential numbers, \n",
        "## instead of other way around. Then based on this, it replaces every other occurance of the values with corresponding numbers.\n",
        "## After excluding the first column, a loop gets the inversion count, along with column name of every column in the \n",
        "## dataframe and appends to a list. This list is later converted to a dataframe, sorted in ascending order by the count and \n",
        "## the column names are printed as output display.\n",
        "\n",
        "import pandas as pd\n",
        "\n",
        "data1=pd.DataFrame({\"rabbit\":[\"carrot\",\"cabbage\",\"fish\",\"meat\"],\n",
        "\"turtle\":[\"cabbage\",\"carrot\",\"fish\",\"meat\"],\n",
        "\"cat\":[\"fish\",\"meat\",\"carrot\",\"cabbage\"],\n",
        "\"dog\":[\"meat\",\"fish\",\"cabbage\",\"carrot\"]})\n",
        "\n",
        "data2=pd.DataFrame({\"Smith\":[\"helicopter\",\"car\",\"motorcycle\",\"bicycle\",\"bus\"],\n",
        "\"Johnson\":[\"bus\",\"helicopter\",\"motorcycle\",\"car\",\"bicycle\"],\n",
        "\"Williams\":[\"bicycle\",\"helicopter\",\"car\",\"motorcycle\",\"bus\"],\n",
        "\"Jones\":[\"helicopter\",\"bicycle\",\"motorcycle\",\"car\",\"bus\"],\n",
        "\"Brown\":[\"bus\",\"motorcycle\",\"helicopter\",\"bicycle\",\"car\"],\n",
        "\"Davis\":[\"motorcycle\",\"bus\",\"car\",\"bicycle\",\"helicopter\"],\n",
        "\"Miller\":[\"bicycle\",\"helicopter\",\"car\",\"bus\",\"motorcycle\"],\n",
        "\"Wilson\":[\"helicopter\",\"car\",\"bicycle\",\"bus\",\"motorcycle\"]})\n",
        "\n",
        "data3= pd.DataFrame({\"James\":[\"Avengers\",\"Captain Marvel\",\"Dumbo\",\"Shazam\",\"Hellboy\",\"Joker\",\"Spider-Man\",\"Aladdin\",\"Toy Story\",\"Dark Phoenix\"],\n",
        "\"Oliver\":[\"Aladdin\",\"Captain Marvel\",\"Hellboy\",\"Avengers\",\"Toy Story\",\"Spider-Man\",\"Dark Phoenix\",\"Joker\",\"Dumbo\",\"Shazam\"],\n",
        "\"Sophia\":[\"Toy Story\",\"Dark Phoenix\",\"Aladdin\",\"Joker\",\"Captain Marvel\",\"Hellboy\",\"Dumbo\",\"Shazam\",\"Avengers\",\"Spider-Man\"],\n",
        "\"Jacob\":[\"Dumbo\",\"Avengers\",\"Spider-Man\",\"Dark Phoenix\",\"Hellboy\",\"Joker\",\"Aladdin\",\"Captain Marvel\",\"Shazam\",\"Toy Story\"],\n",
        "\"Olivia\":[\"Dumbo\",\"Spider-Man\",\"Aladdin\",\"Toy Story\",\"Avengers\",\"Hellboy\",\"Dark Phoenix\",\"Shazam\",\"Joker\",\"Captain Marvel\"],\n",
        "\"William\":[\"Captain Marvel\",\"Joker\",\"Toy Story\",\"Avengers\",\"Aladdin\",\"Hellboy\",\"Shazam\",\"Dark Phoenix\",\"Spider-Man\",\"Dumbo\"]})\n",
        "\n",
        "def getInvCount(arr, n): \n",
        "    inv_count = 0\n",
        "    for i in range(n): \n",
        "        for j in range(i + 1, n): \n",
        "            if (arr[i] > arr[j]): \n",
        "                inv_count += 1\n",
        "    return inv_count \n",
        "\n",
        "def inversion(df1):\n",
        "  dict1=df1.iloc[:, 0].to_dict()\n",
        "  inv_dict1 = dict(zip(dict1.values(), dict1.keys()))\n",
        "  for i in range(len(df1.columns)):\n",
        "    df1=df1.replace({df1.columns[i]: inv_dict1}) \n",
        "  \n",
        "  lst=list()\n",
        "  for i in range(1,len(df1.columns)):\n",
        "    arr = list(df1[df1.columns[i]])\n",
        "    n = len(arr)\n",
        "    a=df1.columns[i], getInvCount(arr, n) \n",
        "    lst.append(a) \n",
        "\n",
        "  out_df=pd.DataFrame(lst).sort_values(by=[1])\n",
        "  return(list(out_df[0]))\n",
        "\n",
        "print(inversion(data1))\n",
        "print(inversion(data2))\n",
        "print(inversion(data3))"
      ],
      "execution_count": 0,
      "outputs": [
        {
          "output_type": "stream",
          "text": [
            "['turtle', 'cat', 'dog']\n",
            "['Wilson', 'Williams', 'Jones', 'Miller', 'Johnson', 'Brown', 'Davis']\n",
            "['Jacob', 'William', 'Oliver', 'Olivia', 'Sophia']\n"
          ],
          "name": "stdout"
        }
      ]
    },
    {
      "cell_type": "code",
      "metadata": {
        "id": "8JMm80HKcmnv",
        "colab_type": "code",
        "colab": {}
      },
      "source": [
        ""
      ],
      "execution_count": 0,
      "outputs": []
    }
  ]
}