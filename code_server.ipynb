{
  "nbformat": 4,
  "nbformat_minor": 0,
  "metadata": {
    "colab": {
      "name": "code-server.ipynb",
      "provenance": [],
      "mount_file_id": "https://github.com/sheikmohdimran/Experiments_2020/blob/master/code_server.ipynb",
      "authorship_tag": "ABX9TyMj6SnsyKfxe307EQRi3Awr",
      "include_colab_link": true
    },
    "kernelspec": {
      "name": "python3",
      "display_name": "Python 3"
    },
    "accelerator": "GPU"
  },
  "cells": [
    {
      "cell_type": "markdown",
      "metadata": {
        "id": "view-in-github",
        "colab_type": "text"
      },
      "source": [
        "<a href=\"https://colab.research.google.com/github/sheikmohdimran/Experiments_2020/blob/master/code_server.ipynb\" target=\"_parent\"><img src=\"https://colab.research.google.com/assets/colab-badge.svg\" alt=\"Open In Colab\"/></a>"
      ]
    },
    {
      "cell_type": "code",
      "metadata": {
        "id": "jxXQZ--AgiOr",
        "colab_type": "code",
        "colab": {}
      },
      "source": [
        "!curl -sSL https://github.com/cdr/code-server/releases/download/3.0.2/code-server-3.0.2-linux-x86_64.tar.gz|tar -xz\n",
        "!wget https://bin.equinox.io/c/4VmDzA7iaHb/ngrok-stable-linux-amd64.zip\n",
        "!unzip -q ngrok-stable-linux-amd64.zip\n",
        "\n",
        "# This step needs to be done to avoid too many connections error\n",
        "print(\"Get your authtoken from https://dashboard.ngrok.com/auth\")\n",
        "import getpass\n",
        "authtoken = getpass.getpass()"
      ],
      "execution_count": 0,
      "outputs": []
    },
    {
      "cell_type": "code",
      "metadata": {
        "id": "3vtWte537BAo",
        "colab_type": "code",
        "colab": {}
      },
      "source": [
        "#Create tunnel\n",
        "!./ngrok authtoken $authtoken & ./ngrok http 8443 --log=stdout & ./code-server-3.0.2-linux-x86_64/code-server --port '8443' --auth 'none'"
      ],
      "execution_count": 0,
      "outputs": []
    }
  ]
}