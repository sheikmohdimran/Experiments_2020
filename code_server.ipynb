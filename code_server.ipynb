{
  "nbformat": 4,
  "nbformat_minor": 0,
  "metadata": {
    "colab": {
      "name": "code-server.ipynb",
      "provenance": [],
      "authorship_tag": "ABX9TyNLVzU9Wch7exn9aUSJO/rZ",
      "include_colab_link": true
    },
    "kernelspec": {
      "name": "python3",
      "display_name": "Python 3"
    },
    "accelerator": "GPU"
  },
  "cells": [
    {
      "cell_type": "markdown",
      "metadata": {
        "id": "view-in-github",
        "colab_type": "text"
      },
      "source": [
        "<a href=\"https://colab.research.google.com/github/sheikmohdimran/Experiments_2020/blob/master/code_server.ipynb\" target=\"_parent\"><img src=\"https://colab.research.google.com/assets/colab-badge.svg\" alt=\"Open In Colab\"/></a>"
      ]
    },
    {
      "cell_type": "code",
      "metadata": {
        "id": "TKv2WZf-sYC0",
        "colab_type": "code",
        "outputId": "fa8b0fc5-889e-4896-af0a-5abd83ab4f02",
        "colab": {
          "base_uri": "https://localhost:8080/",
          "height": 128
        }
      },
      "source": [
        "# link to google drive\n",
        "from google.colab import drive\n",
        "drive.mount('/content/gdrive/')"
      ],
      "execution_count": 0,
      "outputs": [
        {
          "output_type": "stream",
          "text": [
            "Go to this URL in a browser: https://accounts.google.com/o/oauth2/auth?client_id=947318989803-6bn6qk8qdgf4n4g3pfee6491hc0brc4i.apps.googleusercontent.com&redirect_uri=urn%3aietf%3awg%3aoauth%3a2.0%3aoob&response_type=code&scope=email%20https%3a%2f%2fwww.googleapis.com%2fauth%2fdocs.test%20https%3a%2f%2fwww.googleapis.com%2fauth%2fdrive%20https%3a%2f%2fwww.googleapis.com%2fauth%2fdrive.photos.readonly%20https%3a%2f%2fwww.googleapis.com%2fauth%2fpeopleapi.readonly\n",
            "\n",
            "Enter your authorization code:\n",
            "··········\n",
            "Mounted at /content/gdrive/\n"
          ],
          "name": "stdout"
        }
      ]
    },
    {
      "cell_type": "code",
      "metadata": {
        "id": "jxXQZ--AgiOr",
        "colab_type": "code",
        "outputId": "9ccc0c6b-3450-4537-a6e0-533f30e29d0b",
        "colab": {
          "base_uri": "https://localhost:8080/",
          "height": 344
        }
      },
      "source": [
        "!curl -sSL https://github.com/cdr/code-server/releases/download/2.1698/code-server2.1698-vsc1.41.1-linux-x86_64.tar.gz| tar -xvz\n",
        "!wget https://bin.equinox.io/c/4VmDzA7iaHb/ngrok-stable-linux-amd64.zip\n",
        "!unzip ngrok-stable-linux-amd64.zip"
      ],
      "execution_count": 0,
      "outputs": [
        {
          "output_type": "stream",
          "text": [
            "code-server2.1698-vsc1.41.1-linux-x86_64/\n",
            "code-server2.1698-vsc1.41.1-linux-x86_64/README.md\n",
            "code-server2.1698-vsc1.41.1-linux-x86_64/code-server\n",
            "code-server2.1698-vsc1.41.1-linux-x86_64/LICENSE.txt\n",
            "code-server2.1698-vsc1.41.1-linux-x86_64/ThirdPartyNotices.txt\n",
            "--2020-03-19 08:25:34--  https://bin.equinox.io/c/4VmDzA7iaHb/ngrok-stable-linux-amd64.zip\n",
            "Resolving bin.equinox.io (bin.equinox.io)... 52.22.117.137, 34.226.145.86, 52.87.72.17, ...\n",
            "Connecting to bin.equinox.io (bin.equinox.io)|52.22.117.137|:443... connected.\n",
            "HTTP request sent, awaiting response... 200 OK\n",
            "Length: 13773305 (13M) [application/octet-stream]\n",
            "Saving to: ‘ngrok-stable-linux-amd64.zip’\n",
            "\n",
            "ngrok-stable-linux- 100%[===================>]  13.13M  13.9MB/s    in 0.9s    \n",
            "\n",
            "2020-03-19 08:25:35 (13.9 MB/s) - ‘ngrok-stable-linux-amd64.zip’ saved [13773305/13773305]\n",
            "\n",
            "Archive:  ngrok-stable-linux-amd64.zip\n",
            "  inflating: ngrok                   \n"
          ],
          "name": "stdout"
        }
      ]
    },
    {
      "cell_type": "code",
      "metadata": {
        "id": "ZnOmwPPzgkB2",
        "colab_type": "code",
        "outputId": "419e1d39-fdb8-4d8e-bd41-23932628cf2e",
        "colab": {
          "base_uri": "https://localhost:8080/",
          "height": 53
        }
      },
      "source": [
        "# This step needs to be done to avoid too many connections error\n",
        "print(\"Get your authtoken from https://dashboard.ngrok.com/auth\")\n",
        "import getpass\n",
        "authtoken = getpass.getpass()"
      ],
      "execution_count": 0,
      "outputs": [
        {
          "output_type": "stream",
          "text": [
            "Get your authtoken from https://dashboard.ngrok.com/auth\n",
            "··········\n"
          ],
          "name": "stdout"
        }
      ]
    },
    {
      "cell_type": "code",
      "metadata": {
        "id": "qz8Dcguk8h_P",
        "colab_type": "code",
        "outputId": "c38f184a-e471-4c2e-fd8e-2507aea964fc",
        "colab": {
          "base_uri": "https://localhost:8080/",
          "height": 1000
        }
      },
      "source": [
        "#Create tunnel\n",
        "!./ngrok authtoken $authtoken & ./ngrok http 8443 --log=stdout & ./code-server2.1698-vsc1.41.1-linux-x86_64/code-server --port '8443' --auth 'none'"
      ],
      "execution_count": 0,
      "outputs": [
        {
          "output_type": "stream",
          "text": [
            "Authtoken saved to configuration file: /root/.ngrok2/ngrok.yml\n",
            "\u001b[32mINFO\u001b[0m[03-19|08:43:57] no configuration paths supplied \n",
            "\u001b[32mINFO\u001b[0m[03-19|08:43:57] using configuration at default config path \u001b[32mpath\u001b[0m=/root/.ngrok2/ngrok.yml\n",
            "\u001b[32mINFO\u001b[0m[03-19|08:43:57] open config file                         \u001b[32mpath\u001b[0m=/root/.ngrok2/ngrok.yml \u001b[32merr\u001b[0m=nil\n",
            "t=2020-03-19T08:43:57+0000 lvl=info msg=\"starting web service\" obj=web addr=127.0.0.1:4040\n",
            "t=2020-03-19T08:43:57+0000 lvl=info msg=\"tunnel session started\" obj=tunnels.session\n",
            "t=2020-03-19T08:43:57+0000 lvl=info msg=\"client session established\" obj=csess id=f63138c6c69a\n",
            "\u001b[38;2;255;157;0mwarn  \u001b[0mundefined\u001b[0m\n",
            "\u001b[38;2;0;143;191minfo  \u001b[0mServer listening on http://localhost:8443\u001b[0m\n",
            "\u001b[38;2;0;143;191minfo  \u001b[0m  - No authentication\u001b[0m\n",
            "\u001b[38;2;0;143;191minfo  \u001b[0m  - Not serving HTTPS\u001b[0m\n",
            "t=2020-03-19T08:43:57+0000 lvl=info msg=\"started tunnel\" obj=tunnels name=\"command_line (http)\" addr=http://localhost:8443 url=http://989d2a2f.ngrok.io\n",
            "t=2020-03-19T08:43:57+0000 lvl=info msg=\"started tunnel\" obj=tunnels name=command_line addr=http://localhost:8443 url=https://989d2a2f.ngrok.io\n",
            "t=2020-03-19T08:44:04+0000 lvl=info msg=\"join connections\" obj=join id=ec562f0eb2de l=127.0.0.1:8443 r=[2409:4072:631c:cf76:6d54:5156:e09b:b7a8]:56601\n",
            "t=2020-03-19T08:44:04+0000 lvl=info msg=\"join connections\" obj=join id=b2ac9f8392e4 l=127.0.0.1:8443 r=[2409:4072:631c:cf76:6d54:5156:e09b:b7a8]:56601\n",
            "t=2020-03-19T08:44:05+0000 lvl=info msg=\"join connections\" obj=join id=fdd9a1739d8e l=127.0.0.1:8443 r=[2409:4072:631c:cf76:6d54:5156:e09b:b7a8]:56606\n",
            "t=2020-03-19T08:44:05+0000 lvl=info msg=\"join connections\" obj=join id=e332283089b8 l=127.0.0.1:8443 r=[2409:4072:631c:cf76:6d54:5156:e09b:b7a8]:56604\n",
            "t=2020-03-19T08:44:05+0000 lvl=info msg=\"join connections\" obj=join id=c27c4fed2b79 l=127.0.0.1:8443 r=[2409:4072:631c:cf76:6d54:5156:e09b:b7a8]:56605\n",
            "t=2020-03-19T08:44:08+0000 lvl=info msg=\"join connections\" obj=join id=af2765e3e619 l=127.0.0.1:8443 r=[2409:4072:631c:cf76:6d54:5156:e09b:b7a8]:56601\n",
            "t=2020-03-19T08:44:08+0000 lvl=info msg=\"join connections\" obj=join id=1ed5af8eeb97 l=127.0.0.1:8443 r=[2409:4072:631c:cf76:6d54:5156:e09b:b7a8]:56605\n",
            "t=2020-03-19T08:44:11+0000 lvl=info msg=\"join connections\" obj=join id=9e5a3ab9aa24 l=127.0.0.1:8443 r=[2409:4072:631c:cf76:6d54:5156:e09b:b7a8]:56606\n",
            "t=2020-03-19T08:44:12+0000 lvl=info msg=\"join connections\" obj=join id=0b7b382b997e l=127.0.0.1:8443 r=[2409:4072:631c:cf76:6d54:5156:e09b:b7a8]:56601\n",
            "t=2020-03-19T08:44:12+0000 lvl=info msg=\"join connections\" obj=join id=f8d06ce92a54 l=127.0.0.1:8443 r=[2409:4072:631c:cf76:6d54:5156:e09b:b7a8]:56612\n",
            "t=2020-03-19T08:44:18+0000 lvl=info msg=\"join connections\" obj=join id=31f55e3a062b l=127.0.0.1:8443 r=[2409:4072:631c:cf76:6d54:5156:e09b:b7a8]:56606\n",
            "t=2020-03-19T08:44:18+0000 lvl=info msg=\"join connections\" obj=join id=db05189e0565 l=127.0.0.1:8443 r=[2409:4072:631c:cf76:6d54:5156:e09b:b7a8]:56601\n",
            "t=2020-03-19T08:44:18+0000 lvl=info msg=\"join connections\" obj=join id=38193408f160 l=127.0.0.1:8443 r=[2409:4072:631c:cf76:6d54:5156:e09b:b7a8]:56605\n",
            "t=2020-03-19T08:44:18+0000 lvl=info msg=\"join connections\" obj=join id=c4307b7a6bf2 l=127.0.0.1:8443 r=[2409:4072:631c:cf76:6d54:5156:e09b:b7a8]:56604\n",
            "t=2020-03-19T08:44:18+0000 lvl=info msg=\"join connections\" obj=join id=971f5ecd4c87 l=127.0.0.1:8443 r=[2409:4072:631c:cf76:6d54:5156:e09b:b7a8]:56614\n",
            "t=2020-03-19T08:44:18+0000 lvl=info msg=\"join connections\" obj=join id=272a8dc690cd l=127.0.0.1:8443 r=[2409:4072:631c:cf76:6d54:5156:e09b:b7a8]:56615\n",
            "t=2020-03-19T08:44:18+0000 lvl=info msg=\"join connections\" obj=join id=20ca8b14c3ba l=127.0.0.1:8443 r=[2409:4072:631c:cf76:6d54:5156:e09b:b7a8]:56604\n",
            "t=2020-03-19T08:44:18+0000 lvl=info msg=\"join connections\" obj=join id=15f8e785cf52 l=127.0.0.1:8443 r=[2409:4072:631c:cf76:6d54:5156:e09b:b7a8]:56616\n",
            "t=2020-03-19T08:44:19+0000 lvl=info msg=\"join connections\" obj=join id=4fcc3cf8dc54 l=127.0.0.1:8443 r=[2409:4072:631c:cf76:6d54:5156:e09b:b7a8]:56606\n",
            "t=2020-03-19T08:44:19+0000 lvl=info msg=\"join connections\" obj=join id=b2859e45bc2a l=127.0.0.1:8443 r=[2409:4072:631c:cf76:6d54:5156:e09b:b7a8]:56601\n",
            "t=2020-03-19T08:44:19+0000 lvl=info msg=\"join connections\" obj=join id=730fa8d0a817 l=127.0.0.1:8443 r=[2409:4072:631c:cf76:6d54:5156:e09b:b7a8]:56601\n",
            "t=2020-03-19T08:44:19+0000 lvl=info msg=\"join connections\" obj=join id=3ceabc0db483 l=127.0.0.1:8443 r=[2409:4072:631c:cf76:6d54:5156:e09b:b7a8]:56605\n",
            "t=2020-03-19T08:44:21+0000 lvl=info msg=\"join connections\" obj=join id=82ce4a9b2f2d l=127.0.0.1:8443 r=[2409:4072:631c:cf76:6d54:5156:e09b:b7a8]:56606\n",
            "t=2020-03-19T08:44:46+0000 lvl=info msg=\"join connections\" obj=join id=29833d9706d8 l=127.0.0.1:8443 r=[2409:4072:631c:cf76:6d54:5156:e09b:b7a8]:56606\n",
            "t=2020-03-19T08:44:47+0000 lvl=info msg=\"join connections\" obj=join id=f7f6e65cf0a5 l=127.0.0.1:8443 r=[2409:4072:631c:cf76:6d54:5156:e09b:b7a8]:56620\n",
            "t=2020-03-19T08:44:52+0000 lvl=info msg=\"join connections\" obj=join id=6e0eaf9864b2 l=127.0.0.1:8443 r=[2409:4072:631c:cf76:6d54:5156:e09b:b7a8]:56606\n",
            "t=2020-03-19T08:44:52+0000 lvl=info msg=\"join connections\" obj=join id=fc6bed7e3cd0 l=127.0.0.1:8443 r=[2409:4072:631c:cf76:6d54:5156:e09b:b7a8]:56601\n",
            "t=2020-03-19T08:44:53+0000 lvl=info msg=\"join connections\" obj=join id=d993f77becb9 l=127.0.0.1:8443 r=[2409:4072:631c:cf76:6d54:5156:e09b:b7a8]:56622\n",
            "t=2020-03-19T08:44:53+0000 lvl=info msg=\"join connections\" obj=join id=dad5e60f5d70 l=127.0.0.1:8443 r=[2409:4072:631c:cf76:6d54:5156:e09b:b7a8]:56606\n",
            "t=2020-03-19T08:45:08+0000 lvl=info msg=\"join connections\" obj=join id=242dc5a35d33 l=127.0.0.1:8443 r=[2409:4072:631c:cf76:6d54:5156:e09b:b7a8]:56606\n",
            "t=2020-03-19T08:45:10+0000 lvl=info msg=\"join connections\" obj=join id=15257c2881ba l=127.0.0.1:8443 r=[2409:4072:631c:cf76:6d54:5156:e09b:b7a8]:56606\n",
            "t=2020-03-19T08:45:14+0000 lvl=info msg=\"join connections\" obj=join id=10f5f9550403 l=127.0.0.1:8443 r=[2409:4072:631c:cf76:6d54:5156:e09b:b7a8]:56606\n",
            "t=2020-03-19T08:45:14+0000 lvl=info msg=\"join connections\" obj=join id=0764789f11ad l=127.0.0.1:8443 r=[2409:4072:631c:cf76:6d54:5156:e09b:b7a8]:56601\n",
            "t=2020-03-19T08:45:14+0000 lvl=info msg=\"join connections\" obj=join id=fd95dde85c5a l=127.0.0.1:8443 r=[2409:4072:631c:cf76:6d54:5156:e09b:b7a8]:56606\n",
            "t=2020-03-19T08:45:15+0000 lvl=info msg=\"join connections\" obj=join id=db5f4bb7516f l=127.0.0.1:8443 r=[2409:4072:631c:cf76:6d54:5156:e09b:b7a8]:56606\n",
            "t=2020-03-19T08:45:15+0000 lvl=info msg=\"join connections\" obj=join id=1296337dc80b l=127.0.0.1:8443 r=[2409:4072:631c:cf76:6d54:5156:e09b:b7a8]:56601\n",
            "t=2020-03-19T08:45:16+0000 lvl=info msg=\"join connections\" obj=join id=ad96afa1737d l=127.0.0.1:8443 r=[2409:4072:631c:cf76:6d54:5156:e09b:b7a8]:56616\n",
            "t=2020-03-19T08:45:16+0000 lvl=info msg=\"join connections\" obj=join id=0f0487d53018 l=127.0.0.1:8443 r=[2409:4072:631c:cf76:6d54:5156:e09b:b7a8]:56605\n",
            "t=2020-03-19T08:45:27+0000 lvl=info msg=\"join connections\" obj=join id=3f57e201b75a l=127.0.0.1:8443 r=[2409:4072:631c:cf76:6d54:5156:e09b:b7a8]:56601\n",
            "t=2020-03-19T08:45:27+0000 lvl=info msg=\"join connections\" obj=join id=13b94e101f41 l=127.0.0.1:8443 r=[2409:4072:631c:cf76:6d54:5156:e09b:b7a8]:56605\n",
            "t=2020-03-19T08:45:28+0000 lvl=info msg=\"join connections\" obj=join id=0b0fef07310b l=127.0.0.1:8443 r=[2409:4072:631c:cf76:6d54:5156:e09b:b7a8]:56616\n",
            "t=2020-03-19T08:45:29+0000 lvl=info msg=\"join connections\" obj=join id=83897e86d425 l=127.0.0.1:8443 r=[2409:4072:631c:cf76:6d54:5156:e09b:b7a8]:56601\n",
            "t=2020-03-19T08:45:29+0000 lvl=info msg=\"join connections\" obj=join id=c52b02f59d19 l=127.0.0.1:8443 r=[2409:4072:631c:cf76:6d54:5156:e09b:b7a8]:56604\n",
            "t=2020-03-19T08:45:29+0000 lvl=info msg=\"join connections\" obj=join id=81ea9774a109 l=127.0.0.1:8443 r=[2409:4072:631c:cf76:6d54:5156:e09b:b7a8]:56615\n",
            "t=2020-03-19T08:45:29+0000 lvl=info msg=\"join connections\" obj=join id=4a8586d34406 l=127.0.0.1:8443 r=[2409:4072:631c:cf76:6d54:5156:e09b:b7a8]:56627\n",
            "t=2020-03-19T08:45:29+0000 lvl=info msg=\"join connections\" obj=join id=cbe39ca18ac9 l=127.0.0.1:8443 r=[2409:4072:631c:cf76:6d54:5156:e09b:b7a8]:56604\n",
            "t=2020-03-19T08:45:29+0000 lvl=info msg=\"join connections\" obj=join id=1eba297b85ba l=127.0.0.1:8443 r=[2409:4072:631c:cf76:6d54:5156:e09b:b7a8]:56605\n",
            "t=2020-03-19T08:45:30+0000 lvl=info msg=\"join connections\" obj=join id=1ecd89b4106a l=127.0.0.1:8443 r=[2409:4072:631c:cf76:6d54:5156:e09b:b7a8]:56616\n",
            "t=2020-03-19T08:45:30+0000 lvl=info msg=\"join connections\" obj=join id=36d563ca1fec l=127.0.0.1:8443 r=[2409:4072:631c:cf76:6d54:5156:e09b:b7a8]:56601\n",
            "t=2020-03-19T08:45:30+0000 lvl=info msg=\"join connections\" obj=join id=5e23b8deb236 l=127.0.0.1:8443 r=[2409:4072:631c:cf76:6d54:5156:e09b:b7a8]:56627\n",
            "t=2020-03-19T08:45:30+0000 lvl=info msg=\"join connections\" obj=join id=a2d24a9f0d57 l=127.0.0.1:8443 r=[2409:4072:631c:cf76:6d54:5156:e09b:b7a8]:56615\n",
            "t=2020-03-19T08:45:31+0000 lvl=info msg=\"join connections\" obj=join id=619cd4ff8b35 l=127.0.0.1:8443 r=[2409:4072:631c:cf76:6d54:5156:e09b:b7a8]:56605\n",
            "t=2020-03-19T08:45:31+0000 lvl=info msg=\"join connections\" obj=join id=b11bdf423242 l=127.0.0.1:8443 r=[2409:4072:631c:cf76:6d54:5156:e09b:b7a8]:56605\n",
            "t=2020-03-19T08:45:32+0000 lvl=info msg=\"join connections\" obj=join id=3c4c3e130146 l=127.0.0.1:8443 r=[2409:4072:631c:cf76:6d54:5156:e09b:b7a8]:56601\n",
            "t=2020-03-19T08:45:32+0000 lvl=info msg=\"join connections\" obj=join id=617096d3c98d l=127.0.0.1:8443 r=[2409:4072:631c:cf76:6d54:5156:e09b:b7a8]:56627\n",
            "t=2020-03-19T08:45:32+0000 lvl=info msg=\"join connections\" obj=join id=a7239bb8d6be l=127.0.0.1:8443 r=[2409:4072:631c:cf76:6d54:5156:e09b:b7a8]:56601\n",
            "t=2020-03-19T08:49:50+0000 lvl=info msg=\"join connections\" obj=join id=2c030a2709b0 l=127.0.0.1:8443 r=[2409:4072:631c:cf76:6d54:5156:e09b:b7a8]:54976\n",
            "t=2020-03-19T08:50:23+0000 lvl=info msg=\"join connections\" obj=join id=0ff376949db7 l=127.0.0.1:8443 r=[2409:4072:631c:cf76:6d54:5156:e09b:b7a8]:54985\n"
          ],
          "name": "stdout"
        }
      ]
    },
    {
      "cell_type": "code",
      "metadata": {
        "id": "ypXBvBP38zAj",
        "colab_type": "code",
        "colab": {}
      },
      "source": [
        ""
      ],
      "execution_count": 0,
      "outputs": []
    }
  ]
}