{
  "nbformat": 4,
  "nbformat_minor": 0,
  "metadata": {
    "colab": {
      "name": "code-server.ipynb",
      "provenance": [],
      "mount_file_id": "https://github.com/sheikmohdimran/Experiments_2020/blob/master/code_server.ipynb",
      "authorship_tag": "ABX9TyOEhJsj1hVsw54OOghXZ+Cz",
      "include_colab_link": true
    },
    "kernelspec": {
      "name": "python3",
      "display_name": "Python 3"
    },
    "accelerator": "GPU"
  },
  "cells": [
    {
      "cell_type": "markdown",
      "metadata": {
        "id": "view-in-github",
        "colab_type": "text"
      },
      "source": [
        "<a href=\"https://colab.research.google.com/github/sheikmohdimran/Experiments_2020/blob/master/code_server.ipynb\" target=\"_parent\"><img src=\"https://colab.research.google.com/assets/colab-badge.svg\" alt=\"Open In Colab\"/></a>"
      ]
    },
    {
      "cell_type": "code",
      "metadata": {
        "id": "jxXQZ--AgiOr",
        "colab": {
          "base_uri": "https://localhost:8080/"
        },
        "outputId": "295a7064-69a2-4b16-a7c1-5c9089df652c"
      },
      "source": [
        "!curl -sL https://api.github.com/repos/cdr/code-server/releases/latest | grep \"browser_download_url\" | cut -d '\"' -f 4 | grep \"linux-amd64.tar.gz\" | xargs -n 1 curl -sSL | tar -xz --strip-components=1\n",
        "!wget https://bin.equinox.io/c/4VmDzA7iaHb/ngrok-stable-linux-amd64.zip\n",
        "!unzip -q ngrok-stable-linux-amd64.zip\n",
        "get_ipython().system_raw('./ngrok http 8888 --log=stdout &')"
      ],
      "execution_count": 1,
      "outputs": [
        {
          "output_type": "stream",
          "text": [
            "--2021-01-03 13:18:35--  https://bin.equinox.io/c/4VmDzA7iaHb/ngrok-stable-linux-amd64.zip\n",
            "Resolving bin.equinox.io (bin.equinox.io)... 52.205.86.27, 52.55.159.231, 54.160.18.204, ...\n",
            "Connecting to bin.equinox.io (bin.equinox.io)|52.205.86.27|:443... connected.\n",
            "HTTP request sent, awaiting response... 200 OK\n",
            "Length: 13773305 (13M) [application/octet-stream]\n",
            "Saving to: ‘ngrok-stable-linux-amd64.zip’\n",
            "\n",
            "ngrok-stable-linux- 100%[===================>]  13.13M  13.9MB/s    in 0.9s    \n",
            "\n",
            "2021-01-03 13:18:36 (13.9 MB/s) - ‘ngrok-stable-linux-amd64.zip’ saved [13773305/13773305]\n",
            "\n"
          ],
          "name": "stdout"
        }
      ]
    },
    {
      "cell_type": "code",
      "metadata": {
        "id": "mNYkJttbGqIh",
        "colab": {
          "base_uri": "https://localhost:8080/"
        },
        "outputId": "5593b811-9162-4fae-87b5-1105b5d7e4e1"
      },
      "source": [
        "%%sh\n",
        "# get url with ngrok\n",
        "curl -s http://localhost:4040/api/tunnels | python3 -c \"import sys, json; print(json.load(sys.stdin)['tunnels'][0]['public_url'])\""
      ],
      "execution_count": 2,
      "outputs": [
        {
          "output_type": "stream",
          "text": [
            "https://8602a0e96861.ngrok.io\n"
          ],
          "name": "stdout"
        }
      ]
    },
    {
      "cell_type": "code",
      "metadata": {
        "id": "3vtWte537BAo",
        "colab": {
          "base_uri": "https://localhost:8080/"
        },
        "outputId": "d60312a4-a763-44a6-e9c3-fcec654cb244"
      },
      "source": [
        "#Create tunnel\n",
        "!./bin/code-server --port '8888' --auth 'none'"
      ],
      "execution_count": 3,
      "outputs": [
        {
          "output_type": "stream",
          "text": [
            "[2021-01-03T13:18:49.150Z] \u001b[38;2;0;143;191minfo  \u001b[0mWrote default config file to ~/.config/code-server/config.yaml\u001b[0m\n",
            "[2021-01-03T13:18:49.570Z] info  code-server 3.8.0 c4610f7829701aadb045d450013b84491c30580d\n",
            "[2021-01-03T13:18:49.571Z] info  Using user-data-dir ~/.local/share/code-server\n",
            "[2021-01-03T13:18:49.589Z] info  Using config file ~/.config/code-server/config.yaml\n",
            "[2021-01-03T13:18:49.589Z] info  HTTP server listening on http://127.0.0.1:8888 \n",
            "[2021-01-03T13:18:49.589Z] info    - Authentication is disabled \n",
            "[2021-01-03T13:18:49.589Z] info    - Not serving HTTPS \n",
            "^C\n"
          ],
          "name": "stdout"
        }
      ]
    },
    {
      "cell_type": "code",
      "metadata": {
        "id": "CKtIXZbHZno5"
      },
      "source": [
        ""
      ],
      "execution_count": null,
      "outputs": []
    }
  ]
}