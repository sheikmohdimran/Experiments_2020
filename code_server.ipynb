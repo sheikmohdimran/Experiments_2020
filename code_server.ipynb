{
  "nbformat": 4,
  "nbformat_minor": 0,
  "metadata": {
    "colab": {
      "name": "code-server.ipynb",
      "provenance": [],
      "authorship_tag": "ABX9TyP61WcHk1y+U7rb3LJo6pB6",
      "include_colab_link": true
    },
    "kernelspec": {
      "name": "python3",
      "display_name": "Python 3"
    },
    "accelerator": "GPU"
  },
  "cells": [
    {
      "cell_type": "markdown",
      "metadata": {
        "id": "view-in-github",
        "colab_type": "text"
      },
      "source": [
        "<a href=\"https://colab.research.google.com/github/sheikmohdimran/Experiments_2020/blob/master/code_server.ipynb\" target=\"_parent\"><img src=\"https://colab.research.google.com/assets/colab-badge.svg\" alt=\"Open In Colab\"/></a>"
      ]
    },
    {
      "cell_type": "code",
      "metadata": {
        "id": "jxXQZ--AgiOr",
        "colab_type": "code",
        "outputId": "b324e4f3-37e3-4179-85f6-a68852ae4ff3",
        "colab": {
          "base_uri": "https://localhost:8080/",
          "height": 253
        }
      },
      "source": [
        "!curl -sSL https://github.com/cdr/code-server/releases/download/2.1698/code-server2.1698-vsc1.41.1-linux-x86_64.tar.gz| tar -xz\n",
        "!wget https://bin.equinox.io/c/4VmDzA7iaHb/ngrok-stable-linux-amd64.zip\n",
        "!unzip -q ngrok-stable-linux-amd64.zip\n",
        "\n",
        "# This step needs to be done to avoid too many connections error\n",
        "print(\"Get your authtoken from https://dashboard.ngrok.com/auth\")\n",
        "import getpass\n",
        "authtoken = getpass.getpass()"
      ],
      "execution_count": 1,
      "outputs": [
        {
          "output_type": "stream",
          "text": [
            "--2020-04-02 17:19:18--  https://bin.equinox.io/c/4VmDzA7iaHb/ngrok-stable-linux-amd64.zip\n",
            "Resolving bin.equinox.io (bin.equinox.io)... 34.235.226.28, 52.7.103.227, 52.5.204.126, ...\n",
            "Connecting to bin.equinox.io (bin.equinox.io)|34.235.226.28|:443... connected.\n",
            "HTTP request sent, awaiting response... 200 OK\n",
            "Length: 13773305 (13M) [application/octet-stream]\n",
            "Saving to: ‘ngrok-stable-linux-amd64.zip’\n",
            "\n",
            "ngrok-stable-linux- 100%[===================>]  13.13M  16.4MB/s    in 0.8s    \n",
            "\n",
            "2020-04-02 17:19:20 (16.4 MB/s) - ‘ngrok-stable-linux-amd64.zip’ saved [13773305/13773305]\n",
            "\n",
            "Get your authtoken from https://dashboard.ngrok.com/auth\n",
            "··········\n"
          ],
          "name": "stdout"
        }
      ]
    },
    {
      "cell_type": "code",
      "metadata": {
        "id": "qz8Dcguk8h_P",
        "colab_type": "code",
        "outputId": "4095855f-2fb9-4760-8ec4-ffd7aeac4df2",
        "colab": {
          "base_uri": "https://localhost:8080/",
          "height": 302
        }
      },
      "source": [
        "#Create tunnel\n",
        "!./ngrok authtoken $authtoken & ./ngrok http 8443 --log=stdout & ./code-server2.1698-vsc1.41.1-linux-x86_64/code-server --port '8443' --auth 'none'"
      ],
      "execution_count": 0,
      "outputs": [
        {
          "output_type": "stream",
          "text": [
            "Authtoken saved to configuration file: /root/.ngrok2/ngrok.yml\n",
            "\u001b[32mINFO\u001b[0m[04-02|17:19:46] no configuration paths supplied \n",
            "\u001b[32mINFO\u001b[0m[04-02|17:19:46] using configuration at default config path \u001b[32mpath\u001b[0m=/root/.ngrok2/ngrok.yml\n",
            "\u001b[32mINFO\u001b[0m[04-02|17:19:46] open config file                         \u001b[32mpath\u001b[0m=/root/.ngrok2/ngrok.yml \u001b[32merr\u001b[0m=nil\n",
            "t=2020-04-02T17:19:46+0000 lvl=info msg=\"starting web service\" obj=web addr=127.0.0.1:4040\n",
            "t=2020-04-02T17:19:46+0000 lvl=info msg=\"tunnel session started\" obj=tunnels.session\n",
            "t=2020-04-02T17:19:46+0000 lvl=info msg=\"client session established\" obj=csess id=77bde8778643\n",
            "t=2020-04-02T17:19:46+0000 lvl=info msg=\"started tunnel\" obj=tunnels name=\"command_line (http)\" addr=http://localhost:8443 url=http://c78d44cb.ngrok.io\n",
            "t=2020-04-02T17:19:46+0000 lvl=info msg=\"started tunnel\" obj=tunnels name=command_line addr=http://localhost:8443 url=https://c78d44cb.ngrok.io\n",
            "\u001b[38;2;0;143;191minfo  \u001b[0mServer listening on http://localhost:8443\u001b[0m\n",
            "\u001b[38;2;0;143;191minfo  \u001b[0m  - No authentication\u001b[0m\n",
            "\u001b[38;2;0;143;191minfo  \u001b[0m  - Not serving HTTPS\u001b[0m\n",
            "\u001b[38;2;255;157;0mwarn  \u001b[0mundefined\u001b[0m\n"
          ],
          "name": "stdout"
        }
      ]
    },
    {
      "cell_type": "code",
      "metadata": {
        "id": "ypXBvBP38zAj",
        "colab_type": "code",
        "colab": {}
      },
      "source": [
        ""
      ],
      "execution_count": 0,
      "outputs": []
    }
  ]
}