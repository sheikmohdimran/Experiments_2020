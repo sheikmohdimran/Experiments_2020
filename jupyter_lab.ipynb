{
  "nbformat": 4,
  "nbformat_minor": 0,
  "metadata": {
    "colab": {
      "name": "jupyterlab",
      "provenance": [],
      "authorship_tag": "ABX9TyPNW6oGQZByGb4QPQz14Ewm",
      "include_colab_link": true
    },
    "kernelspec": {
      "name": "python3",
      "display_name": "Python 3"
    },
    "accelerator": "GPU"
  },
  "cells": [
    {
      "cell_type": "markdown",
      "metadata": {
        "id": "view-in-github",
        "colab_type": "text"
      },
      "source": [
        "<a href=\"https://colab.research.google.com/github/sheikmohdimran/Experiments_2020/blob/master/jupyter_lab.ipynb\" target=\"_parent\"><img src=\"https://colab.research.google.com/assets/colab-badge.svg\" alt=\"Open In Colab\"/></a>"
      ]
    },
    {
      "cell_type": "markdown",
      "metadata": {
        "id": "5q1aITcjmXb2"
      },
      "source": [
        "# JupyterLab with localtunnel - ngrok alternative"
      ]
    },
    {
      "cell_type": "code",
      "metadata": {
        "id": "C-aHdUTuSzHM",
        "colab": {
          "base_uri": "https://localhost:8080/"
        },
        "outputId": "cb56d462-54df-46c2-c6a2-45465e07bc6b"
      },
      "source": [
        "# https://medium.com/@swaroopkml96/jupyterlab-and-google-drive-integration-with-google-colab-42a8d64a9b63\r\n",
        "!npm install -g localtunnel\r\n",
        "!pip install -Uqq jupyterlab\r\n",
        "import os\r\n",
        "os.kill(os.getpid(), 9)"
      ],
      "execution_count": null,
      "outputs": [
        {
          "output_type": "stream",
          "text": [
            "\u001b[K\u001b[?25h/tools/node/bin/lt -> /tools/node/lib/node_modules/localtunnel/bin/lt.js\n",
            "+ localtunnel@2.0.1\n",
            "added 22 packages from 22 contributors in 1.653s\n",
            "\u001b[K     |████████████████████████████████| 8.3MB 13.8MB/s \n",
            "\u001b[K     |████████████████████████████████| 430kB 28.2MB/s \n",
            "\u001b[K     |████████████████████████████████| 51kB 6.8MB/s \n",
            "\u001b[K     |████████████████████████████████| 194kB 55.3MB/s \n",
            "\u001b[K     |████████████████████████████████| 61kB 9.9MB/s \n",
            "\u001b[K     |████████████████████████████████| 71kB 10.0MB/s \n",
            "\u001b[K     |████████████████████████████████| 112kB 60.5MB/s \n",
            "\u001b[K     |████████████████████████████████| 102kB 14.3MB/s \n",
            "\u001b[?25h  Building wheel for contextvars (setup.py) ... \u001b[?25l\u001b[?25hdone\n",
            "\u001b[31mERROR: google-colab 1.0.0 has requirement tornado~=5.1.0; python_version >= \"3.0\", but you'll have tornado 6.1 which is incompatible.\u001b[0m\n"
          ],
          "name": "stdout"
        }
      ]
    },
    {
      "cell_type": "code",
      "metadata": {
        "colab": {
          "base_uri": "https://localhost:8080/"
        },
        "id": "YnH1jgNAWbrz",
        "outputId": "52bf3546-15af-47bc-b407-d0a456c23dce"
      },
      "source": [
        "from jupyter_server.auth import passwd\r\n",
        "passwd = passwd(\"your_password\")\r\n",
        "\r\n",
        "jupyter_running = !jupyter server list | grep 8888\r\n",
        "if not jupyter_running:\r\n",
        "  get_ipython().system_raw('jupyter lab --allow-root --ServerApp.password=\"{passwd}\" --ServerApp.allow_remote_access=True &')\r\n",
        "\r\n",
        "!lt -p 8888 -s imran"
      ],
      "execution_count": 1,
      "outputs": [
        {
          "output_type": "stream",
          "text": [
            "your url is: https://imran.loca.lt\n",
            "^C\n"
          ],
          "name": "stdout"
        }
      ]
    },
    {
      "cell_type": "code",
      "metadata": {
        "id": "V3nREciolpZ6"
      },
      "source": [
        ""
      ],
      "execution_count": null,
      "outputs": []
    }
  ]
}