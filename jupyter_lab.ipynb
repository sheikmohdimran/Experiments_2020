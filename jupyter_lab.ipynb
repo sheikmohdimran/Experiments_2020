{
  "nbformat": 4,
  "nbformat_minor": 0,
  "metadata": {
    "colab": {
      "name": "code-server.ipynb",
      "provenance": [],
      "toc_visible": true,
      "mount_file_id": "https://github.com/sheikmohdimran/Experiments_2020/blob/master/jupyter_lab.ipynb",
      "authorship_tag": "ABX9TyMpOuFXUuGjnUhfT/98LDFz",
      "include_colab_link": true
    },
    "kernelspec": {
      "name": "python3",
      "display_name": "Python 3"
    },
    "accelerator": "GPU"
  },
  "cells": [
    {
      "cell_type": "markdown",
      "metadata": {
        "id": "view-in-github",
        "colab_type": "text"
      },
      "source": [
        "<a href=\"https://colab.research.google.com/github/sheikmohdimran/Experiments_2020/blob/master/jupyter_lab.ipynb\" target=\"_parent\"><img src=\"https://colab.research.google.com/assets/colab-badge.svg\" alt=\"Open In Colab\"/></a>"
      ]
    },
    {
      "cell_type": "code",
      "metadata": {
        "id": "yw-l7sgEE9BM",
        "colab_type": "code",
        "colab": {}
      },
      "source": [
        "!git clone https://github.com/fastai/course-v4 'drive/My Drive/course-v4'"
      ],
      "execution_count": 0,
      "outputs": []
    },
    {
      "cell_type": "code",
      "metadata": {
        "id": "jxXQZ--AgiOr",
        "colab_type": "code",
        "colab": {}
      },
      "source": [
        "!wget https://bin.equinox.io/c/4VmDzA7iaHb/ngrok-stable-linux-amd64.zip\n",
        "!unzip -q ngrok-stable-linux-amd64.zip\n",
        "# This step needs to be done to avoid too many connections error\n",
        "print(\"Get your authtoken from https://dashboard.ngrok.com/auth\")\n",
        "import getpass\n",
        "authtoken = getpass.getpass()"
      ],
      "execution_count": 0,
      "outputs": []
    },
    {
      "cell_type": "code",
      "metadata": {
        "id": "750Zhgt-7Jn8",
        "colab_type": "code",
        "colab": {}
      },
      "source": [
        "!npm cache clean -f\n",
        "!npm install -g n \n",
        "!n stable\n",
        "!pip install -q jupyterlab\n",
        "!jupyter labextension install @jupyter-widgets/jupyterlab-manager"
      ],
      "execution_count": 0,
      "outputs": []
    },
    {
      "cell_type": "code",
      "metadata": {
        "id": "oraTQVcNSAd_",
        "colab_type": "code",
        "colab": {}
      },
      "source": [
        "#Create tunnel\n",
        "!./ngrok authtoken $authtoken & ./ngrok http 8888 --log=stdout & jupyter lab --ip 0.0.0.0"
      ],
      "execution_count": 0,
      "outputs": []
    }
  ]
}